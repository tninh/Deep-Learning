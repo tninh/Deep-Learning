{
 "cells": [
  {
   "cell_type": "code",
   "execution_count": 164,
   "metadata": {},
   "outputs": [],
   "source": [
    "import pandas as pd\n",
    "import numpy as np\n",
    "import matplotlib.pyplot as plt\n",
    "import h5py"
   ]
  },
  {
   "cell_type": "code",
   "execution_count": 165,
   "metadata": {},
   "outputs": [],
   "source": [
    "x_train = np.load('ex5_train_x.npy')"
   ]
  },
  {
   "cell_type": "code",
   "execution_count": 166,
   "metadata": {},
   "outputs": [],
   "source": [
    "x_train = (x_train / 255.)"
   ]
  },
  {
   "cell_type": "code",
   "execution_count": 167,
   "metadata": {},
   "outputs": [],
   "source": [
    "y_train = np.load('ex5_train_y.npy')"
   ]
  },
  {
   "cell_type": "code",
   "execution_count": 168,
   "metadata": {},
   "outputs": [
    {
     "data": {
      "text/plain": [
       "numpy.ndarray"
      ]
     },
     "execution_count": 168,
     "metadata": {},
     "output_type": "execute_result"
    }
   ],
   "source": [
    "type(y_train)"
   ]
  },
  {
   "cell_type": "code",
   "execution_count": 169,
   "metadata": {},
   "outputs": [],
   "source": [
    "def zero_pad(x, pad):\n",
    "    x_pad = np.pad(x, ((0,0),(pad, pad), (pad, pad), (0,0)), 'constant', constant_values=0)\n",
    "    return x_pad"
   ]
  },
  {
   "cell_type": "code",
   "execution_count": 170,
   "metadata": {},
   "outputs": [],
   "source": [
    "np.random.seed(1)\n",
    "x_pad = zero_pad(x_train, 2)"
   ]
  },
  {
   "cell_type": "code",
   "execution_count": 171,
   "metadata": {},
   "outputs": [
    {
     "data": {
      "text/plain": [
       "((1020, 68, 68, 3), (1020, 64, 64, 3))"
      ]
     },
     "execution_count": 171,
     "metadata": {},
     "output_type": "execute_result"
    }
   ],
   "source": [
    "x_pad.shape, x_train.shape"
   ]
  },
  {
   "cell_type": "code",
   "execution_count": 172,
   "metadata": {},
   "outputs": [],
   "source": [
    "def conv_single_step(a_slice_prev, w, b):\n",
    "    s = np.multiply(a_slice_prev, w) + b\n",
    "    z = np.sum(s)\n",
    "    return z"
   ]
  },
  {
   "cell_type": "code",
   "execution_count": 173,
   "metadata": {},
   "outputs": [],
   "source": [
    "def conv_forward(A_prev, W, b, hparameters):\n",
    "    \n",
    "    (m, n_H_prev, n_W_prev, n_C_prev) = A_prev.shape\n",
    "    \n",
    "    (f, f, n_C_prev, n_C) = W.shape\n",
    "\n",
    "    \n",
    "    stride = hparameters['stride']\n",
    "    pad = hparameters['pad']\n",
    "    \n",
    "    \n",
    "    n_H = int((n_H_prev - f + 2 * pad) / stride) + 1\n",
    "    n_W = int((n_W_prev - f + 2 * pad) / stride) + 1\n",
    "    \n",
    "   \n",
    "    Z = np.zeros((m, n_H, n_W, n_C))\n",
    "    A = np.zeros((m, n_H, n_W, n_C))\n",
    "    \n",
    "    A_prev_pad = zero_pad(A_prev, pad)\n",
    "    \n",
    "    for i in range(m):                                 \n",
    "        a_prev_pad = A_prev_pad[i]                     \n",
    "        for h in range(n_H):                          \n",
    "            for w in range(n_W):                       \n",
    "                for c in range(n_C):                  \n",
    "                   \n",
    "                    vert_start = h * stride\n",
    "                    vert_end = vert_start + f\n",
    "                    horiz_start = w * stride\n",
    "                    horiz_end = horiz_start + f\n",
    "                   \n",
    "                    a_slice_prev = a_prev_pad[vert_start:vert_end, horiz_start:horiz_end, :]\n",
    "                   \n",
    "                    Z[i, h, w, c] = conv_single_step(a_slice_prev, W[...,c], b[...,c])\n",
    "                    A[i, h, w, c] = relu(Z[i, h, w, c])\n",
    "    \n",
    "    assert(Z.shape == (m, n_H, n_W, n_C))\n",
    "    \n",
    "   \n",
    "    cache = (A_prev, W, b, hparameters)\n",
    "    \n",
    "    return A, cache"
   ]
  },
  {
   "cell_type": "code",
   "execution_count": 174,
   "metadata": {},
   "outputs": [],
   "source": [
    "def pool_forward(A_prev, hparameters, mode=\"max\"):\n",
    "    (m, n_H_prev, n_W_prev, n_C_prev) = A_prev.shape\n",
    "    f = hparameters[\"f\"]\n",
    "    stride = hparameters[\"stride\"]\n",
    "    n_H = int(1 + (n_H_prev - f) / stride)\n",
    "    n_W = int(1 + (n_W_prev - f) / stride)\n",
    "    n_C = n_C_prev\n",
    "    A = np.zeros((m, n_H, n_W, n_C))\n",
    "    \n",
    "    for i in range(m):\n",
    "        for h in range(n_H):\n",
    "            for w in range(n_W):\n",
    "                for c in range (n_C):\n",
    "                    vert_start = h * stride\n",
    "                    vert_end = vert_start + f\n",
    "                    horiz_start = w * stride\n",
    "                    horiz_end = horiz_start + f\n",
    "                    a_prev_slice = A_prev[i, vert_start:vert_end, horiz_start:horiz_end, c]\n",
    "                    if mode == \"max\":\n",
    "                        A[i, h, w, c] = np.max(a_prev_slice)\n",
    "                    elif mode == \"average\":\n",
    "                        A[i, h, w, c] = np.mean(a_prev_slice)\n",
    "    cache = (A_prev, hparameters)\n",
    "    assert(A.shape == (m, n_H, n_W, n_C))\n",
    "    return A, cache"
   ]
  },
  {
   "cell_type": "code",
   "execution_count": 175,
   "metadata": {},
   "outputs": [],
   "source": [
    "def conv_backward(dZ, cache):\n",
    "    \n",
    "    (A_prev, W, b, hparameters) = cache\n",
    "    \n",
    "   \n",
    "    (m, n_H_prev, n_W_prev, n_C_prev) = A_prev.shape\n",
    "    \n",
    "   \n",
    "    (f, f, n_C_prev, n_C) = W.shape\n",
    "    \n",
    "   \n",
    "    stride = hparameters[\"stride\"]\n",
    "    pad = hparameters[\"pad\"]\n",
    "    \n",
    "   \n",
    "    (m, n_H, n_W, n_C) = dZ.shape\n",
    "    \n",
    "    \n",
    "    dA_prev = np.zeros((m, n_H_prev, n_W_prev, n_C_prev))                           \n",
    "    dW = np.zeros((f, f, n_C_prev, n_C))\n",
    "    db = np.zeros((1, 1, 1, n_C))\n",
    "\n",
    "    \n",
    "    A_prev_pad = zero_pad(A_prev, pad)\n",
    "    dA_prev_pad = zero_pad(dA_prev, pad)\n",
    "    \n",
    "    for i in range(m):                      \n",
    "        \n",
    "        \n",
    "        a_prev_pad = A_prev_pad[i]\n",
    "        da_prev_pad = dA_prev_pad[i]\n",
    "        \n",
    "        for h in range(n_H):                  \n",
    "            for w in range(n_W):               \n",
    "                for c in range(n_C):           \n",
    "                    \n",
    "                   \n",
    "                    vert_start = h\n",
    "                    vert_end = vert_start + f\n",
    "                    horiz_start = w\n",
    "                    horiz_end = horiz_start + f\n",
    "                    \n",
    "                   \n",
    "                    a_slice = a_prev_pad[vert_start:vert_end, horiz_start:horiz_end, :]\n",
    "\n",
    "                    \n",
    "                    da_prev_pad[vert_start:vert_end, horiz_start:horiz_end, :] += W[:,:,:,c] * dZ[i, h, w, c]\n",
    "                    dW[:,:,:,c] += a_slice * dZ[i, h, w, c]\n",
    "                    db[:,:,:,c] += dZ[i, h, w, c]\n",
    "                    \n",
    "        \n",
    "        dA_prev[i, :, :, :] = da_prev_pad[pad:-pad, pad:-pad, :]\n",
    "    \n",
    "    assert(dA_prev.shape == (m, n_H_prev, n_W_prev, n_C_prev))\n",
    "    \n",
    "    return dA_prev, dW, db"
   ]
  },
  {
   "cell_type": "code",
   "execution_count": 176,
   "metadata": {},
   "outputs": [],
   "source": [
    "def create_mask(x):\n",
    "   \n",
    "    mask = x == np.max(x)\n",
    "   \n",
    "    \n",
    "    return mask"
   ]
  },
  {
   "cell_type": "code",
   "execution_count": 177,
   "metadata": {},
   "outputs": [],
   "source": [
    "def distribute_value(dz, shape):\n",
    "    \n",
    "    (n_H, n_W) = shape\n",
    "    \n",
    "    \n",
    "    average = dz / (n_H * n_W)\n",
    "    \n",
    "    \n",
    "    a = np.ones(shape) * average\n",
    "    \n",
    "    \n",
    "    return a"
   ]
  },
  {
   "cell_type": "code",
   "execution_count": 178,
   "metadata": {},
   "outputs": [],
   "source": [
    "def pool_backward(dA, cache, mode = \"max\"):\n",
    "    (A_prev, hparameters) = cache\n",
    "    \n",
    "    stride = hparameters[\"stride\"]\n",
    "    f = hparameters[\"f\"]\n",
    "    \n",
    "    \n",
    "    m, n_H_prev, n_W_prev, n_C_prev = A_prev.shape\n",
    "    m, n_H, n_W, n_C = dA.shape\n",
    "    \n",
    "    \n",
    "    dA_prev = np.zeros(A_prev.shape)\n",
    "    \n",
    "    for i in range(m):                       \n",
    "        a_prev = A_prev[i]\n",
    "        for h in range(n_H):                  \n",
    "            for w in range(n_W):               \n",
    "                for c in range(n_C):           \n",
    "                    \n",
    "                    vert_start = h\n",
    "                    vert_end = vert_start + f\n",
    "                    horiz_start = w\n",
    "                    horiz_end = horiz_start + f\n",
    "                    \n",
    "                    \n",
    "                    if mode == \"max\":\n",
    "                        a_prev_slice = a_prev[vert_start:vert_end, horiz_start:horiz_end, c]\n",
    "                       \n",
    "                        mask = create_mask(a_prev_slice)\n",
    "                        \n",
    "                        dA_prev[i, vert_start:vert_end, horiz_start:horiz_end, c] += np.multiply(mask, dA[i, h, w, c])\n",
    "                        \n",
    "                    elif mode == \"average\":\n",
    "                       \n",
    "                        da = dA[i, h, w, c]\n",
    "                        \n",
    "                        shape = (f, f)\n",
    "                    \n",
    "                        dA_prev[i, vert_start:vert_end, horiz_start:horiz_end, c] += distribute_value(da, shape)\n",
    "                        \n",
    "    \n",
    "    assert(dA_prev.shape == A_prev.shape)\n",
    "    \n",
    "    return dA_prev"
   ]
  },
  {
   "cell_type": "code",
   "execution_count": 179,
   "metadata": {},
   "outputs": [],
   "source": [
    "def one_hot_encoding(mat):\n",
    "    mat = mat.as_matrix()\n",
    "    temp = []\n",
    "    for val in mat:\n",
    "        if val not in temp:\n",
    "            temp.append(val)\n",
    "    temp.sort()\n",
    "    \n",
    "    result = np.zeros(shape=(len(mat),len(temp)))\n",
    "    for key, val in enumerate(mat):\n",
    "        result[key][temp.index(val)] = 1\n",
    "    return result"
   ]
  },
  {
   "cell_type": "code",
   "execution_count": 180,
   "metadata": {},
   "outputs": [],
   "source": [
    "y_train_encoded = one_hot_encoding(pd.DataFrame(y_train))"
   ]
  },
  {
   "cell_type": "code",
   "execution_count": 181,
   "metadata": {},
   "outputs": [],
   "source": [
    "def sigmoid(z):\n",
    "    A = 1. / (1 + np.exp(-z))\n",
    "#     z_temp = z\n",
    "    return A"
   ]
  },
  {
   "cell_type": "code",
   "execution_count": 182,
   "metadata": {},
   "outputs": [],
   "source": [
    "def relu(x):\n",
    "    A = np.maximum(0,x)\n",
    "    return A"
   ]
  },
  {
   "cell_type": "code",
   "execution_count": 183,
   "metadata": {},
   "outputs": [],
   "source": [
    "def initialize_parameters():\n",
    "   \n",
    "    np.random.seed(1) \n",
    "    \n",
    "    \n",
    "\n",
    "    W1 = np.random.randn(4, 4, 3, 8) * 0.01\n",
    "    b1 = np.random.randn(1, 1, 1, 8) * 0.01\n",
    "    W2 = np.random.randn(4, 4, 8, 16) * 0.01\n",
    "    b2 = np.random.randn(1, 1, 1, 16) * 0.01\n",
    "    W4 = np.random.randn(108, 64)\n",
    "    b4 = np.random.randn(108, 1)\n",
    "    W5 = np.random.randn(6, 108)\n",
    "    b5 = np.random.randn(6, 1)\n",
    "\n",
    "    \n",
    "    parameters = {\"W1\": W1,\n",
    "                  \"b1\": b1,\n",
    "                  \"W2\": W2,\n",
    "                  \"b2\": b2, \"W4\":W4, \"b4\":b4, \"W5\": W5, \"b5\":b5}\n",
    "    \n",
    "    return parameters"
   ]
  },
  {
   "cell_type": "code",
   "execution_count": 184,
   "metadata": {},
   "outputs": [],
   "source": [
    "def calculate_cost(A5, Y):\n",
    "    \n",
    "    m = Y.shape[1]\n",
    "#     W1 = parameters['W1']\n",
    "#     W2 = parameters['W2']\n",
    "    \n",
    "    #A5 = np.matrix(A5)\n",
    "    #print A2\n",
    "#     logprobs = Y.dot(np.log(A2).T) + np.multiply((1 - Y), np.log(1 - A2))\n",
    "#     cost = - np.sum(logprobs) / m\n",
    "    logprobs = np.multiply(np.log(A5), Y) + np.multiply((1 - Y), np.log(1 - A5))\n",
    "    cost = - np.nansum(logprobs) / m\n",
    "    \n",
    "    cost = np.squeeze(cost) \n",
    "    #print type(cost)\n",
    "    #print cost\n",
    "    assert(isinstance(cost, float))\n",
    "    return cost"
   ]
  },
  {
   "cell_type": "code",
   "execution_count": 185,
   "metadata": {},
   "outputs": [],
   "source": [
    "def forward_propagation(x, parameters):\n",
    "    W1 = parameters['W1']\n",
    "    b1 = parameters['b1']\n",
    "    W2 = parameters['W2']\n",
    "    b2 = parameters['b2']\n",
    "    W4 = parameters['W4']\n",
    "    b4 = parameters['b4']\n",
    "    W5 = parameters['W5']\n",
    "    b5 = parameters['b5']\n",
    "    hparameters = {\"pad\" : 1,\n",
    "               \"stride\": 2, \"f\":4}\n",
    "    C1, cache = conv_forward(x, W1, b1, hparameters)\n",
    "#     print Z1\n",
    "#     A1 = relu(Z1)\n",
    "    print \"C1 shape: \",C1.shape\n",
    "    hparameters1 = {\"stride\" : 1,\n",
    "                   \"f\": 5, \"pad\":0}\n",
    "    P1, cache1= pool_forward(C1, hparameter, mode='max')\n",
    "    print \"P1 shape: \",P1.shape\n",
    "    hparameters2 = {\"pad\" : 1,\n",
    "                   \"stride\": 2, \"f\":4}\n",
    "    C2, cache2 = conv_forward(P1, W2, b2, hparameters)\n",
    "    print \"C2 shape: \",C2.shape\n",
    "    hparameters3 = {\"stride\" : 1,\n",
    "                   \"f\": 5, \"pad\": 0}\n",
    "    P2, cache3 = pool_forward(C2, hparameters, mode=\"max\")\n",
    "    print \"P2 shape:\",P2.shape\n",
    "    F3 = P2.reshape(P2.shape[0], -1)\n",
    "    F3 = F3.T\n",
    "    print 'F3 shape: ',F3.shape\n",
    "#     W4 = np.random.randn(A3.shape[1], 108) * 0.01\n",
    "#     b4 = np.random.randn(A3.shape[1], 1) * 0.01\n",
    "    Z4 = W4.dot(F3) + b4\n",
    "    F4 = relu(Z4)\n",
    "    Z5 = W5.dot(F4) + b5\n",
    "    F5 = sigmoid(Z5)\n",
    "#     cache4 = {'F3': F3, 'Z4':Z4, 'F4':F4, 'Z5':Z5, 'F5':F5}\n",
    "    return F5"
   ]
  },
  {
   "cell_type": "code",
   "execution_count": 186,
   "metadata": {},
   "outputs": [],
   "source": [
    "def update_parameters(parameters, gradients, learning_rate):\n",
    "    \n",
    "    dW1 = gradients['dW1']\n",
    "    db1 = gradients['db1']\n",
    "    dW2 = gradients['dW2']\n",
    "    db2 = gradients['db2']\n",
    "    dW4 = gradients['dW4']\n",
    "    db4 = gradients['db4']\n",
    "    dW5 = gradients['dW5']\n",
    "    db5 = gradients['db5']\n",
    "    \n",
    "    parameters[\"W1\"] = parameters[\"W1\"] - learning_rate * dW1\n",
    "    parameters[\"b1\"] = parameters[\"b1\"] - learning_rate * db1\n",
    "    parameters[\"W2\"] = parameters[\"W2\"] - learning_rate * dW2\n",
    "    parameters[\"b2\"] = parameters[\"b2\"] - learning_rate * db2\n",
    "    parameters[\"W4\"] = parameters[\"W4\"] - learning_rate * dW4\n",
    "    parameters[\"b4\"] = parameters[\"b4\"] - learning_rate * db4\n",
    "    parameters[\"W5\"] = parameters[\"W5\"] - learning_rate * dW5\n",
    "    parameters[\"b5\"] = parameters[\"b5\"] - learning_rate * db5\n",
    "    return parameters"
   ]
  },
  {
   "cell_type": "code",
   "execution_count": 187,
   "metadata": {},
   "outputs": [],
   "source": [
    "def model(x, y, learning_rate = 0.01, num_iterations=10, print_cost=False):\n",
    "    parameters = initialize_parameters()\n",
    "#     W1 = parameters['W1']\n",
    "#     b1 = parameters['b1']\n",
    "#     W2 = parameters['W2']\n",
    "#     b2 = parameters['b2']\n",
    "#     W4 = parameters['W4']\n",
    "#     b4 = parameters['b4']\n",
    "#     W5 = parameters['W5']\n",
    "#     b5 = parameters['b5']\n",
    "    for i in range(0, num_iterations):\n",
    "        W1 = parameters['W1']\n",
    "        b1 = parameters['b1']\n",
    "        W2 = parameters['W2']\n",
    "        b2 = parameters['b2']\n",
    "        W4 = parameters['W4']\n",
    "        b4 = parameters['b4']\n",
    "        W5 = parameters['W5']\n",
    "        b5 = parameters['b5']\n",
    "        hparameters = {\"pad\" : 1,\n",
    "               \"stride\": 2, \"f\":4}\n",
    "        C1, cache = conv_forward(x, W1, b1, hparameters)\n",
    "        print \"C1 shape: \",C1.shape\n",
    "        hparameters1 = {\"stride\" : 1,\n",
    "                       \"f\": 5, \"pad\":0}\n",
    "        P1, cache1= pool_forward(C1, hparameters)\n",
    "        print \"P1 shape: \",P1.shape\n",
    "        hparameters2 = {\"pad\" : 1,\n",
    "                       \"stride\": 2, \"f\":4}\n",
    "        C2, cache2 = conv_forward(P1, W2, b2, hparameters)\n",
    "        print \"C2 shape: \",C2.shape\n",
    "        hparameters3 = {\"stride\" : 1,\n",
    "                       \"f\": 5, \"pad\": 0}\n",
    "        P2, cache3 = pool_forward(C2, hparameters, mode=\"average\")\n",
    "        print \"P2 shape:\",P2.shape\n",
    "        F3 = P2.reshape(P2.shape[0], -1)\n",
    "        print \"F3.shape: \",F3.shape\n",
    "        F3 = F3.T\n",
    "           \n",
    "        Z4 = W4.dot(F3) + b4\n",
    "        F4 = relu(Z4)\n",
    "        print \"F4 shape\", F4.shape\n",
    "        Z5 = W5.dot(F4) + b5\n",
    "        F5 = sigmoid(Z5)\n",
    "        print \"F5 shape\", F5.shape\n",
    "        cost = calculate_cost(F5, y)\n",
    "        m = x.shape[-1]\n",
    "        W4 = parameters['W4']\n",
    "       \n",
    "        dZ5 = np.array(F5 - y)\n",
    "        dW5 = (1.0/m) * np.dot(dZ5, F4.T)\n",
    "        db5 = (1.0 / m) * np.sum(dZ5, axis=1, keepdims=True)\n",
    "        dZ4 = np.multiply(np.dot(W5.T, dZ5), F4 * (1 - F4))\n",
    "        dZ4 = np.array(dZ4)\n",
    "#         dW4 = (1.0 / m) * np.dot(dZ4, F3.T)\n",
    "#         db4 = (1.0 / m) * np.sum(dZ4, axis=1, keepdims=True)\n",
    "        dW4 = (1. / m) * np.dot(dZ4, F3.T)\n",
    "        dZ4 = np.array(dZ4)\n",
    "        db4 = 1. / m * np.sum(dZ4, axis=1, keepdims=True)\n",
    "        dA3 = np.dot(W4.T, dZ4)\n",
    "        dA3 = dA3.T\n",
    "        print \"dA3 shape: \", dA3.shape\n",
    "        dP2 = dA3.reshape((1020, 2, 2, 16))\n",
    "        dA2 = pool_backward(dP2, cache3, mode='average')\n",
    "        dZ2 = np.multiply(dA2, np.int64(C2 > 0))\n",
    "        print \"dZ2 shape:\",dZ2.shape\n",
    "        dP1, dW2, db2 = conv_backward(C2, cache2)\n",
    "        dA1 = pool_backward(dP1, cache1, mode='max')\n",
    "        print \"dA1 shape: \",dA1.shape\n",
    "        dZ1 = np.multiply(dA1, np.int64(C1 > 0))\n",
    "        x, dW1, db1 = conv_backward(C1, cache)\n",
    "        print \"Done conv_backward 1\"\n",
    "        gradients = {\"dW2\": dW2, \"db2\": db2, \"dW1\": dW1, \"db1\": db1, \"dW4\": dW4, \"dW5\":dW5, \"db4\":db4, \"db5\":db5}\n",
    "\n",
    "        parameters = update_parameters(parameters, gradients, learning_rate)\n",
    "        if print_cost and i % 1 == 0:\n",
    "            print (\"Cost after %i iterations: %f\" % (i, cost))\n",
    "            \n",
    "    return parameters"
   ]
  },
  {
   "cell_type": "code",
   "execution_count": 188,
   "metadata": {},
   "outputs": [
    {
     "name": "stdout",
     "output_type": "stream",
     "text": [
      "C1 shape:  (1020, 32, 32, 8)\n",
      "P1 shape:  (1020, 15, 15, 8)\n",
      "C2 shape:  (1020, 7, 7, 16)\n",
      "P2 shape: (1020, 2, 2, 16)\n",
      "F3.shape:  (1020, 64)\n",
      "F4 shape (108, 1020)\n",
      "F5 shape (6, 1020)\n",
      "dA3 shape:  (1020, 64)\n",
      "dZ2 shape: (1020, 7, 7, 16)\n",
      "dA1 shape:  (1020, 32, 32, 8)\n",
      "Done conv_backward 1\n",
      "Cost after 0 iterations: 40.325467\n",
      "C1 shape:  (1020, 32, 32, 8)\n",
      "P1 shape:  (1020, 15, 15, 8)\n",
      "C2 shape:  (1020, 7, 7, 16)\n",
      "P2 shape: (1020, 2, 2, 16)\n",
      "F3.shape:  (1020, 64)\n",
      "F4 shape (108, 1020)\n",
      "F5 shape (6, 1020)\n",
      "dA3 shape:  (1020, 64)\n"
     ]
    },
    {
     "name": "stderr",
     "output_type": "stream",
     "text": [
      "/home/u6976/.conda/envs/notebook/lib/python2.7/site-packages/ipykernel_launcher.py:2: RuntimeWarning: overflow encountered in exp\n",
      "  \n",
      "/home/u6976/.conda/envs/notebook/lib/python2.7/site-packages/ipykernel_launcher.py:11: RuntimeWarning: divide by zero encountered in log\n",
      "  # This is added back by InteractiveShellApp.init_path()\n",
      "/home/u6976/.conda/envs/notebook/lib/python2.7/site-packages/ipykernel_launcher.py:11: RuntimeWarning: invalid value encountered in multiply\n",
      "  # This is added back by InteractiveShellApp.init_path()\n"
     ]
    },
    {
     "name": "stdout",
     "output_type": "stream",
     "text": [
      "dZ2 shape: (1020, 7, 7, 16)\n",
      "dA1 shape:  (1020, 32, 32, 8)\n",
      "Done conv_backward 1\n",
      "Cost after 1 iterations: inf\n",
      "C1 shape:  (1020, 32, 32, 8)\n",
      "P1 shape:  (1020, 15, 15, 8)\n",
      "C2 shape:  (1020, 7, 7, 16)\n",
      "P2 shape: (1020, 2, 2, 16)\n",
      "F3.shape:  (1020, 64)\n",
      "F4 shape (108, 1020)\n",
      "F5 shape (6, 1020)\n",
      "dA3 shape:  (1020, 64)\n",
      "dZ2 shape: (1020, 7, 7, 16)\n",
      "dA1 shape:  (1020, 32, 32, 8)\n",
      "Done conv_backward 1\n",
      "Cost after 2 iterations: inf\n"
     ]
    }
   ],
   "source": [
    "parameters = model(x_train, y_train_encoded.T, learning_rate = 0.1, num_iterations=3, print_cost=True)"
   ]
  },
  {
   "cell_type": "code",
   "execution_count": 189,
   "metadata": {},
   "outputs": [],
   "source": [
    "f = h5py.File('./' + \"para_Tri_Ninh.hdf5\", \"w\")\n",
    "dataset = f.create_dataset(\"W5\", data=parameters['W5'])\n",
    "dataset = f.create_dataset(\"b5\", data=parameters['b5'])\n",
    "dataset = f.create_dataset(\"W4\", data=parameters['W4'])\n",
    "dataset = f.create_dataset(\"b4\", data=parameters['b4'])\n",
    "dataset = f.create_dataset(\"W2\", data=parameters['W2'])\n",
    "dataset = f.create_dataset(\"b2\", data=parameters['b2'])\n",
    "dataset = f.create_dataset(\"W1\", data=parameters['W1'])\n",
    "dataset = f.create_dataset(\"b1\", data=parameters['b1'])\n",
    "f.close()"
   ]
  },
  {
   "cell_type": "code",
   "execution_count": null,
   "metadata": {},
   "outputs": [],
   "source": []
  }
 ],
 "metadata": {
  "kernelspec": {
   "display_name": "Python 2",
   "language": "python",
   "name": "python2"
  },
  "language_info": {
   "codemirror_mode": {
    "name": "ipython",
    "version": 2
   },
   "file_extension": ".py",
   "mimetype": "text/x-python",
   "name": "python",
   "nbconvert_exporter": "python",
   "pygments_lexer": "ipython2",
   "version": "2.7.14"
  }
 },
 "nbformat": 4,
 "nbformat_minor": 2
}
