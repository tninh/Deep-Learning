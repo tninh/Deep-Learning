{
 "cells": [
  {
   "cell_type": "code",
   "execution_count": 25,
   "metadata": {
    "collapsed": true
   },
   "outputs": [],
   "source": [
    "import pandas as pd\n",
    "import numpy as np\n",
    "import matplotlib.pyplot as plt"
   ]
  },
  {
   "cell_type": "code",
   "execution_count": 26,
   "metadata": {
    "collapsed": true
   },
   "outputs": [],
   "source": [
    "df = pd.read_csv('ex3_train.csv')"
   ]
  },
  {
   "cell_type": "code",
   "execution_count": 27,
   "metadata": {
    "collapsed": true
   },
   "outputs": [],
   "source": [
    "def split_train_test(X, test_ratio):\n",
    "    np.random.seed(1)\n",
    "    shuffled_indices = np.random.permutation(len(X))\n",
    "    test_set_size = int(len(X) * test_ratio)\n",
    "    test_indices = shuffled_indices[:test_set_size]\n",
    "    train_indices = shuffled_indices[test_set_size:]\n",
    "    return X.iloc[train_indices], X.iloc[test_indices]"
   ]
  },
  {
   "cell_type": "code",
   "execution_count": 28,
   "metadata": {
    "collapsed": true
   },
   "outputs": [],
   "source": [
    "# train_set, test_set = split_train_test(df, 0.2)\n",
    "y_train = df.iloc[:,400]\n",
    "x_train = df.iloc[:,0:400]"
   ]
  },
  {
   "cell_type": "markdown",
   "metadata": {},
   "source": [
    "### Define Functions"
   ]
  },
  {
   "cell_type": "code",
   "execution_count": 29,
   "metadata": {
    "collapsed": true
   },
   "outputs": [],
   "source": [
    "def one_hot_encoding(mat):\n",
    "    mat = mat.as_matrix()\n",
    "    temp = []\n",
    "    for val in mat:\n",
    "        if val not in temp:\n",
    "            temp.append(val)\n",
    "    temp.sort()\n",
    "    \n",
    "    result = np.zeros(shape=(len(mat),len(temp)))\n",
    "    for key, val in enumerate(mat):\n",
    "        result[key][temp.index(val)] = 1\n",
    "    return result"
   ]
  },
  {
   "cell_type": "code",
   "execution_count": 30,
   "metadata": {
    "collapsed": true
   },
   "outputs": [],
   "source": [
    "y_train_encoded = one_hot_encoding(y_train)"
   ]
  },
  {
   "cell_type": "code",
   "execution_count": 31,
   "metadata": {
    "collapsed": true
   },
   "outputs": [],
   "source": [
    "y_train_encoded = pd.DataFrame(y_train_encoded)"
   ]
  },
  {
   "cell_type": "code",
   "execution_count": 32,
   "metadata": {
    "collapsed": true
   },
   "outputs": [],
   "source": [
    "def sigmoid(z):\n",
    "    A = 1. / (1 + np.exp(-z))\n",
    "#     z_temp = z\n",
    "    return A"
   ]
  },
  {
   "cell_type": "code",
   "execution_count": 33,
   "metadata": {
    "collapsed": true
   },
   "outputs": [],
   "source": [
    "def forward_propagation(X, parameters):\n",
    "    W1 = parameters['W1']\n",
    "    b1 = parameters['b1']\n",
    "    W2 = parameters['W2']\n",
    "    b2 = parameters['b2']\n",
    "#     print \"W1, b1: \"\n",
    "#     print W1.shape, b1.shape\n",
    "    Z1 = W1.dot(X) + b1\n",
    "#     print \"Z1: \"\n",
    "#     print Z1.shape\n",
    "    A1 = sigmoid(Z1)\n",
    "#     print \"A1: \"\n",
    "#     print A1.shape\n",
    "#     print \"W2: \"\n",
    "#     print W2.shape\n",
    "    Z2 = W2.dot(A1) + b2\n",
    "#     print \"Z2: \"\n",
    "#     print Z2.shape\n",
    "    A2 = sigmoid(Z2)\n",
    "#     print \"A2: \"\n",
    "#     print A2.shape\n",
    "\n",
    "    assert(A2.shape == (W2.shape[0], A1.shape[1]))\n",
    "    \n",
    "    cache_variables = {\"Z1\": Z1,\n",
    "             \"A1\": A1,\n",
    "             \"Z2\": Z2,\n",
    "             \"A2\": A2}\n",
    "#     print \"A2 from forward prop:\"\n",
    "#     print A2\n",
    "    return A2, cache_variables"
   ]
  },
  {
   "cell_type": "code",
   "execution_count": 34,
   "metadata": {
    "collapsed": true
   },
   "outputs": [],
   "source": [
    "def backward_propagation(parameters, cache_variables, X, Y):\n",
    "    m = X.shape[1]\n",
    "\n",
    "    W1 = parameters['W1']\n",
    "    W2 = parameters['W2']\n",
    "  \n",
    "    A1 = cache_variables['A1']\n",
    "    A2 = cache_variables['A2']\n",
    "    \n",
    "    dZ2= np.array(A2 - Y)\n",
    "    #dZ2 (10,2800)\n",
    "    #A1 (25,2800)\n",
    "    dW2 = (1.0 / m) * np.dot(dZ2, A1.T)\n",
    "    db2 = (1.0 / m) * np.sum(dZ2, axis=1, keepdims=True)\n",
    "    dZ1 = np.multiply(np.dot(W2.T, dZ2), A1 * (1 - A1))\n",
    "    dZ1 = np.array(dZ1)\n",
    "    dW1 = (1.0 / m) * np.dot(dZ1, X.T)\n",
    "    db1 = (1.0 / m) * np.sum(dZ1, axis=1, keepdims=True)\n",
    "    \n",
    "    gradients = {\"dW1\": dW1,\n",
    "             \"db1\": db1,\n",
    "             \"dW2\": dW2,\n",
    "             \"db2\": db2}\n",
    "    \n",
    "    return gradients"
   ]
  },
  {
   "cell_type": "code",
   "execution_count": 35,
   "metadata": {
    "collapsed": true
   },
   "outputs": [],
   "source": [
    "def softmax(x):\n",
    "    exp_scores = np.array(np.exp(x))\n",
    "    probs = exp_scores / np.sum(exp_scores, axis=1, keepdims=True)\n",
    "    y_predict = np.array(np.argmax(probs, axis=0))\n",
    "    return y_predict"
   ]
  },
  {
   "cell_type": "markdown",
   "metadata": {},
   "source": [
    "### 2. Split the Data"
   ]
  },
  {
   "cell_type": "markdown",
   "metadata": {},
   "source": [
    "- Please refer to cell 3, 4 and 5"
   ]
  },
  {
   "cell_type": "markdown",
   "metadata": {},
   "source": [
    "### 3. Initilize parameters"
   ]
  },
  {
   "cell_type": "code",
   "execution_count": 36,
   "metadata": {
    "collapsed": true
   },
   "outputs": [],
   "source": [
    "def initialize_parameters(n_x, n_h, n_y):\n",
    "   \n",
    "    np.random.seed(1) \n",
    "    \n",
    "    \n",
    "    W1 = np.random.randn(n_h, n_x) * 0.01\n",
    "    b1 = np.zeros(shape=(n_h, 1))\n",
    "    W2 = np.random.randn(n_y, n_h) * 0.01\n",
    "    b2 = np.zeros(shape=(n_y, 1))\n",
    "   \n",
    "    assert (W1.shape == (n_h, n_x))\n",
    "    assert (b1.shape == (n_h, 1))\n",
    "    assert (W2.shape == (n_y, n_h))\n",
    "    assert (b2.shape == (n_y, 1))\n",
    "    \n",
    "    parameters = {\"W1\": W1,\n",
    "                  \"b1\": b1,\n",
    "                  \"W2\": W2,\n",
    "                  \"b2\": b2}\n",
    "    \n",
    "    return parameters"
   ]
  },
  {
   "cell_type": "code",
   "execution_count": 37,
   "metadata": {
    "collapsed": true
   },
   "outputs": [],
   "source": [
    "def calculate_cost(A2, Y, parameters):\n",
    "    \n",
    "    m = Y.shape[1]\n",
    "    W1 = parameters['W1']\n",
    "    W2 = parameters['W2']\n",
    "    \n",
    "    A2 = np.matrix(A2)\n",
    "    #print A2\n",
    "#     logprobs = Y.dot(np.log(A2).T) + np.multiply((1 - Y), np.log(1 - A2))\n",
    "#     cost = - np.sum(logprobs) / m\n",
    "    logprobs = np.multiply(np.log(A2), Y) + np.multiply((1 - Y), np.log(1 - A2))\n",
    "    cost = - np.sum(logprobs) / m\n",
    "    \n",
    "    cost = np.squeeze(cost) \n",
    "    #print type(cost)\n",
    "    #print cost\n",
    "    assert(isinstance(cost, float))\n",
    "    return cost"
   ]
  },
  {
   "cell_type": "markdown",
   "metadata": {},
   "source": [
    "### 4. Neural Network Model with 1 hidden layer"
   ]
  },
  {
   "cell_type": "code",
   "execution_count": 38,
   "metadata": {
    "collapsed": true
   },
   "outputs": [],
   "source": [
    "def update_parameters(parameters, gradients, learning_rate):\n",
    "    \n",
    "    dW1 = gradients['dW1']\n",
    "    db1 = gradients['db1']\n",
    "    dW2 = gradients['dW2']\n",
    "    db2 = gradients['db2']\n",
    "   \n",
    "    parameters[\"W1\"] = parameters[\"W1\"] - learning_rate * dW1\n",
    "    parameters[\"b1\"] = parameters[\"b1\"] - learning_rate * db1\n",
    "    parameters[\"W2\"] = parameters[\"W2\"] - learning_rate * dW2\n",
    "    parameters[\"b2\"] = parameters[\"b2\"] - learning_rate * db2\n",
    "   \n",
    "    #parameters = {\"W1\": W1, \"b1\": b1, \"W2\": W2, \"b2\": b2}\n",
    "    \n",
    "    return parameters"
   ]
  },
  {
   "cell_type": "code",
   "execution_count": 39,
   "metadata": {
    "collapsed": true
   },
   "outputs": [],
   "source": [
    "def layer_sizes(X, Y):\n",
    "    \n",
    "    n_x = X.shape[0] \n",
    "    n_h = 25\n",
    "    n_y = Y.shape[0] \n",
    "    \n",
    "    return (n_x, n_h, n_y)"
   ]
  },
  {
   "cell_type": "code",
   "execution_count": 40,
   "metadata": {
    "collapsed": true
   },
   "outputs": [],
   "source": [
    "def neuralnetwork_model(X, Y, n_h, num_iterations=10000, print_cost=False):\n",
    "    \n",
    "    np.random.seed(1)\n",
    "    n_x = layer_sizes(X, Y)[0]\n",
    "    n_y = layer_sizes(X, Y)[2]\n",
    "    print n_x, n_y\n",
    "    \n",
    "    parameters = initialize_parameters(n_x, n_h, n_y)\n",
    "    W1 = parameters['W1']\n",
    "    b1 = parameters['b1']\n",
    "    W2 = parameters['W2']\n",
    "    b2 = parameters['b2']\n",
    "    \n",
    "    costs = []\n",
    "    for i in range(0, num_iterations):\n",
    "        A2, cache_variables = forward_propagation(X, parameters)\n",
    "        cost = calculate_cost(A2, Y, parameters)\n",
    "        gradients = backward_propagation(parameters, cache_variables, X, Y)\n",
    "        parameters = update_parameters(parameters, gradients, learning_rate)\n",
    "        if print_cost and i % 1000 == 0:\n",
    "            print (\"Cost after %i iterations: %f\" % (i, cost))\n",
    "        if print_cost and i % 100 == 0:\n",
    "            costs.append(cost)\n",
    "    \n",
    "    return parameters, costs"
   ]
  },
  {
   "cell_type": "markdown",
   "metadata": {},
   "source": [
    "### 5. Predictions"
   ]
  },
  {
   "cell_type": "code",
   "execution_count": 41,
   "metadata": {
    "collapsed": true
   },
   "outputs": [],
   "source": [
    "def predict(parameters, X):\n",
    "    A2, cache = forward_propagation(X, parameters)\n",
    "#     exp_scores = np.array(np.exp(cache[\"Z2\"]))\n",
    "#     probs = exp_scores / np.sum(exp_scores, axis=1, keepdims=True)\n",
    "    y_predict = softmax(cache[\"Z2\"])\n",
    "    return y_predict"
   ]
  },
  {
   "cell_type": "markdown",
   "metadata": {},
   "source": [
    "### 6. Optimization"
   ]
  },
  {
   "cell_type": "code",
   "execution_count": 18,
   "metadata": {},
   "outputs": [
    {
     "name": "stdout",
     "output_type": "stream",
     "text": [
      "400 10\n",
      "Cost after 0 iterations: 6.971709\n",
      "Cost after 1000 iterations: 5.966522\n",
      "Cost after 2000 iterations: 5.241479\n",
      "Cost after 3000 iterations: 4.708644\n",
      "Cost after 4000 iterations: 4.316387\n",
      "400 10\n",
      "Cost after 0 iterations: 6.971709\n",
      "Cost after 1000 iterations: 3.252183\n",
      "Cost after 2000 iterations: 3.243799\n",
      "Cost after 3000 iterations: 3.206397\n",
      "Cost after 4000 iterations: 3.059309\n",
      "400 10\n",
      "Cost after 0 iterations: 6.971709\n",
      "Cost after 1000 iterations: 3.418737\n",
      "Cost after 2000 iterations: 3.264147\n",
      "Cost after 3000 iterations: 3.255282\n",
      "Cost after 4000 iterations: 3.254412\n"
     ]
    },
    {
     "data": {
      "image/png": "[encoded data removed]",
      "text/plain": [
       "<matplotlib.figure.Figure at 0x1113f3bd0>"
      ]
     },
     "metadata": {},
     "output_type": "display_data"
    }
   ],
   "source": [
    "learning_rate = 0.0001\n",
    "parameters0, costs0 = neuralnetwork_model(x_train.T, y_train_encoded.T, n_h = 25, num_iterations=5000, print_cost=True)\n",
    "learning_rate = 0.01\n",
    "parameters1, costs1 = neuralnetwork_model(x_train.T, y_train_encoded.T, n_h = 25, num_iterations=5000, print_cost=True)\n",
    "learning_rate = 0.001\n",
    "parameters2, costs2 = neuralnetwork_model(x_train.T, y_train_encoded.T, n_h = 25, num_iterations=5000, print_cost=True)\n",
    "plt.plot(np.squeeze(costs0))\n",
    "plt.plot(np.squeeze(costs1))\n",
    "plt.plot(np.squeeze(costs2))\n",
    "plt.ylabel('cost')\n",
    "plt.xlabel('iterations (per tens)')\n",
    "plt.title(\"Cost vs Number of Iterations\")\n",
    "plt.legend(['0.0001', '0.01', '0.001'], loc='upper left')\n",
    "plt.show()"
   ]
  },
  {
   "cell_type": "markdown",
   "metadata": {},
   "source": [
    "#### Optimizied learning rate and iterations"
   ]
  },
  {
   "cell_type": "code",
   "execution_count": 19,
   "metadata": {},
   "outputs": [
    {
     "name": "stdout",
     "output_type": "stream",
     "text": [
      "400 10\n",
      "Cost after 0 iterations: 6.971709\n",
      "Cost after 1000 iterations: 0.480453\n",
      "Cost after 2000 iterations: 0.309423\n",
      "Cost after 3000 iterations: 0.224365\n",
      "Cost after 4000 iterations: 0.170904\n",
      "Cost after 5000 iterations: 0.134498\n",
      "Cost after 6000 iterations: 0.108680\n",
      "Cost after 7000 iterations: 0.089616\n",
      "Cost after 8000 iterations: 0.075265\n",
      "Cost after 9000 iterations: 0.064218\n"
     ]
    }
   ],
   "source": [
    "learning_rate = 0.5\n",
    "parameters3, costs3 = neuralnetwork_model(x_train.T, y_train_encoded.T, n_h = 25, num_iterations=10000, print_cost=True)"
   ]
  },
  {
   "cell_type": "code",
   "execution_count": 20,
   "metadata": {},
   "outputs": [
    {
     "data": {
      "image/png": "[encoded data removed]",
      "text/plain": [
       "<matplotlib.figure.Figure at 0x110151d10>"
      ]
     },
     "metadata": {},
     "output_type": "display_data"
    }
   ],
   "source": [
    "plt.plot(np.squeeze(costs3))\n",
    "plt.ylabel('cost')\n",
    "plt.xlabel('iterations (per tens)')\n",
    "plt.title(\"Cost vs Number of Iterations\")\n",
    "plt.show()"
   ]
  },
  {
   "cell_type": "code",
   "execution_count": 21,
   "metadata": {
    "collapsed": true
   },
   "outputs": [],
   "source": [
    "predictions = predict(parameters3, x_train.T)"
   ]
  },
  {
   "cell_type": "code",
   "execution_count": 22,
   "metadata": {},
   "outputs": [
    {
     "name": "stdout",
     "output_type": "stream",
     "text": [
      "Train set accuracy = 99.8571428571%\n"
     ]
    }
   ],
   "source": [
    "#predictions = predict(parameters3, x_train.T)\n",
    "correct = [1 if a == b else 0 for (a, b) in zip(y_train, predictions)]  \n",
    "accuracy = (float(sum(map(int, correct))) / float(len(correct)))  \n",
    "print 'Train set accuracy = {0}%'.format(accuracy * 100)"
   ]
  },
  {
   "cell_type": "markdown",
   "metadata": {},
   "source": [
    "#### Test set "
   ]
  },
  {
   "cell_type": "code",
   "execution_count": 23,
   "metadata": {
    "collapsed": true
   },
   "outputs": [],
   "source": [
    "df1 = pd.read_csv('ex3_test.csv')\n",
    "x_test = df1.iloc[:,0:400]\n",
    "y_test = df1.iloc[:,400]"
   ]
  },
  {
   "cell_type": "code",
   "execution_count": 24,
   "metadata": {},
   "outputs": [
    {
     "name": "stdout",
     "output_type": "stream",
     "text": [
      "Optimized test set accuracy = 92.2666666667%\n"
     ]
    }
   ],
   "source": [
    "predictions1 = predict(parameters3, x_test.T)\n",
    "correct = [1 if a == b else 0 for (a, b) in zip(y_test, predictions1)]  \n",
    "accuracy = (float(sum(map(int, correct))) / float(len(correct)))  \n",
    "print 'Optimized test set accuracy = {0}%'.format(accuracy * 100)"
   ]
  },
  {
   "cell_type": "code",
   "execution_count": null,
   "metadata": {
    "collapsed": true
   },
   "outputs": [],
   "source": []
  }
 ],
 "metadata": {
  "kernelspec": {
   "display_name": "Python 2",
   "language": "python",
   "name": "python2"
  },
  "language_info": {
   "codemirror_mode": {
    "name": "ipython",
    "version": 2
   },
   "file_extension": ".py",
   "mimetype": "text/x-python",
   "name": "python",
   "nbconvert_exporter": "python",
   "pygments_lexer": "ipython2",
   "version": "2.7.13"
  }
 },
 "nbformat": 4,
 "nbformat_minor": 2
}
