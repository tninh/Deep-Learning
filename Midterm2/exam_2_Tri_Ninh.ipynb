{
 "cells": [
  {
   "cell_type": "code",
   "execution_count": 1,
   "metadata": {
    "collapsed": true
   },
   "outputs": [],
   "source": [
    "import pandas as pd\n",
    "import numpy as np\n",
    "import tensorflow as tf\n",
    "import matplotlib.pyplot as plt"
   ]
  },
  {
   "cell_type": "code",
   "execution_count": 2,
   "metadata": {
    "collapsed": true
   },
   "outputs": [],
   "source": [
    "x_train = np.load('exam2_train_x.npy')\n",
    "y_train = np.load('exam2_train_y.npy')\n",
    "x_test = np.load('exam2_test_x.npy')\n",
    "y_test = np.load('exam2_test_y.npy')"
   ]
  },
  {
   "cell_type": "code",
   "execution_count": 3,
   "metadata": {
    "collapsed": true
   },
   "outputs": [],
   "source": [
    "x_train_norm = (x_train / 255.) - 0.5\n",
    "x_test_norm = (x_test / 255.) - 0.5\n",
    "x_train_norm_1 = (x_train/255.)\n",
    "x_test_norm_1 = (x_test/255.)"
   ]
  },
  {
   "cell_type": "code",
   "execution_count": 4,
   "metadata": {
    "collapsed": true
   },
   "outputs": [],
   "source": [
    "def create_placeholders(n_H0, n_W0, n_C0, n_y):\n",
    "    X = tf.placeholder(tf.float32, [None, n_H0, n_W0, n_C0])\n",
    "    Y = tf.placeholder(tf.float32, [None, n_y])\n",
    "    keep_prob= tf.placeholder(tf.float32)\n",
    "    return X, Y, keep_prob"
   ]
  },
  {
   "cell_type": "code",
   "execution_count": 5,
   "metadata": {
    "collapsed": true
   },
   "outputs": [],
   "source": [
    "def initialize_parameters():\n",
    "\n",
    "    \n",
    "    tf.set_random_seed(1)                             \n",
    "        \n",
    "    W1 = tf.get_variable(\"W1\", [5, 5, 3, 32], initializer=tf.contrib.layers.xavier_initializer(seed=1))\n",
    "    W2 = tf.get_variable(\"W2\", [3, 3, 32, 64], initializer=tf.contrib.layers.xavier_initializer(seed=1))\n",
    "\n",
    "    parameters = {\"W1\": W1,\n",
    "                  \"W2\": W2}\n",
    "    \n",
    "    return parameters"
   ]
  },
  {
   "cell_type": "markdown",
   "metadata": {},
   "source": [
    "### One-hot Encoding"
   ]
  },
  {
   "cell_type": "code",
   "execution_count": 6,
   "metadata": {
    "collapsed": true
   },
   "outputs": [],
   "source": [
    "indices = y_train\n",
    "depth = 6\n",
    "a = tf.one_hot(indices, depth, on_value = 1.0, off_value = 0.0, axis=1)\n",
    "with tf.Session() as sess:\n",
    "    y_train_encoded = sess.run(a)"
   ]
  },
  {
   "cell_type": "code",
   "execution_count": 7,
   "metadata": {
    "collapsed": true
   },
   "outputs": [],
   "source": [
    "indices = y_test\n",
    "depth = 6\n",
    "b = tf.one_hot(indices, depth, on_value = 1.0, off_value = 0.0, axis=1)\n",
    "with tf.Session() as sess:\n",
    "    y_test_encoded = sess.run(b)"
   ]
  },
  {
   "cell_type": "code",
   "execution_count": 8,
   "metadata": {},
   "outputs": [
    {
     "data": {
      "text/plain": [
       "(array([ 0.,  0.,  1.,  0.,  0.,  0.], dtype=float32), 2)"
      ]
     },
     "execution_count": 8,
     "metadata": {},
     "output_type": "execute_result"
    }
   ],
   "source": [
    "y_test_encoded[23], y_test[23]"
   ]
  },
  {
   "cell_type": "markdown",
   "metadata": {},
   "source": [
    "### Compute Cost"
   ]
  },
  {
   "cell_type": "code",
   "execution_count": 9,
   "metadata": {
    "collapsed": true
   },
   "outputs": [],
   "source": [
    "def compute_cost(F5, Y):\n",
    "    cost = tf.reduce_mean(tf.nn.softmax_cross_entropy_with_logits(logits=F5, labels=Y))\n",
    "    return cost"
   ]
  },
  {
   "cell_type": "code",
   "execution_count": 10,
   "metadata": {
    "collapsed": true
   },
   "outputs": [],
   "source": [
    "def random_mini_batches(x, y, batch_size = 64, seed = 0):   \n",
    "    m = x.shape[0]      \n",
    "    mini_batches = []\n",
    "    np.random.seed(seed)   \n",
    "    permutation = list(np.random.permutation(m))\n",
    "    shuffled_x = x[permutation,:,:,:]\n",
    "    shuffled_y = y[permutation,:]   \n",
    "    num_minibatches = int(np.floor(m/batch_size))\n",
    "    for k in range(0, num_minibatches):\n",
    "        mini_batch_x = shuffled_x[k * batch_size : k * batch_size + batch_size,:,:,:]\n",
    "        mini_batch_y = shuffled_y[k * batch_size : k * batch_size + batch_size,:]\n",
    "        mini_batch = (mini_batch_x, mini_batch_y)\n",
    "        mini_batches.append(mini_batch)\n",
    "    \n",
    "    if m % batch_size != 0:\n",
    "        mini_batch_x = shuffled_x[num_minibatches * batch_size : m,:,:,:]\n",
    "        mini_batch_y = shuffled_y[num_minibatches * batch_size : m,:]\n",
    "        mini_batch = (mini_batch_x, mini_batch_y)\n",
    "        mini_batches.append(mini_batch)\n",
    "    \n",
    "    return mini_batches"
   ]
  },
  {
   "cell_type": "markdown",
   "metadata": {},
   "source": [
    "### Forward Propagation with dropout regularization\n",
    "#### Architecture\n",
    "Layer  | Type                |Size      |Channels  |Kernel Size |Stride   |Padding  |Function\n",
    "-------|---------------------|----------|----------|------------|---------|---------|--------\n",
    "0      | Input               |64 x 64   |3         |            |         |         |     \n",
    "1      | Convolution (C1)    |31 x 31   |32        |5 x 5       |2        |1        |ReLU\n",
    "2      | Pooling (P1)        |16 x 16   |32        |2 x 2       |2        |1        |max\n",
    "3      | Convolution (C2)    |8 x 8     |64        |3 x 3       |2        |1        |ReLU\n",
    "4      | Pooling (P2)        |5 x 5     |64        |2 x 2       |2        |1        |max\n",
    "5      | Flatten (F3)        |1600      |          |            |         |         |dropout, keep_prob = 0.8\n",
    "6      | Fully Connected (F4)|300       |          |            |         |         |ReLU\n",
    "7      | Fully Connected (F5)|6         |          |            |         |         |Linear"
   ]
  },
  {
   "cell_type": "code",
   "execution_count": 11,
   "metadata": {
    "collapsed": true
   },
   "outputs": [],
   "source": [
    "def forward_propagation(X, parameters, keep_prob):\n",
    "    \n",
    "    W1 = parameters['W1']\n",
    "    W2 = parameters['W2']\n",
    "    Z1 = tf.nn.conv2d(X, W1, strides=[1, 2, 2, 1], padding='SAME')\n",
    "   \n",
    "    A1 = tf.nn.relu(Z1)\n",
    "   \n",
    "    P1 = tf.nn.max_pool(A1, ksize = [1, 2, 2, 1], strides = [1, 2, 2, 1], padding='SAME')\n",
    "   \n",
    "    Z2 = tf.nn.conv2d(P1, W2, strides=[1, 2, 2, 1], padding='SAME')\n",
    "    \n",
    "    A2 = tf.nn.relu(Z2)\n",
    "   \n",
    "    P2 = tf.nn.max_pool(A2, ksize = [1, 2, 2, 1], strides = [1, 2, 2, 1], padding='SAME')\n",
    "  \n",
    "    F3 = tf.contrib.layers.flatten(P2)\n",
    "  \n",
    "    layer_1_dropout = tf.nn.dropout(F3, keep_prob)\n",
    "    F4 = tf.contrib.layers.fully_connected(layer_1_dropout, 300, activation_fn=tf.nn.relu)\n",
    "\n",
    "    F5 = tf.contrib.layers.fully_connected(F4, 6, activation_fn =None)\n",
    "    return F5"
   ]
  },
  {
   "cell_type": "code",
   "execution_count": 12,
   "metadata": {
    "collapsed": true
   },
   "outputs": [],
   "source": [
    "def model(x_train, y_train, x_test, y_test, learning_rate=0.009,\n",
    "          num_epochs=75, minibatch_size=102, print_cost=True, kb=0.8):\n",
    "    \n",
    "    \n",
    "    tf.reset_default_graph()                        \n",
    "    tf.set_random_seed(1)                             \n",
    "    seed = 3                                          \n",
    "    (m, n_H0, n_W0, n_C0) = x_train.shape             \n",
    "    n_y = y_train.shape[1]                            \n",
    "    costs = []                                      \n",
    "    \n",
    "   \n",
    "    X, Y, keep_prob = create_placeholders(n_H0, n_W0, n_C0, n_y)\n",
    "   \n",
    "    parameters = initialize_parameters()\n",
    "   \n",
    "    F5 = forward_propagation(X, parameters, keep_prob)\n",
    "    \n",
    "    cost = compute_cost(F5, Y)\n",
    "    \n",
    "    optimizer = tf.train.AdamOptimizer(learning_rate).minimize(cost)\n",
    "    \n",
    "    init = tf.global_variables_initializer()\n",
    "     \n",
    "    with tf.Session() as sess:\n",
    "        \n",
    "        sess.run(init)\n",
    "        \n",
    "        for epoch in range(num_epochs):\n",
    "\n",
    "            minibatch_cost = 0.\n",
    "            num_minibatches = int(m / minibatch_size) \n",
    "            seed = seed + 1\n",
    "            minibatches = random_mini_batches(x_train, y_train, minibatch_size, seed)\n",
    "            \n",
    "            for minibatch in minibatches:\n",
    "\n",
    "                (minibatch_X, minibatch_Y) = minibatch\n",
    "        \n",
    "                _ , temp_cost = sess.run([optimizer, cost], feed_dict={X:minibatch_X, Y:minibatch_Y, keep_prob:kb})\n",
    "                \n",
    "                minibatch_cost += temp_cost / num_minibatches\n",
    "                \n",
    "            if print_cost == True and epoch % 5 == 0:\n",
    "                print (\"Cost after epoch %i: %f\" % (epoch, minibatch_cost))\n",
    "            if print_cost == True and epoch % 1 == 0:\n",
    "                costs.append(minibatch_cost)\n",
    "        \n",
    "        plt.plot(np.squeeze(costs))\n",
    "        plt.ylabel('Cost')\n",
    "        plt.xlabel('Iteration (per tens)')\n",
    "        plt.title(\"Learning rate =\" + str(learning_rate))\n",
    "        plt.show()\n",
    "\n",
    "        predict = tf.argmax(F5, 1)\n",
    "        correct_prediction = tf.equal(predict, tf.argmax(Y, 1))\n",
    "        \n",
    "        accuracy = tf.reduce_mean(tf.cast(correct_prediction, \"float\")) * 100\n",
    "        train_accuracy = accuracy.eval({X: x_train, Y: y_train, keep_prob:kb})\n",
    "        test_accuracy = accuracy.eval({X: x_test, Y: y_test, keep_prob:kb})\n",
    "        print \"Training data set accuracy:\", train_accuracy\n",
    "        print \"Testing data set accuracy:\", test_accuracy\n",
    "                \n",
    "        return train_accuracy, test_accuracy, parameters"
   ]
  },
  {
   "cell_type": "code",
   "execution_count": 13,
   "metadata": {},
   "outputs": [
    {
     "name": "stdout",
     "output_type": "stream",
     "text": [
      "Cost after epoch 0: 1.835193\n",
      "Cost after epoch 5: 0.500298\n",
      "Cost after epoch 10: 0.236736\n",
      "Cost after epoch 15: 0.141808\n",
      "Cost after epoch 20: 0.101847\n",
      "Cost after epoch 25: 0.056460\n",
      "Cost after epoch 30: 0.055277\n",
      "Cost after epoch 35: 0.027575\n",
      "Cost after epoch 40: 0.013866\n",
      "Cost after epoch 45: 0.017809\n",
      "Cost after epoch 50: 0.011315\n",
      "Cost after epoch 55: 0.019859\n",
      "Cost after epoch 60: 0.004535\n",
      "Cost after epoch 65: 0.009971\n",
      "Cost after epoch 70: 0.009239\n",
      "Cost after epoch 75: 0.007013\n",
      "Cost after epoch 80: 0.018450\n",
      "Cost after epoch 85: 0.020000\n",
      "Cost after epoch 90: 0.004995\n"
     ]
    },
    {
     "data": {
      "image/png": "[encoded data removed]",
      "text/plain": [
       "<matplotlib.figure.Figure at 0x1286eef10>"
      ]
     },
     "metadata": {},
     "output_type": "display_data"
    },
    {
     "name": "stdout",
     "output_type": "stream",
     "text": [
      "Training data set accuracy: 100.0\n",
      "Testing data set accuracy: 91.6667\n"
     ]
    }
   ],
   "source": [
    "train_accuracy, test_accuracy, parameters = model(x_train_norm, y_train_encoded, x_test_norm, y_test_encoded, num_epochs=91, minibatch_size=75, learning_rate = 0.001, kb=0.8)"
   ]
  },
  {
   "cell_type": "code",
   "execution_count": null,
   "metadata": {
    "collapsed": true
   },
   "outputs": [],
   "source": []
  }
 ],
 "metadata": {
  "kernelspec": {
   "display_name": "Python 2",
   "language": "python",
   "name": "python2"
  },
  "language_info": {
   "codemirror_mode": {
    "name": "ipython",
    "version": 2
   },
   "file_extension": ".py",
   "mimetype": "text/x-python",
   "name": "python",
   "nbconvert_exporter": "python",
   "pygments_lexer": "ipython2",
   "version": "2.7.13"
  }
 },
 "nbformat": 4,
 "nbformat_minor": 2
}
