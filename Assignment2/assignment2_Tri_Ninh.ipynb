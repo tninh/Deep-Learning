{
 "cells": [
  {
   "cell_type": "code",
   "execution_count": 1,
   "metadata": {
    "collapsed": true
   },
   "outputs": [],
   "source": [
    "import pandas as pd\n",
    "import matplotlib.pyplot as plt\n",
    "import numpy as np\n",
    "%matplotlib inline "
   ]
  },
  {
   "cell_type": "markdown",
   "metadata": {},
   "source": [
    "### 1-1"
   ]
  },
  {
   "cell_type": "code",
   "execution_count": 2,
   "metadata": {
    "collapsed": true
   },
   "outputs": [],
   "source": [
    "df = pd.read_csv('ex2data1.csv')"
   ]
  },
  {
   "cell_type": "code",
   "execution_count": 3,
   "metadata": {
    "collapsed": true
   },
   "outputs": [],
   "source": [
    "#Normalize the feature\n",
    "df['x'] = (df['x'] - df['x'].mean()) / df['x'].std()\n",
    "# mean = df['x'].mean()\n",
    "# std = df['x'].std()\n",
    "#df['y'] = (df['y'] - df['y'].mean()) / df['y'].std()"
   ]
  },
  {
   "cell_type": "code",
   "execution_count": 4,
   "metadata": {
    "collapsed": true
   },
   "outputs": [],
   "source": [
    "df.insert(0, 'Ones', 1)"
   ]
  },
  {
   "cell_type": "code",
   "execution_count": 5,
   "metadata": {
    "collapsed": true
   },
   "outputs": [],
   "source": [
    "x0 = np.matrix(df.iloc[:,0:2])\n",
    "y0 = np.matrix(df.iloc[:, 2:3])"
   ]
  },
  {
   "cell_type": "code",
   "execution_count": 6,
   "metadata": {},
   "outputs": [
    {
     "data": {
      "text/plain": [
       "30"
      ]
     },
     "execution_count": 6,
     "metadata": {},
     "output_type": "execute_result"
    }
   ],
   "source": [
    "#w = np.matrix(np.array([[0],[0]]))\n",
    "m=y0.size\n",
    "m"
   ]
  },
  {
   "cell_type": "code",
   "execution_count": 7,
   "metadata": {},
   "outputs": [
    {
     "data": {
      "text/plain": [
       "(30, 1)"
      ]
     },
     "execution_count": 7,
     "metadata": {},
     "output_type": "execute_result"
    }
   ],
   "source": [
    "np.matrix(df.iloc[:,1:2].values).shape"
   ]
  },
  {
   "cell_type": "code",
   "execution_count": 8,
   "metadata": {},
   "outputs": [
    {
     "data": {
      "image/png": "[encoded data removed]",
      "text/plain": [
       "<matplotlib.figure.Figure at 0x1187a1110>"
      ]
     },
     "metadata": {},
     "output_type": "display_data"
    }
   ],
   "source": [
    "#x0.shape, y0.shape, w.shape\n",
    "plt.figure(figsize=(8,5))\n",
    "plt.ylabel('y')\n",
    "plt.xlabel('x')\n",
    "plt.plot(np.matrix(df.iloc[:,1:2].values),y0,'go')\n",
    "plt.grid(True)"
   ]
  },
  {
   "cell_type": "code",
   "execution_count": 9,
   "metadata": {
    "collapsed": true
   },
   "outputs": [],
   "source": [
    "\n",
    "def h(w,x): #Linear hypothesis function\n",
    "    return np.dot(x,w)\n",
    "\n",
    "def cost_function(w,x,y): #Cost function\n",
    "    \"\"\"\n",
    "    theta_start is an n- dimensional vector of initial theta guess\n",
    "    X is matrix with n- columns and m- rows\n",
    "    y is a matrix with m- rows and 1 column\n",
    "    \"\"\"\n",
    "    #note to self: *.shape is (rows, columns)\n",
    "    return float((1./(2*m)) * np.dot((h(w,x)-y).T,(h(w,x)-y)))"
   ]
  },
  {
   "cell_type": "code",
   "execution_count": 10,
   "metadata": {},
   "outputs": [
    {
     "data": {
      "text/plain": [
       "0.2690767102822047"
      ]
     },
     "execution_count": 10,
     "metadata": {},
     "output_type": "execute_result"
    }
   ],
   "source": [
    "initial_w = np.zeros((x0.shape[1],1))\n",
    "cost_function(initial_w, x0, y0)"
   ]
  },
  {
   "cell_type": "code",
   "execution_count": 11,
   "metadata": {
    "collapsed": true
   },
   "outputs": [],
   "source": [
    "#w.ravel().shape[0]"
   ]
  },
  {
   "cell_type": "code",
   "execution_count": 12,
   "metadata": {},
   "outputs": [
    {
     "data": {
      "text/plain": [
       "(30, 2)"
      ]
     },
     "execution_count": 12,
     "metadata": {},
     "output_type": "execute_result"
    }
   ],
   "source": [
    "# def gradient_descent_matrix1(x, y, w, alpha, iterations):\n",
    "#     temp = np.matrix(np.zeros(w.shape))\n",
    "#     w_param = int(w.ravel().shape[0])\n",
    "#     costs = np.zeros(iterations)\n",
    "    \n",
    "#     for i in range(iterations):\n",
    "#         dist = (x * w) - y\n",
    "\n",
    "#         for j in range(w_param):\n",
    "#             #dist=(x[:,j] * w[j]) - y[]\n",
    "#             deriv = np.multiply(dist, x[:,j].T)\n",
    "#             temp[j] = w[j] - ((alpha / (float(len(x)))) * np.sum(deriv))\n",
    "            \n",
    "#         w = temp\n",
    "#         costs[i] = cost_function_matrix(x, y, w)\n",
    "\n",
    "#     return w, costs\n",
    "x0.shape"
   ]
  },
  {
   "cell_type": "code",
   "execution_count": 13,
   "metadata": {
    "collapsed": true
   },
   "outputs": [],
   "source": [
    "def descendGradient(X, y, init_w):\n",
    "    \"\"\"\n",
    "    theta_start is an n- dimensional vector of initial theta guess\n",
    "    X is matrix with n- columns and m- rows\n",
    "    \"\"\"\n",
    "    w = init_w\n",
    "    costs = [] #Used to plot cost as function of iteration\n",
    "    w_history = [] #Used to visualize the minimization path later on\n",
    "    for i in xrange(iterations):\n",
    "        temp = w\n",
    "        costs.append(cost_function(w,X,y))\n",
    "        # Buggy line\n",
    "        #thetahistory.append(list(tmptheta))\n",
    "        # Fixed line\n",
    "        w_history.append(list(w[:,0]))\n",
    "        error = (h(w, X) - y)\n",
    "        #Simultaneously updating theta values\n",
    "        for j in xrange(len(temp)):\n",
    "            temp[j] = w[j] - (alpha/m)*np.sum((error)*np.array(X[:,j]).T)\n",
    "        w = temp\n",
    "    return w, w_history, costs"
   ]
  },
  {
   "cell_type": "code",
   "execution_count": 14,
   "metadata": {
    "collapsed": true
   },
   "outputs": [],
   "source": [
    "#w = [[0],[0]]\n",
    "#w0, costs0 = gradient_descent_matrix1(x0, y0, w, 0.0000015, 30000)\n",
    "iterations = 1500\n",
    "alpha = 0.01\n",
    "initial_w = np.zeros((x0.shape[1],1))\n",
    "w, w_history, costs = descendGradient(x0, y0, initial_w)"
   ]
  },
  {
   "cell_type": "code",
   "execution_count": 15,
   "metadata": {},
   "outputs": [
    {
     "data": {
      "text/plain": [
       "matrix([[  4.52691509e-01],\n",
       "        [ -8.57832324e-17]])"
      ]
     },
     "execution_count": 15,
     "metadata": {},
     "output_type": "execute_result"
    }
   ],
   "source": [
    "matrix_w = np.matrix(w)\n",
    "matrix_w"
   ]
  },
  {
   "cell_type": "code",
   "execution_count": 16,
   "metadata": {
    "collapsed": true
   },
   "outputs": [],
   "source": [
    "cost = cost_function(w,x0,y0)"
   ]
  },
  {
   "cell_type": "code",
   "execution_count": 17,
   "metadata": {},
   "outputs": [
    {
     "name": "stdout",
     "output_type": "stream",
     "text": [
      "RMSE 0.408181\n"
     ]
    }
   ],
   "source": [
    "# f = w0[0] + (w0[1] * x)\n",
    "# f\n",
    "print 'RMSE %f' % np.sqrt(cost)"
   ]
  },
  {
   "cell_type": "code",
   "execution_count": 18,
   "metadata": {},
   "outputs": [
    {
     "data": {
      "text/plain": [
       "<matplotlib.legend.Legend at 0x118a2b590>"
      ]
     },
     "execution_count": 18,
     "metadata": {},
     "output_type": "execute_result"
    },
    {
     "data": {
      "image/png": "[encoded data removed]",
      "text/plain": [
       "<matplotlib.figure.Figure at 0x1187d6f90>"
      ]
     },
     "metadata": {},
     "output_type": "display_data"
    }
   ],
   "source": [
    "def fitted_line_function(xval):\n",
    "    return matrix_w[0] + xval*matrix_w[1]\n",
    "plt.figure(figsize=(10,6))\n",
    "plt.plot(x0[:,1],y0[:,0],'go',markersize=10,label='Training Data')\n",
    "plt.plot(x0[:,1],fitted_line_function(x0[:,1]),'b-',label = 'Hypothesis: h(x) = %0.2f + %0.17fx'%(matrix_w[0],matrix_w[1]))\n",
    "plt.grid(True) #Always plot.grid true!\n",
    "plt.ylabel('y')\n",
    "plt.xlabel('x')\n",
    "plt.legend()"
   ]
  },
  {
   "cell_type": "code",
   "execution_count": 19,
   "metadata": {},
   "outputs": [
    {
     "data": {
      "image/png": "[encoded data removed]",
      "text/plain": [
       "<matplotlib.figure.Figure at 0x1187758d0>"
      ]
     },
     "metadata": {},
     "output_type": "display_data"
    }
   ],
   "source": [
    "def plotConvergence(cost):\n",
    "    plt.figure(figsize=(10,6))\n",
    "    plt.plot(range(len(cost)),cost,'bo')\n",
    "    plt.grid(True)\n",
    "    plt.title(\"Convergence of Cost Function\")\n",
    "    plt.xlabel(\"Iteration number\")\n",
    "    plt.ylabel(\"Cost function\")\n",
    "    dummy = plt.xlim([-0.05*iterations,1.05*iterations])\n",
    "    #dummy = plt.ylim([4,8])\n",
    "\n",
    "\n",
    "plotConvergence(costs)\n",
    "#dummy = plt.ylim([costs.min(),costs.max()])\n",
    "\n"
   ]
  },
  {
   "cell_type": "markdown",
   "metadata": {},
   "source": [
    "### 1-2"
   ]
  },
  {
   "cell_type": "code",
   "execution_count": 20,
   "metadata": {
    "collapsed": true
   },
   "outputs": [],
   "source": [
    "x1 = df.iloc[:, 0:2].values\n",
    "y1 = df.iloc[:,2:3].values\n",
    "def genPolyFeatures(myX,p):\n",
    "    \"\"\"\n",
    "    Function takes in the X matrix (with bias term already included as the first column)\n",
    "    and returns an X matrix with \"p\" additional columns.\n",
    "    The first additional column will be the 2nd column (first non-bias column) squared,\n",
    "    the next additional column will be the 2nd column cubed, etc.\n",
    "    \"\"\"\n",
    "    newX = myX.copy()\n",
    "    for i in xrange(p):\n",
    "        dim = i+2\n",
    "        newX = np.insert(newX,newX.shape[1],np.power(newX[:,1],dim),axis=1)\n",
    "    return newX"
   ]
  },
  {
   "cell_type": "code",
   "execution_count": 21,
   "metadata": {
    "collapsed": true
   },
   "outputs": [],
   "source": [
    "newX = genPolyFeatures(x1, 1)\n",
    "#newX.shape"
   ]
  },
  {
   "cell_type": "code",
   "execution_count": 22,
   "metadata": {},
   "outputs": [
    {
     "data": {
      "text/plain": [
       "(30, 3)"
      ]
     },
     "execution_count": 22,
     "metadata": {},
     "output_type": "execute_result"
    }
   ],
   "source": [
    "newX.shape"
   ]
  },
  {
   "cell_type": "code",
   "execution_count": 23,
   "metadata": {
    "collapsed": true
   },
   "outputs": [],
   "source": [
    "x_squared = np.matrix(newX)\n",
    "y_matrix = np.matrix(y1)"
   ]
  },
  {
   "cell_type": "code",
   "execution_count": 24,
   "metadata": {
    "collapsed": true
   },
   "outputs": [],
   "source": [
    "initial_w = np.zeros((x_squared.shape[1],1))\n",
    "#w = np.matrix(np.array([[0],[0]]))\n",
    "#initial_w = np.zeros((x0.shape[1],1))\n",
    "iterations=2000\n",
    "alpha=0.00001\n",
    "w1, w_history1, costs1 = descendGradient(x_squared, y_matrix, initial_w)"
   ]
  },
  {
   "cell_type": "code",
   "execution_count": 25,
   "metadata": {},
   "outputs": [
    {
     "data": {
      "text/plain": [
       "matrix([[  1.60729003e-01],\n",
       "        [ -3.35953487e-18],\n",
       "        [  1.55371369e-01]])"
      ]
     },
     "execution_count": 25,
     "metadata": {},
     "output_type": "execute_result"
    }
   ],
   "source": [
    "matrix_w1 = np.matrix(w1)\n",
    "matrix_w1"
   ]
  },
  {
   "cell_type": "code",
   "execution_count": 26,
   "metadata": {
    "collapsed": true
   },
   "outputs": [],
   "source": [
    "w1_flat = w1.flatten()"
   ]
  },
  {
   "cell_type": "code",
   "execution_count": 27,
   "metadata": {},
   "outputs": [
    {
     "data": {
      "text/html": [
       "<div>\n",
       "<style>\n",
       "    .dataframe thead tr:only-child th {\n",
       "        text-align: right;\n",
       "    }\n",
       "\n",
       "    .dataframe thead th {\n",
       "        text-align: left;\n",
       "    }\n",
       "\n",
       "    .dataframe tbody tr th {\n",
       "        vertical-align: top;\n",
       "    }\n",
       "</style>\n",
       "<table border=\"1\" class=\"dataframe\">\n",
       "  <thead>\n",
       "    <tr style=\"text-align: right;\">\n",
       "      <th></th>\n",
       "      <th>0</th>\n",
       "      <th>1</th>\n",
       "      <th>2</th>\n",
       "    </tr>\n",
       "  </thead>\n",
       "  <tbody>\n",
       "    <tr>\n",
       "      <th>25</th>\n",
       "      <td>1.0</td>\n",
       "      <td>-1.736221</td>\n",
       "      <td>3.014464</td>\n",
       "    </tr>\n",
       "    <tr>\n",
       "      <th>2</th>\n",
       "      <td>1.0</td>\n",
       "      <td>-1.729095</td>\n",
       "      <td>2.989768</td>\n",
       "    </tr>\n",
       "    <tr>\n",
       "      <th>26</th>\n",
       "      <td>1.0</td>\n",
       "      <td>-1.618519</td>\n",
       "      <td>2.619605</td>\n",
       "    </tr>\n",
       "    <tr>\n",
       "      <th>16</th>\n",
       "      <td>1.0</td>\n",
       "      <td>-1.339582</td>\n",
       "      <td>1.794480</td>\n",
       "    </tr>\n",
       "    <tr>\n",
       "      <th>5</th>\n",
       "      <td>1.0</td>\n",
       "      <td>-1.300011</td>\n",
       "      <td>1.690028</td>\n",
       "    </tr>\n",
       "    <tr>\n",
       "      <th>15</th>\n",
       "      <td>1.0</td>\n",
       "      <td>-1.190301</td>\n",
       "      <td>1.416817</td>\n",
       "    </tr>\n",
       "    <tr>\n",
       "      <th>11</th>\n",
       "      <td>1.0</td>\n",
       "      <td>-1.043850</td>\n",
       "      <td>1.089623</td>\n",
       "    </tr>\n",
       "    <tr>\n",
       "      <th>0</th>\n",
       "      <td>1.0</td>\n",
       "      <td>-0.946877</td>\n",
       "      <td>0.896577</td>\n",
       "    </tr>\n",
       "    <tr>\n",
       "      <th>13</th>\n",
       "      <td>1.0</td>\n",
       "      <td>-0.516078</td>\n",
       "      <td>0.266337</td>\n",
       "    </tr>\n",
       "    <tr>\n",
       "      <th>27</th>\n",
       "      <td>1.0</td>\n",
       "      <td>-0.328708</td>\n",
       "      <td>0.108049</td>\n",
       "    </tr>\n",
       "    <tr>\n",
       "      <th>8</th>\n",
       "      <td>1.0</td>\n",
       "      <td>-0.192128</td>\n",
       "      <td>0.036913</td>\n",
       "    </tr>\n",
       "    <tr>\n",
       "      <th>29</th>\n",
       "      <td>1.0</td>\n",
       "      <td>-0.188804</td>\n",
       "      <td>0.035647</td>\n",
       "    </tr>\n",
       "    <tr>\n",
       "      <th>20</th>\n",
       "      <td>1.0</td>\n",
       "      <td>-0.162967</td>\n",
       "      <td>0.026558</td>\n",
       "    </tr>\n",
       "    <tr>\n",
       "      <th>14</th>\n",
       "      <td>1.0</td>\n",
       "      <td>-0.120587</td>\n",
       "      <td>0.014541</td>\n",
       "    </tr>\n",
       "    <tr>\n",
       "      <th>22</th>\n",
       "      <td>1.0</td>\n",
       "      <td>0.080919</td>\n",
       "      <td>0.006548</td>\n",
       "    </tr>\n",
       "    <tr>\n",
       "      <th>9</th>\n",
       "      <td>1.0</td>\n",
       "      <td>0.162964</td>\n",
       "      <td>0.026557</td>\n",
       "    </tr>\n",
       "    <tr>\n",
       "      <th>6</th>\n",
       "      <td>1.0</td>\n",
       "      <td>0.300009</td>\n",
       "      <td>0.090005</td>\n",
       "    </tr>\n",
       "    <tr>\n",
       "      <th>7</th>\n",
       "      <td>1.0</td>\n",
       "      <td>0.344094</td>\n",
       "      <td>0.118401</td>\n",
       "    </tr>\n",
       "    <tr>\n",
       "      <th>10</th>\n",
       "      <td>1.0</td>\n",
       "      <td>0.379404</td>\n",
       "      <td>0.143947</td>\n",
       "    </tr>\n",
       "    <tr>\n",
       "      <th>1</th>\n",
       "      <td>1.0</td>\n",
       "      <td>0.432845</td>\n",
       "      <td>0.187355</td>\n",
       "    </tr>\n",
       "    <tr>\n",
       "      <th>3</th>\n",
       "      <td>1.0</td>\n",
       "      <td>0.439107</td>\n",
       "      <td>0.192815</td>\n",
       "    </tr>\n",
       "    <tr>\n",
       "      <th>19</th>\n",
       "      <td>1.0</td>\n",
       "      <td>0.626597</td>\n",
       "      <td>0.392623</td>\n",
       "    </tr>\n",
       "    <tr>\n",
       "      <th>23</th>\n",
       "      <td>1.0</td>\n",
       "      <td>0.953177</td>\n",
       "      <td>0.908547</td>\n",
       "    </tr>\n",
       "    <tr>\n",
       "      <th>18</th>\n",
       "      <td>1.0</td>\n",
       "      <td>1.025331</td>\n",
       "      <td>1.051304</td>\n",
       "    </tr>\n",
       "    <tr>\n",
       "      <th>12</th>\n",
       "      <td>1.0</td>\n",
       "      <td>1.093173</td>\n",
       "      <td>1.195028</td>\n",
       "    </tr>\n",
       "    <tr>\n",
       "      <th>17</th>\n",
       "      <td>1.0</td>\n",
       "      <td>1.167660</td>\n",
       "      <td>1.363429</td>\n",
       "    </tr>\n",
       "    <tr>\n",
       "      <th>21</th>\n",
       "      <td>1.0</td>\n",
       "      <td>1.297557</td>\n",
       "      <td>1.683653</td>\n",
       "    </tr>\n",
       "    <tr>\n",
       "      <th>24</th>\n",
       "      <td>1.0</td>\n",
       "      <td>1.314656</td>\n",
       "      <td>1.728319</td>\n",
       "    </tr>\n",
       "    <tr>\n",
       "      <th>4</th>\n",
       "      <td>1.0</td>\n",
       "      <td>1.362117</td>\n",
       "      <td>1.855362</td>\n",
       "    </tr>\n",
       "    <tr>\n",
       "      <th>28</th>\n",
       "      <td>1.0</td>\n",
       "      <td>1.434119</td>\n",
       "      <td>2.056698</td>\n",
       "    </tr>\n",
       "  </tbody>\n",
       "</table>\n",
       "</div>"
      ],
      "text/plain": [
       "      0         1         2\n",
       "25  1.0 -1.736221  3.014464\n",
       "2   1.0 -1.729095  2.989768\n",
       "26  1.0 -1.618519  2.619605\n",
       "16  1.0 -1.339582  1.794480\n",
       "5   1.0 -1.300011  1.690028\n",
       "15  1.0 -1.190301  1.416817\n",
       "11  1.0 -1.043850  1.089623\n",
       "0   1.0 -0.946877  0.896577\n",
       "13  1.0 -0.516078  0.266337\n",
       "27  1.0 -0.328708  0.108049\n",
       "8   1.0 -0.192128  0.036913\n",
       "29  1.0 -0.188804  0.035647\n",
       "20  1.0 -0.162967  0.026558\n",
       "14  1.0 -0.120587  0.014541\n",
       "22  1.0  0.080919  0.006548\n",
       "9   1.0  0.162964  0.026557\n",
       "6   1.0  0.300009  0.090005\n",
       "7   1.0  0.344094  0.118401\n",
       "10  1.0  0.379404  0.143947\n",
       "1   1.0  0.432845  0.187355\n",
       "3   1.0  0.439107  0.192815\n",
       "19  1.0  0.626597  0.392623\n",
       "23  1.0  0.953177  0.908547\n",
       "18  1.0  1.025331  1.051304\n",
       "12  1.0  1.093173  1.195028\n",
       "17  1.0  1.167660  1.363429\n",
       "21  1.0  1.297557  1.683653\n",
       "24  1.0  1.314656  1.728319\n",
       "4   1.0  1.362117  1.855362\n",
       "28  1.0  1.434119  2.056698"
      ]
     },
     "execution_count": 27,
     "metadata": {},
     "output_type": "execute_result"
    }
   ],
   "source": [
    "x_squared_df = pd.DataFrame(x_squared)\n",
    "x_squared_df.sort_values(by=[1])"
   ]
  },
  {
   "cell_type": "code",
   "execution_count": 28,
   "metadata": {},
   "outputs": [
    {
     "data": {
      "image/png": "[encoded data removed]",
      "text/plain": [
       "<matplotlib.figure.Figure at 0x118871190>"
      ]
     },
     "metadata": {},
     "output_type": "display_data"
    }
   ],
   "source": [
    "\n",
    "def fitted_line_function(xval):\n",
    "    return matrix_w1[0] + xval[:,1]*matrix_w1[1] + xval[:,2] * matrix_w1[2]\n",
    "plt.figure(figsize=(10,6))\n",
    "xvals = np.linspace(df.x.min(), df.x.max(), 30)\n",
    "xmat = np.ones((30,1))\n",
    "xmat = np.insert(xmat,xmat.shape[1],xvals.T,axis=1)\n",
    "xmat = x_squared\n",
    "#f = poly1d(h(matrix_w1,xmat))\n",
    "plt.plot(df.iloc[:,1],df.iloc[:,2],'go',markersize=10,label='Training Data')\n",
    "#x_squared = (x_squared - mean)/std\n",
    "#_=plt.plot(xvals,np.dot(x_squared, matrix_w1),'b-')\n",
    "plt.plot(df.iloc[:,1].sort_values(),h(matrix_w1, x_squared_df.sort_values(by=[1])),'b')\n",
    "#_=plt.plot(df.iloc[:,1],np.poly1d(w1_flat)(df.iloc[:,1]),'b-')\n",
    "plt.grid(True) #Always plot.grid true!\n",
    "plt.ylabel('y')\n",
    "plt.xlabel('x')\n",
    "plt.show()"
   ]
  },
  {
   "cell_type": "code",
   "execution_count": 29,
   "metadata": {},
   "outputs": [
    {
     "data": {
      "image/png": "[encoded data removed]",
      "text/plain": [
       "<matplotlib.figure.Figure at 0x118882f10>"
      ]
     },
     "metadata": {},
     "output_type": "display_data"
    }
   ],
   "source": [
    "plotConvergence(costs1)"
   ]
  },
  {
   "cell_type": "code",
   "execution_count": 30,
   "metadata": {
    "collapsed": true
   },
   "outputs": [],
   "source": [
    "cost = cost_function(matrix_w1,x_squared,y1)"
   ]
  },
  {
   "cell_type": "code",
   "execution_count": 31,
   "metadata": {},
   "outputs": [
    {
     "name": "stdout",
     "output_type": "stream",
     "text": [
      "RMSE: 0.475993\n"
     ]
    }
   ],
   "source": [
    "print 'RMSE: %f' %np.sqrt(cost)"
   ]
  },
  {
   "cell_type": "markdown",
   "metadata": {},
   "source": [
    "### 1-3"
   ]
  },
  {
   "cell_type": "code",
   "execution_count": 32,
   "metadata": {
    "collapsed": true
   },
   "outputs": [],
   "source": [
    "x2 = df.iloc[:, 0:2].values\n",
    "y2 = df.iloc[:,2:3].values"
   ]
  },
  {
   "cell_type": "code",
   "execution_count": 33,
   "metadata": {
    "collapsed": true
   },
   "outputs": [],
   "source": [
    "newX2 = genPolyFeatures(x2, 3)"
   ]
  },
  {
   "cell_type": "code",
   "execution_count": 34,
   "metadata": {
    "collapsed": true
   },
   "outputs": [],
   "source": [
    "x_fourth = np.matrix(newX2)\n",
    "matrix_y2 = np.matrix(y2)"
   ]
  },
  {
   "cell_type": "code",
   "execution_count": 35,
   "metadata": {},
   "outputs": [
    {
     "data": {
      "text/plain": [
       "(30, 5)"
      ]
     },
     "execution_count": 35,
     "metadata": {},
     "output_type": "execute_result"
    }
   ],
   "source": [
    "x_fourth.shape"
   ]
  },
  {
   "cell_type": "code",
   "execution_count": 36,
   "metadata": {
    "collapsed": true
   },
   "outputs": [],
   "source": [
    "initial_w = np.zeros((x_fourth.shape[1],1))\n",
    "alpha=0.000001\n",
    "w2, w_history2, costs2 = descendGradient(x_fourth, y_matrix, initial_w)"
   ]
  },
  {
   "cell_type": "code",
   "execution_count": 37,
   "metadata": {
    "collapsed": true
   },
   "outputs": [],
   "source": [
    "matrix_w2 = np.matrix(w2)"
   ]
  },
  {
   "cell_type": "code",
   "execution_count": 38,
   "metadata": {},
   "outputs": [
    {
     "data": {
      "text/plain": [
       "matrix([[  2.33039095e-02],\n",
       "        [ -4.90048742e-19],\n",
       "        [  2.25271125e-02],\n",
       "        [ -6.05508482e-03],\n",
       "        [  4.19710800e-02]])"
      ]
     },
     "execution_count": 38,
     "metadata": {},
     "output_type": "execute_result"
    }
   ],
   "source": [
    "matrix_w2"
   ]
  },
  {
   "cell_type": "code",
   "execution_count": 39,
   "metadata": {
    "collapsed": true
   },
   "outputs": [],
   "source": [
    "w2_flat = w2.flatten()"
   ]
  },
  {
   "cell_type": "code",
   "execution_count": 40,
   "metadata": {
    "collapsed": true
   },
   "outputs": [],
   "source": [
    "x_fourth_df = pd.DataFrame(x_fourth)"
   ]
  },
  {
   "cell_type": "code",
   "execution_count": 41,
   "metadata": {},
   "outputs": [
    {
     "data": {
      "image/png": "[encoded data removed]",
      "text/plain": [
       "<matplotlib.figure.Figure at 0x118c99810>"
      ]
     },
     "metadata": {},
     "output_type": "display_data"
    }
   ],
   "source": [
    "def fitted_line_function(xval):\n",
    "    return matrix_w2[0] + xval[:,1]*matrix_w2[1] + xval[:,2] * matrix_w2[2] + xval[:,3] * matrix_w2[3] + xval[:,4] * matrix_w2[4]\n",
    "plt.figure(figsize=(10,6))\n",
    "xvals = np.linspace(df.x.min(), df.x.max(), 30)\n",
    "# xmat = np.ones((30,1))\n",
    "# xmat = np.insert(xmat,xmat.shape[1],xvals.T,axis=1)\n",
    "# xmat = x_squared\n",
    "#xticks(arrange(10))\n",
    "#fig, ax = plt.subplots()\n",
    "#f = poly1d(h(matrix_w1,xmat))\n",
    "plt.plot(df.iloc[:,1],df.iloc[:,2],'go',markersize=10,label='Training Data')\n",
    "\n",
    "plt.plot(df.iloc[:,1].sort_values(ascending=False),h(matrix_w2, x_fourth_df.sort_values(by=[1], ascending=False)),'b')\n",
    "#ax.grid(True) #Always plot.grid true!\n",
    "plt.ylabel('y')\n",
    "plt.xlabel('x')\n",
    "plt.show()"
   ]
  },
  {
   "cell_type": "code",
   "execution_count": 42,
   "metadata": {},
   "outputs": [
    {
     "name": "stdout",
     "output_type": "stream",
     "text": [
      "RMSE: 0.504083\n",
      "Weights: \n",
      "[[  2.33039095e-02]\n",
      " [ -4.90048742e-19]\n",
      " [  2.25271125e-02]\n",
      " [ -6.05508482e-03]\n",
      " [  4.19710800e-02]]\n"
     ]
    }
   ],
   "source": [
    "print 'RMSE: %f' %np.sqrt(cost_function(matrix_w2, x_fourth, matrix_y2))\n",
    "print 'Weights: '\n",
    "print matrix_w2"
   ]
  },
  {
   "cell_type": "code",
   "execution_count": 43,
   "metadata": {},
   "outputs": [
    {
     "data": {
      "image/png": "[encoded data removed]",
      "text/plain": [
       "<matplotlib.figure.Figure at 0x118bdb450>"
      ]
     },
     "metadata": {},
     "output_type": "display_data"
    }
   ],
   "source": [
    "plotConvergence(costs2)"
   ]
  },
  {
   "cell_type": "markdown",
   "metadata": {},
   "source": [
    "### 1-4"
   ]
  },
  {
   "cell_type": "code",
   "execution_count": 44,
   "metadata": {
    "collapsed": true
   },
   "outputs": [],
   "source": [
    "x3 = df.iloc[:, 0:2].values\n",
    "y3 = df.iloc[:,2:3].values"
   ]
  },
  {
   "cell_type": "code",
   "execution_count": 45,
   "metadata": {
    "collapsed": true
   },
   "outputs": [],
   "source": [
    "newX3 = genPolyFeatures(x3, 15)"
   ]
  },
  {
   "cell_type": "code",
   "execution_count": 46,
   "metadata": {
    "collapsed": true
   },
   "outputs": [],
   "source": [
    "x_16th = np.matrix(newX3)\n",
    "matrix_y3 = np.matrix(y3)\n",
    "init_w3 = np.zeros((x_16th.shape[1],1))"
   ]
  },
  {
   "cell_type": "code",
   "execution_count": 47,
   "metadata": {
    "collapsed": true
   },
   "outputs": [],
   "source": [
    "#init_w3 = np.zeros((x_16th.shape[1],1))\n",
    "iterations = 3000\n",
    "alpha = 0.0000000001\n",
    "w3, w_history3, costs3 = descendGradient(x_16th, matrix_y3, init_w3)"
   ]
  },
  {
   "cell_type": "code",
   "execution_count": 48,
   "metadata": {},
   "outputs": [
    {
     "data": {
      "text/plain": [
       "matrix([[  1.03421828e-06],\n",
       "        [ -2.36077824e-23],\n",
       "        [  9.99744334e-07],\n",
       "        [ -2.68722267e-07],\n",
       "        [  1.86265991e-06],\n",
       "        [ -1.05634610e-06],\n",
       "        [  4.09663064e-06],\n",
       "        [ -3.49480698e-06],\n",
       "        [  9.93916577e-06],\n",
       "        [ -1.09274551e-05],\n",
       "        [  2.57926846e-05],\n",
       "        [ -3.33037085e-05],\n",
       "        [  7.00457807e-05],\n",
       "        [ -1.00192048e-04],\n",
       "        [  1.96044096e-04],\n",
       "        [ -2.99380932e-04],\n",
       "        [  5.59706191e-04]])"
      ]
     },
     "execution_count": 48,
     "metadata": {},
     "output_type": "execute_result"
    }
   ],
   "source": [
    "matrix_w3 = np.matrix(w3)\n",
    "matrix_w3"
   ]
  },
  {
   "cell_type": "code",
   "execution_count": 49,
   "metadata": {
    "collapsed": true
   },
   "outputs": [],
   "source": [
    "w3_flat = w3.flatten()\n",
    "x_16th_df=pd.DataFrame(x_16th)"
   ]
  },
  {
   "cell_type": "code",
   "execution_count": 50,
   "metadata": {},
   "outputs": [
    {
     "name": "stdout",
     "output_type": "stream",
     "text": [
      "RMSE 1.081607\n"
     ]
    }
   ],
   "source": [
    "print 'RMSE %f' %np.sqrt(cost_function(matrix_w3, x_16th, matrix_y3))"
   ]
  },
  {
   "cell_type": "code",
   "execution_count": 51,
   "metadata": {},
   "outputs": [
    {
     "data": {
      "image/png": "[encoded data removed]",
      "text/plain": [
       "<matplotlib.figure.Figure at 0x118ea8d90>"
      ]
     },
     "metadata": {},
     "output_type": "display_data"
    }
   ],
   "source": [
    "def fitted_line_function_16th(xval):\n",
    "    return matrix_w2[0] + xval[:,1]*matrix_w2[1] + xval[:,2] * matrix_w2[2] + xval[:,3] * matrix_w2[3] + xval[:,4] * matrix_w2[4]\n",
    "plt.figure(figsize=(10,6))\n",
    "xvals = np.linspace(df.x.min(), df.x.max(), 30)\n",
    "xmat = np.ones((30,1))\n",
    "xmat = np.insert(xmat,xmat.shape[1],xvals.T,axis=1)\n",
    "xmat = x_squared\n",
    "#f = poly1d(h(matrix_w1,xmat))\n",
    "plt.plot(x3[:,1],y3[:,0],'go',markersize=10,label='Training Data')\n",
    "# plt.plot(xvals,h(matrix_w1,xmat),'b-',label = 'Hypothesis: h(x) = %0.2f + %0.17fx + %0.2fx^2'%(matrix_w1[0],matrix_w1[1], matrix_w1[2]))\n",
    "plt.plot(df.iloc[:,1].sort_values(ascending=False),h(matrix_w3, x_16th_df.sort_values(by=[1], ascending=False)),'b-')\n",
    "plt.grid(True) #Always plot.grid true!\n",
    "plt.ylabel('y')\n",
    "plt.xlabel('x')\n",
    "plt.show()"
   ]
  },
  {
   "cell_type": "markdown",
   "metadata": {},
   "source": [
    "### 1-5"
   ]
  },
  {
   "cell_type": "code",
   "execution_count": 52,
   "metadata": {
    "collapsed": true
   },
   "outputs": [],
   "source": [
    "x4 = df.iloc[:, 0:2].values\n",
    "y4 = df.iloc[:,2:3].values\n",
    "lambda_ops=[0.0001, 0.1,1.,10.]"
   ]
  },
  {
   "cell_type": "code",
   "execution_count": 53,
   "metadata": {
    "collapsed": true
   },
   "outputs": [],
   "source": [
    "def cost_function_reg(w, x, y, penalty):\n",
    "    m = x.shape[0]\n",
    "    y_hat = h(w, x).reshape((m,1))\n",
    "    cost = float((1./(2*m)) * np.dot((y_hat - y).T,(y_hat - y)))\n",
    "    regterm = (float(penalty)/(2 * m)) * float(w[1:].T.dot(w[1:]))\n",
    "    return cost + regterm"
   ]
  },
  {
   "cell_type": "code",
   "execution_count": 54,
   "metadata": {},
   "outputs": [
    {
     "name": "stdout",
     "output_type": "stream",
     "text": [
      "1.12045649258\n",
      "1.12212149258\n",
      "1.13712149258\n",
      "1.28712149258\n"
     ]
    }
   ],
   "source": [
    "init_w = np.array([[1.],[1.]])\n",
    "for a in lambda_ops:\n",
    "    print cost_function_reg(init_w, x4, y4, penalty=a)"
   ]
  },
  {
   "cell_type": "code",
   "execution_count": 55,
   "metadata": {
    "collapsed": true
   },
   "outputs": [],
   "source": [
    "def gradient_descent_reg(w,x,y,penalty):\n",
    "    w = w.reshape((w.shape[0],1))\n",
    "    m = x.shape[0]\n",
    "    #grad has same shape as myTheta (2x1)\n",
    "    y_hat = h(w,x).reshape((m,1))\n",
    "    gradient = (1./float(m))*x.T.dot(h(w,x)-y)\n",
    "    regterm = (float(penalty)/m)*w\n",
    "    regterm[0] = 0\n",
    "    regterm.reshape((gradient.shape[0],1))\n",
    "    return gradient + regterm"
   ]
  },
  {
   "cell_type": "code",
   "execution_count": 56,
   "metadata": {
    "collapsed": true
   },
   "outputs": [],
   "source": [
    "penalty=[0.001, 0.1, 1, 10]\n",
    "coefs = []"
   ]
  },
  {
   "cell_type": "code",
   "execution_count": 57,
   "metadata": {
    "collapsed": true
   },
   "outputs": [],
   "source": [
    "for l in penalty:\n",
    "    w = np.zeros((x_16th.shape[1],1))\n",
    "    matrix_w4 = np.matrix(gradient_descent_reg(w,x_16th,y4,l))\n",
    "    coefs.append(matrix_w4)"
   ]
  },
  {
   "cell_type": "code",
   "execution_count": 68,
   "metadata": {},
   "outputs": [
    {
     "data": {
      "text/plain": [
       "[matrix([[  -0.45269151],\n",
       "         [   0.32073629],\n",
       "         [  -0.18370659],\n",
       "         [   0.5844706 ],\n",
       "         [  -0.31128346],\n",
       "         [   1.21304344],\n",
       "         [  -0.78617633],\n",
       "         [   2.74814739],\n",
       "         [  -2.25712373],\n",
       "         [   6.67551722],\n",
       "         [  -6.7318997 ],\n",
       "         [  17.11577074],\n",
       "         [ -20.22262068],\n",
       "         [  45.71711494],\n",
       "         [ -60.63546245],\n",
       "         [ 125.8674372 ],\n",
       "         [-181.17662521]]), matrix([[  -0.45269151],\n",
       "         [   0.32073629],\n",
       "         [  -0.18370659],\n",
       "         [   0.5844706 ],\n",
       "         [  -0.31128346],\n",
       "         [   1.21304344],\n",
       "         [  -0.78617633],\n",
       "         [   2.74814739],\n",
       "         [  -2.25712373],\n",
       "         [   6.67551722],\n",
       "         [  -6.7318997 ],\n",
       "         [  17.11577074],\n",
       "         [ -20.22262068],\n",
       "         [  45.71711494],\n",
       "         [ -60.63546245],\n",
       "         [ 125.8674372 ],\n",
       "         [-181.17662521]]), matrix([[  -0.45269151],\n",
       "         [   0.32073629],\n",
       "         [  -0.18370659],\n",
       "         [   0.5844706 ],\n",
       "         [  -0.31128346],\n",
       "         [   1.21304344],\n",
       "         [  -0.78617633],\n",
       "         [   2.74814739],\n",
       "         [  -2.25712373],\n",
       "         [   6.67551722],\n",
       "         [  -6.7318997 ],\n",
       "         [  17.11577074],\n",
       "         [ -20.22262068],\n",
       "         [  45.71711494],\n",
       "         [ -60.63546245],\n",
       "         [ 125.8674372 ],\n",
       "         [-181.17662521]]), matrix([[  -0.45269151],\n",
       "         [   0.32073629],\n",
       "         [  -0.18370659],\n",
       "         [   0.5844706 ],\n",
       "         [  -0.31128346],\n",
       "         [   1.21304344],\n",
       "         [  -0.78617633],\n",
       "         [   2.74814739],\n",
       "         [  -2.25712373],\n",
       "         [   6.67551722],\n",
       "         [  -6.7318997 ],\n",
       "         [  17.11577074],\n",
       "         [ -20.22262068],\n",
       "         [  45.71711494],\n",
       "         [ -60.63546245],\n",
       "         [ 125.8674372 ],\n",
       "         [-181.17662521]])]"
      ]
     },
     "execution_count": 68,
     "metadata": {},
     "output_type": "execute_result"
    }
   ],
   "source": [
    "coefs"
   ]
  },
  {
   "cell_type": "code",
   "execution_count": 59,
   "metadata": {
    "collapsed": true
   },
   "outputs": [],
   "source": [
    "w_flatten = coefs[0].flatten()\n",
    "#w_flatten.ndim"
   ]
  },
  {
   "cell_type": "code",
   "execution_count": 60,
   "metadata": {},
   "outputs": [
    {
     "name": "stdout",
     "output_type": "stream",
     "text": [
      "RMSE 356030.970531\n",
      "RMSE 356030.970659\n",
      "RMSE 356030.971823\n",
      "RMSE 356030.983460\n"
     ]
    }
   ],
   "source": [
    "for i in range(len(penalty)):\n",
    "    print 'RMSE %f' %np.sqrt(cost_function_reg(coefs[i], x_16th, y4, penalty[i]))"
   ]
  },
  {
   "cell_type": "code",
   "execution_count": 61,
   "metadata": {
    "collapsed": true
   },
   "outputs": [],
   "source": [
    "# plt.figure(figsize=(10,6))\n",
    "# #f = poly1d(h(matrix_w1,xmat))\n",
    "# plt.plot(x4[:,1],y4[:,0],'go',markersize=10,label='Training Data')\n",
    "# # plt.plot(xvals,h(matrix_w1,xmat),'b-',label = 'Hypothesis: h(x) = %0.2f + %0.17fx + %0.2fx^2'%(matrix_w1[0],matrix_w1[1], matrix_w1[2]))\n",
    "# plt.plot(df.iloc[:,1].sort_values(ascending=False),np.poly1d(w_flatten)(df.iloc[:,1].sort_values(ascending=False)),'b-')\n",
    "# plt.grid(True) #Always plot.grid true!\n",
    "# plt.ylabel('y')\n",
    "# plt.xlabel('x')\n",
    "# plt.show()"
   ]
  },
  {
   "cell_type": "code",
   "execution_count": 62,
   "metadata": {},
   "outputs": [
    {
     "name": "stdout",
     "output_type": "stream",
     "text": [
      "RMSE: 356030.970531\n"
     ]
    }
   ],
   "source": [
    "from sklearn.metrics import mean_squared_error\n",
    "print 'RMSE: %f' % np.sqrt(cost_function_reg(coefs[0], x_16th, y4, penalty[0]))"
   ]
  },
  {
   "cell_type": "markdown",
   "metadata": {},
   "source": [
    "### 1-6"
   ]
  },
  {
   "cell_type": "code",
   "execution_count": 63,
   "metadata": {},
   "outputs": [
    {
     "name": "stdout",
     "output_type": "stream",
     "text": [
      "[[ 0.         -0.62942525 -0.40700699 -0.29703092 -0.21112299 -0.00383183\n",
      "  -0.02401486  0.30951462  0.14532136  0.39341955  0.19821634  0.07218475\n",
      "   0.05610867 -0.46729628 -0.2519597   0.15170264  0.08160321]] 0.242224353929\n",
      "[[ 0.         -0.46324487 -0.2093621  -0.10320866 -0.11239153  0.03385085\n",
      "  -0.03562464  0.10684689  0.02685016  0.10144008  0.05826526  0.00234348\n",
      "   0.02787275 -0.11919868 -0.0758387   0.03957139  0.02288291]] 0.264844362754\n",
      "[[ 0.         -0.14818694 -0.0590945  -0.06713008 -0.04612943 -0.03682015\n",
      "  -0.03502344 -0.01527754 -0.02337713 -0.00024674 -0.01061292  0.00478448\n",
      "   0.00139831 -0.00069824  0.00613652 -0.00047525 -0.0017395 ]] 0.310340638813\n"
     ]
    }
   ],
   "source": [
    "lambda_ops = [0.1, 1, 10]\n",
    "x5 = np.matrix(df.iloc[:, 1:2])\n",
    "y5 = np.matrix(df.iloc[:,2:3])\n",
    "matrix_y5 = np.matrix(y5)\n",
    "from sklearn.linear_model import Ridge\n",
    "coefs = []\n",
    "for l in lambda_ops:\n",
    "    r0 = Ridge(l)\n",
    "    r0.fit(x_16th, matrix_y5)\n",
    "    coefs.append(r0.coef_)\n",
    "    print r0.coef_, np.sqrt(mean_squared_error(r0.predict(x_16th), matrix_y5))"
   ]
  },
  {
   "cell_type": "code",
   "execution_count": 64,
   "metadata": {
    "collapsed": true
   },
   "outputs": [],
   "source": [
    "# plt.figure(figsize=(10,6))\n",
    "# xvals = np.linspace(df.x.min(), df.x.max(), 30)\n",
    "# xmat = np.ones((30,1))\n",
    "# xmat = np.insert(xmat,xmat.shape[1],xvals.T,axis=1)\n",
    "# xmat = x_squared\n",
    "# #f = poly1d(h(matrix_w1,xmat))\n",
    "# plt.plot(df.iloc[:,1],df.iloc[:,2],'go',markersize=10,label='Training Data')\n",
    "# # plt.plot(xvals,h(matrix_w1,xmat),'b-',label = 'Hypothesis: h(x) = %0.2f + %0.17fx + %0.2fx^2'%(matrix_w1[0],matrix_w1[1], matrix_w1[2]))\n",
    "# plt.plot(df.iloc[:,1].sort_values(ascending=False),np.dot(x_16th_df.sort_values(by=[1],ascending=False), r.coef_.T),'b-')\n",
    "# plt.grid(True) #Always plot.grid true!\n",
    "# plt.ylabel('y')\n",
    "# plt.xlabel('x')\n",
    "# plt.show()"
   ]
  },
  {
   "cell_type": "code",
   "execution_count": 65,
   "metadata": {},
   "outputs": [
    {
     "data": {
      "text/plain": [
       "(3, 1, 17)"
      ]
     },
     "execution_count": 65,
     "metadata": {},
     "output_type": "execute_result"
    }
   ],
   "source": [
    " coefs_array = np.asarray(coefs)\n",
    "coefs_array.shape"
   ]
  },
  {
   "cell_type": "code",
   "execution_count": 66,
   "metadata": {},
   "outputs": [
    {
     "data": {
      "text/plain": [
       "(3,)"
      ]
     },
     "execution_count": 66,
     "metadata": {},
     "output_type": "execute_result"
    }
   ],
   "source": [
    "lambda_ops_array = np.asarray(lambda_ops)\n",
    "lambda_ops_array.shape"
   ]
  },
  {
   "cell_type": "code",
   "execution_count": 67,
   "metadata": {
    "collapsed": true
   },
   "outputs": [],
   "source": [
    "# from sklearn.datasets import make_regression\n",
    "# from sklearn.linear_model import Ridge\n",
    "# from sklearn.metrics import mean_squared_error\n",
    "\n",
    "# clf = Ridge()\n",
    "\n",
    "# #X, y, w = make_regression(n_samples=10, n_features=10, coef=True,random_state=1, bias=3.5)\n",
    "\n",
    "# coefs = []\n",
    "# errors = []\n",
    "\n",
    "# alphas = np.logspace(-6, 6, 200)\n",
    "\n",
    "# # Train the model with different regularisation strengths\n",
    "# for a in alphas:\n",
    "#     clf.set_params(alpha=a)\n",
    "#     clf.fit(x_16th, y5)\n",
    "#     coefs.append(clf.coef_)\n",
    "#     #errors.append(mean_squared_error(h(clf.coef_.T, x_16th), y5))\n",
    "\n",
    "# # Display results\n",
    "# plt.figure(figsize=(20, 6))\n",
    "\n",
    "# plt.subplot(121)\n",
    "# ax = plt.gca()\n",
    "# ax.plot(alphas, coefs)\n",
    "# ax.set_xscale('log')\n",
    "# plt.xlabel('alpha')\n",
    "# plt.ylabel('weights')\n",
    "# plt.title('Ridge coefficients as a function of the regularization')\n",
    "# plt.axis('tight')\n",
    "\n",
    "# plt.show()"
   ]
  },
  {
   "cell_type": "code",
   "execution_count": 68,
   "metadata": {
    "collapsed": true
   },
   "outputs": [],
   "source": [
    "# plt.figure(figsize=(20, 6))\n",
    "\n",
    "# plt.subplot(121)\n",
    "# ax = plt.gca()\n",
    "# ax.plot(lambda_ops_array, coefs_array.flatten())\n",
    "# ax.set_xscale('log')\n",
    "# plt.xlabel('alpha')\n",
    "# plt.ylabel('weights')\n",
    "# plt.title('Ridge coefficients as a function of the regularization')\n",
    "# plt.axis('tight')\n",
    "# plt.show()"
   ]
  },
  {
   "cell_type": "markdown",
   "metadata": {},
   "source": [
    "### 1-7"
   ]
  },
  {
   "cell_type": "code",
   "execution_count": 69,
   "metadata": {},
   "outputs": [
    {
     "name": "stdout",
     "output_type": "stream",
     "text": [
      "[  0.00000000e+00  -3.72400821e+01  -2.60246574e+02   1.79031925e+01\n",
      "   3.14280717e+02   7.17344851e+01  -8.37089671e+01  -4.57394117e+01\n",
      "  -1.48104725e+01  -1.88596276e+00   7.82882584e-01   1.35289340e+00\n",
      "   9.14347105e-01   5.63120607e-01   2.98594817e-01   1.73487305e-01\n",
      "   8.48161927e-02] 17.9906127086\n",
      "[  0.00000000e+00  -7.88555083e-01  -6.42281121e-01   3.80740691e-01\n",
      "   2.63584024e-01   3.91665978e-02  -3.77584536e-03  -3.24675432e-02\n",
      "  -2.14695100e-02  -1.44938232e-02  -8.03587402e-03  -3.64928673e-03\n",
      "  -1.85426909e-03  -5.91883682e-04  -2.62984893e-04  -2.05080618e-05\n",
      "   8.33744092e-06] 0.262742181378\n",
      "[  0.00000000e+00  -7.87770504e-01  -6.37013490e-01   3.80125705e-01\n",
      "   2.57149470e-01   3.80232623e-02  -1.96758351e-03  -3.16373403e-02\n",
      "  -2.12198106e-02  -1.44713769e-02  -8.05397559e-03  -3.67195654e-03\n",
      "  -1.87024395e-03  -6.02148234e-04  -2.68636711e-04  -2.38200502e-05\n",
      "   6.69950741e-06] 0.262753776481\n",
      "[  0.00000000e+00  -7.51515324e-01  -3.99611980e-01   3.46821466e-01\n",
      "   0.00000000e+00   3.51546793e-03   4.45082355e-02  -9.16518800e-03\n",
      "  -2.83112988e-03  -1.05125406e-02  -7.89517047e-03  -4.26615019e-03\n",
      "  -2.49426013e-03  -1.02048434e-03  -5.27438925e-04  -1.74339132e-04\n",
      "  -7.33704740e-05] 0.263870084578\n",
      "[  0.00000000e+00  -4.57125108e-01  -2.85526264e-01   0.00000000e+00\n",
      "  -0.00000000e+00   5.38734253e-02  -8.96380129e-03   5.76338414e-03\n",
      "  -0.00000000e+00   0.00000000e+00  -0.00000000e+00  -5.69166176e-03\n",
      "  -2.02446131e-03  -1.46189066e-03  -7.90118249e-04  -3.34609933e-04\n",
      "  -2.05026089e-04] 0.273417424485\n",
      "[ 0.         -0.09575393 -0.         -0.         -0.         -0.         -0.\n",
      " -0.00457655 -0.02469924 -0.02202201 -0.01350456 -0.00383488 -0.0004389   0.\n",
      " -0.          0.00034399  0.00023176] 0.351927914099\n",
      "[ 0.         -0.         -0.         -0.         -0.         -0.         -0.\n",
      " -0.         -0.         -0.         -0.         -0.         -0.00094072\n",
      " -0.00240385 -0.00301631 -0.00291016 -0.00107176] 0.421119267606\n",
      "[ 0.         -0.         -0.         -0.         -0.         -0.         -0.\n",
      " -0.         -0.         -0.         -0.         -0.         -0.         -0.\n",
      " -0.         -0.00229285 -0.00135354] 0.471377275644\n"
     ]
    },
    {
     "name": "stderr",
     "output_type": "stream",
     "text": [
      "/Users/trininh/anaconda/lib/python2.7/site-packages/sklearn/linear_model/coordinate_descent.py:484: ConvergenceWarning: Objective did not converge. You might want to increase the number of iterations. Fitting data with very small alpha may cause precision problems.\n",
      "  ConvergenceWarning)\n"
     ]
    }
   ],
   "source": [
    "x5 = np.matrix(df.iloc[:, 1:2])\n",
    "y5 = np.matrix(df.iloc[:,2:3])\n",
    "matrix_y5 = np.matrix(y5)\n",
    "from sklearn.linear_model import Lasso\n",
    "alphas = [-1, 0.000005, 0.000025, 0.001, 0.01, 0.1, 1, 10]\n",
    "coefs1 = []\n",
    "for a in alphas:\n",
    "    l0 = Lasso(a, max_iter=1500)\n",
    "    l0.fit(x_16th, matrix_y5)\n",
    "    coefs1.append(l0.coef_)\n",
    "    print l0.coef_, np.sqrt(mean_squared_error(l0.predict(x_16th), matrix_y5))"
   ]
  },
  {
   "cell_type": "code",
   "execution_count": 70,
   "metadata": {},
   "outputs": [
    {
     "name": "stdout",
     "output_type": "stream",
     "text": [
      "Optimized weights\n"
     ]
    },
    {
     "data": {
      "text/plain": [
       "array([  0.00000000e+00,  -7.90490920e-01,  -6.23744823e-01,\n",
       "         3.89735294e-01,   2.47703017e-01,   2.63833884e-02,\n",
       "        -6.16252131e-03,  -2.91819019e-02,  -1.90545451e-02,\n",
       "        -1.29838759e-02,  -7.21258624e-03,  -3.52641454e-03,\n",
       "        -1.81431987e-03,  -7.12730698e-04,  -3.37754069e-04,\n",
       "        -9.99350885e-05,  -3.74003525e-05])"
      ]
     },
     "execution_count": 70,
     "metadata": {},
     "output_type": "execute_result"
    }
   ],
   "source": [
    "l1 = Lasso(0.000005)\n",
    "l1.fit(x_16th, matrix_y5)\n",
    "print 'Optimized weights' \n",
    "l1.coef_"
   ]
  },
  {
   "cell_type": "code",
   "execution_count": 71,
   "metadata": {},
   "outputs": [
    {
     "name": "stdout",
     "output_type": "stream",
     "text": [
      "RMSE 0.262866\n"
     ]
    }
   ],
   "source": [
    "print 'RMSE %f' %np.sqrt(mean_squared_error(l1.predict(x_16th), matrix_y5))"
   ]
  },
  {
   "cell_type": "markdown",
   "metadata": {},
   "source": [
    "## Problem 2"
   ]
  },
  {
   "cell_type": "code",
   "execution_count": 70,
   "metadata": {
    "collapsed": true
   },
   "outputs": [],
   "source": [
    "df1 = pd.read_csv('ex2data2.csv')"
   ]
  },
  {
   "cell_type": "code",
   "execution_count": 71,
   "metadata": {
    "collapsed": true
   },
   "outputs": [],
   "source": [
    "df1.insert(0, 'Ones', 1)"
   ]
  },
  {
   "cell_type": "code",
   "execution_count": 72,
   "metadata": {
    "collapsed": true
   },
   "outputs": [],
   "source": [
    "from sklearn.model_selection import train_test_split\n",
    "train_set0, test_set = train_test_split(df1, test_size = 0.2, random_state=1)"
   ]
  },
  {
   "cell_type": "code",
   "execution_count": 73,
   "metadata": {
    "collapsed": true
   },
   "outputs": [],
   "source": [
    "train_set1, validation_set = train_test_split(train_set0, test_size = 0.2, random_state=1)"
   ]
  },
  {
   "cell_type": "code",
   "execution_count": 74,
   "metadata": {
    "collapsed": true
   },
   "outputs": [],
   "source": [
    "x8 = np.matrix(validation_set.iloc[:,0:2])\n",
    "y8 = np.matrix(validation_set.iloc[:,2:3])"
   ]
  },
  {
   "cell_type": "code",
   "execution_count": 75,
   "metadata": {
    "collapsed": true
   },
   "outputs": [],
   "source": [
    "x8_test = np.matrix(test_set.iloc[:,0:2])\n",
    "y8_test = np.matrix(test_set.iloc[:,2:3])"
   ]
  },
  {
   "cell_type": "code",
   "execution_count": 76,
   "metadata": {
    "collapsed": true
   },
   "outputs": [],
   "source": [
    "#Train Set\n",
    "#train_set1.insert(0, 'Ones', 1)\n",
    "\n",
    "x7 = np.matrix(train_set1.iloc[:,0:2])\n",
    "y7 = np.matrix(train_set1.iloc[:,2:3])"
   ]
  },
  {
   "cell_type": "code",
   "execution_count": 77,
   "metadata": {},
   "outputs": [
    {
     "data": {
      "text/plain": [
       "((3458, 2), (3458, 1))"
      ]
     },
     "execution_count": 77,
     "metadata": {},
     "output_type": "execute_result"
    }
   ],
   "source": [
    "x7.shape, y7.shape"
   ]
  },
  {
   "cell_type": "code",
   "execution_count": 78,
   "metadata": {},
   "outputs": [
    {
     "data": {
      "text/plain": [
       "<function matplotlib.pyplot.show>"
      ]
     },
     "execution_count": 78,
     "metadata": {},
     "output_type": "execute_result"
    },
    {
     "data": {
      "image/png": "[encoded data removed]",
      "text/plain": [
       "<matplotlib.figure.Figure at 0x11dc64450>"
      ]
     },
     "metadata": {},
     "output_type": "display_data"
    }
   ],
   "source": [
    "plt.scatter(train_set1.iloc[:,1], train_set1.iloc[:,2:3], c=\"g\")\n",
    "plt.xlabel(\"sqft_living\")\n",
    "plt.ylabel(\"price\")\n",
    "plt.show"
   ]
  },
  {
   "cell_type": "markdown",
   "metadata": {},
   "source": [
    "### 2-1"
   ]
  },
  {
   "cell_type": "code",
   "execution_count": 79,
   "metadata": {},
   "outputs": [
    {
     "data": {
      "text/plain": [
       "((3458, 2), (3458, 1))"
      ]
     },
     "execution_count": 79,
     "metadata": {},
     "output_type": "execute_result"
    }
   ],
   "source": [
    "x7.shape, y7.shape"
   ]
  },
  {
   "cell_type": "code",
   "execution_count": 80,
   "metadata": {},
   "outputs": [
    {
     "data": {
      "text/plain": [
       "26981829164718.53"
      ]
     },
     "execution_count": 80,
     "metadata": {},
     "output_type": "execute_result"
    }
   ],
   "source": [
    "initial_w = np.zeros((x7.shape[1],1))\n",
    "cost_function(initial_w, x7, y7)"
   ]
  },
  {
   "cell_type": "code",
   "execution_count": 81,
   "metadata": {
    "collapsed": true
   },
   "outputs": [],
   "source": [
    "iterations = 1500\n",
    "alpha = 0.00000001"
   ]
  },
  {
   "cell_type": "code",
   "execution_count": 82,
   "metadata": {
    "collapsed": true
   },
   "outputs": [],
   "source": [
    "def cost_function1(x, y, w):  \n",
    "    inner = np.power(((x * w.T) - y), 2)\n",
    "    return np.sum(inner) / (2 * len(x))\n",
    "w = np.matrix(np.array([0,0]))  \n",
    "def descendGradient1(x, y, w, alpha, iterations):  \n",
    "    temp = np.matrix(np.zeros(w.shape))\n",
    "    parameters = int(w.ravel().shape[1])\n",
    "    cost = np.zeros(iterations)\n",
    "    for i in range(iterations):\n",
    "        error = (x * w.T) - y\n",
    "\n",
    "        for j in range(parameters):\n",
    "            term = np.multiply(error, x[:,j])\n",
    "            temp[0,j] = w[0,j] - ((alpha / len(x)) * np.sum(term))\n",
    "\n",
    "        w = temp\n",
    "        cost[i] = cost_function1(x, y, w)\n",
    "        #costs.append(costs[i])\n",
    "    return w, cost"
   ]
  },
  {
   "cell_type": "code",
   "execution_count": 83,
   "metadata": {
    "collapsed": true
   },
   "outputs": [],
   "source": [
    "w7, cost7 = descendGradient1(x7, y7, w, alpha, iterations)"
   ]
  },
  {
   "cell_type": "code",
   "execution_count": 84,
   "metadata": {},
   "outputs": [
    {
     "data": {
      "image/png": "[encoded data removed]",
      "text/plain": [
       "<matplotlib.figure.Figure at 0x11dc64190>"
      ]
     },
     "metadata": {},
     "output_type": "display_data"
    }
   ],
   "source": [
    "plt.figure(figsize=(10,6))\n",
    "xvals = np.linspace(df.x.min(), df.x.max(), 30)\n",
    "xmat = np.ones((30,1))\n",
    "xmat = np.insert(xmat,xmat.shape[1],xvals.T,axis=1)\n",
    "xmat = x_squared\n",
    "#f = poly1d(h(matrix_w1,xmat))\n",
    "plt.plot(train_set1.iloc[:,1],y7,'go',markersize=10,label='Training Data')\n",
    "#x_squared = (x_squared - mean)/std\n",
    "#_=plt.plot(xvals,np.dot(x_squared, matrix_w1),'b-')\n",
    "_=plt.plot(train_set1.iloc[:,1],h(w7.T, x7),'b-')\n",
    "#_=plt.plot(df.iloc[:,1],np.poly1d(w1_flat)(df.iloc[:,1]),'b-')\n",
    "plt.grid(True) #Always plot.grid true!\n",
    "plt.ylabel('price')\n",
    "plt.xlabel('sqft_living')\n",
    "plt.show()"
   ]
  },
  {
   "cell_type": "code",
   "execution_count": 85,
   "metadata": {},
   "outputs": [
    {
     "name": "stdout",
     "output_type": "stream",
     "text": [
      "RMSE of training set: 195800.374963\n"
     ]
    }
   ],
   "source": [
    "print 'RMSE of training set: %f' %np.sqrt(cost_function1(x7, y7, w7))"
   ]
  },
  {
   "cell_type": "code",
   "execution_count": 86,
   "metadata": {},
   "outputs": [
    {
     "name": "stdout",
     "output_type": "stream",
     "text": [
      "RMSE of validation set: 172395.487193\n"
     ]
    }
   ],
   "source": [
    "print 'RMSE of validation set: %f' %np.sqrt(cost_function1(x8, y8, w7))"
   ]
  },
  {
   "cell_type": "code",
   "execution_count": 87,
   "metadata": {
    "collapsed": true
   },
   "outputs": [],
   "source": [
    "def mse(x, y, w):\n",
    "    total_cost = 0\n",
    "    for i in range (len(y)):\n",
    "        total_cost += np.power(((x[i] * w.T) - y[i]),2)\n",
    "    return total_cost / len(x)"
   ]
  },
  {
   "cell_type": "code",
   "execution_count": 88,
   "metadata": {},
   "outputs": [
    {
     "name": "stdout",
     "output_type": "stream",
     "text": [
      "RMSE of test set: 266027.937960\n"
     ]
    }
   ],
   "source": [
    "#y_hat = h(w7.T, test_set.iloc[:,0:2])\n",
    "print 'RMSE of test set: %f' %np.sqrt(mse(x8_test, y8_test, w7))"
   ]
  },
  {
   "cell_type": "markdown",
   "metadata": {},
   "source": [
    "### 2-2"
   ]
  },
  {
   "cell_type": "code",
   "execution_count": 89,
   "metadata": {
    "collapsed": true
   },
   "outputs": [],
   "source": [
    "df2 = pd.read_csv('ex2data2.csv')"
   ]
  },
  {
   "cell_type": "code",
   "execution_count": 90,
   "metadata": {
    "collapsed": true
   },
   "outputs": [],
   "source": [
    "train_set2, test_set2 = train_test_split(df2, test_size = 0.2, random_state=1)"
   ]
  },
  {
   "cell_type": "code",
   "execution_count": 91,
   "metadata": {
    "collapsed": true
   },
   "outputs": [],
   "source": [
    "train_set2, validation_set2 = train_test_split(train_set2, test_size=0.2, random_state=1)"
   ]
  },
  {
   "cell_type": "code",
   "execution_count": 92,
   "metadata": {
    "collapsed": true
   },
   "outputs": [],
   "source": [
    "origin_train_set2 = train_set2"
   ]
  },
  {
   "cell_type": "code",
   "execution_count": 93,
   "metadata": {},
   "outputs": [
    {
     "name": "stderr",
     "output_type": "stream",
     "text": [
      "/Users/trininh/anaconda/lib/python2.7/site-packages/pandas/core/indexing.py:517: SettingWithCopyWarning: \n",
      "A value is trying to be set on a copy of a slice from a DataFrame.\n",
      "Try using .loc[row_indexer,col_indexer] = value instead\n",
      "\n",
      "See the caveats in the documentation: http://pandas.pydata.org/pandas-docs/stable/indexing.html#indexing-view-versus-copy\n",
      "  self.obj[item] = s\n"
     ]
    }
   ],
   "source": [
    "train_set2.iloc[:, 0] = (train_set2.iloc[:,0] - train_set2.iloc[:,0].mean()) / (train_set2.iloc[:,0].std())\n",
    "validation_set2.iloc[:, 0] = (validation_set2.iloc[:,0] - validation_set2.iloc[:,0].mean()) / (validation_set2.iloc[:,0].std())\n",
    "test_set2.iloc[:, 0] = (test_set2.iloc[:,0] - test_set2.iloc[:,0].mean()) / (test_set2.iloc[:,0].std())"
   ]
  },
  {
   "cell_type": "code",
   "execution_count": 94,
   "metadata": {
    "collapsed": true
   },
   "outputs": [],
   "source": [
    "train_set2.insert(0, 'Ones', 1)\n",
    "validation_set2.insert(0, 'Ones', 1)\n",
    "test_set2.insert(0, 'Ones', 1)"
   ]
  },
  {
   "cell_type": "code",
   "execution_count": 95,
   "metadata": {
    "collapsed": true
   },
   "outputs": [],
   "source": [
    "x9 = np.matrix(train_set2.iloc[:, 0:2])\n",
    "y9 = np.matrix(train_set2.iloc[:, 2:3].values)\n",
    "y9_val = np.matrix(validation_set2.iloc[:, 2:3].values)\n",
    "y9_test = np.matrix(test_set2.iloc[:, 2:3].values)"
   ]
  },
  {
   "cell_type": "code",
   "execution_count": 96,
   "metadata": {
    "collapsed": true
   },
   "outputs": [],
   "source": [
    "new_x9 = genPolyFeatures(train_set2.iloc[:, 0:2].values, 1)\n",
    "x9_val = genPolyFeatures(validation_set2.iloc[:, 0:2].values, 1)\n",
    "x9_test = genPolyFeatures(test_set2.iloc[:, 0:2].values, 1)"
   ]
  },
  {
   "cell_type": "code",
   "execution_count": 97,
   "metadata": {},
   "outputs": [
    {
     "data": {
      "text/plain": [
       "(3458, 3)"
      ]
     },
     "execution_count": 97,
     "metadata": {},
     "output_type": "execute_result"
    }
   ],
   "source": [
    "new_x9.shape"
   ]
  },
  {
   "cell_type": "code",
   "execution_count": 98,
   "metadata": {
    "collapsed": true
   },
   "outputs": [],
   "source": [
    "x9_squared = np.matrix(new_x9)\n",
    "x9_squared_val = np.matrix(x9_val)\n",
    "x9_squared_test = np.matrix(x9_test)"
   ]
  },
  {
   "cell_type": "code",
   "execution_count": 100,
   "metadata": {},
   "outputs": [
    {
     "data": {
      "text/plain": [
       "(3, 1)"
      ]
     },
     "execution_count": 100,
     "metadata": {},
     "output_type": "execute_result"
    }
   ],
   "source": [
    "init_w = np.zeros((x9_squared.shape[1], 1))\n",
    "init_w.shape"
   ]
  },
  {
   "cell_type": "code",
   "execution_count": 101,
   "metadata": {
    "collapsed": true
   },
   "outputs": [],
   "source": [
    "init_w1 = np.matrix(np.zeros((x9_squared.shape[1], 1)).T)\n",
    "iterations = 1500\n",
    "alpha = 0.0001\n",
    "w9, cost9 = descendGradient1(x9_squared, y9, init_w1, alpha, iterations)"
   ]
  },
  {
   "cell_type": "code",
   "execution_count": 102,
   "metadata": {},
   "outputs": [
    {
     "data": {
      "text/plain": [
       "(1, 3)"
      ]
     },
     "execution_count": 102,
     "metadata": {},
     "output_type": "execute_result"
    }
   ],
   "source": [
    "w9_flat = w9.flatten()\n",
    "w9_flat.shape"
   ]
  },
  {
   "cell_type": "code",
   "execution_count": 106,
   "metadata": {},
   "outputs": [
    {
     "data": {
      "image/png": "[encoded data removed]",
      "text/plain": [
       "<matplotlib.figure.Figure at 0x11e0b4c50>"
      ]
     },
     "metadata": {},
     "output_type": "display_data"
    }
   ],
   "source": [
    "plt.figure(figsize=(10,6))\n",
    "xvals = np.linspace(df.x.min(), df.x.max(), 30)\n",
    "#f = poly1d(h(matrix_w1,xmat))\n",
    "plt.plot(origin_train_set2,y9,'go',markersize=10,label='Training Data')\n",
    "#x_squared = (x_squared - mean)/std\n",
    "#_=plt.plot(xvals,np.dot(x_squared, matrix_w1),'b-')\n",
    "_=plt.plot(origin_train_set2.values,h(w9.T,x9_squared),'b-')\n",
    "#_=plt.plot(df.iloc[:,1],np.poly1d(w1_flat)(df.iloc[:,1]),'b-')\n",
    "plt.grid(True) #Always plot.grid true!\n",
    "plt.ylabel('price')\n",
    "plt.xlabel('sqft_living')\n",
    "plt.show()"
   ]
  },
  {
   "cell_type": "code",
   "execution_count": 107,
   "metadata": {},
   "outputs": [
    {
     "name": "stdout",
     "output_type": "stream",
     "text": [
      "RMSE of training set: 524363.513173\n"
     ]
    }
   ],
   "source": [
    "print 'RMSE of training set: %f' %np.sqrt(mse(x9_squared, y9, w9))"
   ]
  },
  {
   "cell_type": "code",
   "execution_count": 108,
   "metadata": {},
   "outputs": [
    {
     "name": "stdout",
     "output_type": "stream",
     "text": [
      "RMSE of validation set: 473996.112056\n"
     ]
    }
   ],
   "source": [
    "print 'RMSE of validation set: %f' %np.sqrt(mse(x9_val, y9_val, w9))"
   ]
  },
  {
   "cell_type": "code",
   "execution_count": 109,
   "metadata": {},
   "outputs": [
    {
     "name": "stdout",
     "output_type": "stream",
     "text": [
      "RMSE of test set: 492769.434804\n"
     ]
    }
   ],
   "source": [
    "print 'RMSE of test set: %f' %np.sqrt(mse(x9_test, y9_test, w9))"
   ]
  },
  {
   "cell_type": "markdown",
   "metadata": {},
   "source": [
    "### 2-3\n",
    "DataFrames: train_set2, validation_set2 and test_set2 <br />\n",
    "function mse(x, y, w)"
   ]
  },
  {
   "cell_type": "code",
   "execution_count": 110,
   "metadata": {
    "collapsed": true
   },
   "outputs": [],
   "source": [
    "x10_4th = np.matrix(genPolyFeatures(train_set2.iloc[:, 0:2].values, 3))\n",
    "x10_val_4th = np.matrix(genPolyFeatures(validation_set2.iloc[:, 0:2].values, 3))\n",
    "x10_test_4th = np.matrix(genPolyFeatures(test_set2.iloc[:, 0:2].values, 3))"
   ]
  },
  {
   "cell_type": "code",
   "execution_count": 111,
   "metadata": {
    "collapsed": true
   },
   "outputs": [],
   "source": [
    "init_w2 = np.matrix(np.zeros((x10_4th.shape[1], 1)).T)\n",
    "iterations = 3000\n",
    "alpha = 0.00000001\n",
    "w10, cost10 = descendGradient1(x10_4th, y9, init_w2, alpha, iterations)"
   ]
  },
  {
   "cell_type": "code",
   "execution_count": 116,
   "metadata": {},
   "outputs": [
    {
     "data": {
      "image/png": "[encoded data removed]",
      "text/plain": [
       "<matplotlib.figure.Figure at 0x11ed71110>"
      ]
     },
     "metadata": {},
     "output_type": "display_data"
    }
   ],
   "source": [
    "plt.figure(figsize=(10,6))\n",
    "xvals = np.linspace(df.x.min(), df.x.max(), 30)\n",
    "#f = poly1d(h(matrix_w1,xmat))\n",
    "plt.plot(origin_train_set2,y9,'go',markersize=10,label='Training Data')\n",
    "#x_squared = (x_squared - mean)/std\n",
    "#_=plt.plot(xvals,np.dot(x_squared, matrix_w1),'b-')\n",
    "_=plt.plot(origin_train_set2.values,h(w10.T,x9_squared),'b-')\n",
    "#_=plt.plot(df.iloc[:,1],np.poly1d(w1_flat)(df.iloc[:,1]),'b-')\n",
    "plt.grid(True) #Always plot.grid true!\n",
    "plt.ylabel('price')\n",
    "plt.xlabel('sqft_living')\n",
    "plt.show()"
   ]
  },
  {
   "cell_type": "code",
   "execution_count": 117,
   "metadata": {},
   "outputs": [
    {
     "name": "stdout",
     "output_type": "stream",
     "text": [
      "Optimized weights: [[  16.41469641    7.92673364   31.61196366   93.7513775   374.34647608]]\n"
     ]
    }
   ],
   "source": [
    "print 'Optimized weights: {}'.format(w10)\n",
    "#print w10"
   ]
  },
  {
   "cell_type": "code",
   "execution_count": 118,
   "metadata": {},
   "outputs": [
    {
     "name": "stdout",
     "output_type": "stream",
     "text": [
      "RMSE of training data: 669996.415586\n"
     ]
    }
   ],
   "source": [
    "print 'RMSE of training data: %f' %np.sqrt(mse(x10_4th, y9, w10))"
   ]
  },
  {
   "cell_type": "code",
   "execution_count": 119,
   "metadata": {},
   "outputs": [
    {
     "name": "stdout",
     "output_type": "stream",
     "text": [
      "RMSE of validation data: 629027.123263\n"
     ]
    }
   ],
   "source": [
    "print 'RMSE of validation data: %f' %np.sqrt(mse(x10_val_4th, y9_val, w10))"
   ]
  },
  {
   "cell_type": "code",
   "execution_count": 120,
   "metadata": {},
   "outputs": [
    {
     "name": "stdout",
     "output_type": "stream",
     "text": [
      "RMSE of test data: 655870.120341\n"
     ]
    }
   ],
   "source": [
    "print 'RMSE of test data: %f' %np.sqrt(mse(x10_test_4th, y9_test, w10))"
   ]
  },
  {
   "cell_type": "markdown",
   "metadata": {},
   "source": [
    "### 2-4\n",
    "DataFrames: train_set2, validation_set2 and test_set2 <br />\n",
    "function mse(x, y, w)"
   ]
  },
  {
   "cell_type": "code",
   "execution_count": 122,
   "metadata": {
    "collapsed": true
   },
   "outputs": [],
   "source": [
    "x10_16th = np.matrix(genPolyFeatures(train_set2.iloc[:, 0:2].values, 15))\n",
    "x10_val_16th = np.matrix(genPolyFeatures(validation_set2.iloc[:, 0:2].values, 15))\n",
    "x10_test_16th = np.matrix(genPolyFeatures(test_set2.iloc[:, 0:2].values, 15))"
   ]
  },
  {
   "cell_type": "code",
   "execution_count": 128,
   "metadata": {},
   "outputs": [],
   "source": [
    "init_w2 = np.matrix(np.zeros((x10_16th.shape[1], 1)).T)\n",
    "iterations = 3000\n",
    "alpha = 0.0000000000000000000000000000001\n",
    "w11, cost11 = descendGradient1(x10_16th, y9, init_w2, alpha, iterations)"
   ]
  },
  {
   "cell_type": "code",
   "execution_count": 129,
   "metadata": {},
   "outputs": [
    {
     "data": {
      "image/png": "[encoded data removed]",
      "text/plain": [
       "<matplotlib.figure.Figure at 0x11e0cecd0>"
      ]
     },
     "metadata": {},
     "output_type": "display_data"
    }
   ],
   "source": [
    "plt.figure(figsize=(10,6))\n",
    "xvals = np.linspace(df.x.min(), df.x.max(), 30)\n",
    "#f = poly1d(h(matrix_w1,xmat))\n",
    "plt.plot(origin_train_set2,y9,'go',markersize=10,label='Training Data')\n",
    "#x_squared = (x_squared - mean)/std\n",
    "#_=plt.plot(xvals,np.dot(x_squared, matrix_w1),'b-')\n",
    "_=plt.plot(origin_train_set2.values,h(w11.T,x10_16th),'b-')\n",
    "#_=plt.plot(df.iloc[:,1],np.poly1d(w1_flat)(df.iloc[:,1]),'b-')\n",
    "plt.grid(True) #Always plot.grid true!\n",
    "plt.ylabel('price')\n",
    "plt.xlabel('sqft_living')\n",
    "plt.show()"
   ]
  },
  {
   "cell_type": "code",
   "execution_count": 130,
   "metadata": {},
   "outputs": [
    {
     "name": "stdout",
     "output_type": "stream",
     "text": [
      "Optimized weights: [[  1.65128368e-22   8.59196687e-23   3.73772412e-22   1.49422531e-21\n",
      "    9.45141348e-21   7.07814743e-20   5.91590348e-19   5.21007399e-18\n",
      "    4.69484638e-17   4.25011531e-16   3.81573344e-15   3.35718326e-14\n",
      "    2.85160922e-13   2.28132629e-12   1.63056213e-11   8.83668388e-11\n",
      "    2.40317760e-11]]\n"
     ]
    }
   ],
   "source": [
    "print 'Optimized weights: {}'.format(w11)"
   ]
  },
  {
   "cell_type": "code",
   "execution_count": 131,
   "metadata": {},
   "outputs": [
    {
     "name": "stdout",
     "output_type": "stream",
     "text": [
      "RMSE of training data: 682168.095792\n",
      "RMSE of validation set: 632689.562523\n",
      "RMSE of test data: 665784.718133\n"
     ]
    }
   ],
   "source": [
    "print 'RMSE of training data: %f' %np.sqrt(mse(x10_16th, y9, w11))\n",
    "print 'RMSE of validation set: %f' %np.sqrt(mse(x10_val_16th, y9_val, w11))\n",
    "print 'RMSE of test data: %f' %np.sqrt(mse(x10_test_16th, y9_test, w11))"
   ]
  },
  {
   "cell_type": "markdown",
   "metadata": {},
   "source": [
    "### 2-5\n",
    "DataFrames: train_set2, validation_set2 and test_set2 <br />\n",
    "function mse(x, y, w) <br />\n",
    "- train set: x10_16th\n",
    "- validation set: x10_val_16th\n",
    "- test set: x10_test_16th\n",
    "- penalty=[0.001, 0.1, 1, 10]"
   ]
  },
  {
   "cell_type": "code",
   "execution_count": 133,
   "metadata": {},
   "outputs": [],
   "source": [
    "coefs1=[]\n",
    "penalty=[-1, 0.00000035, 0.000001, 0.001, 0.1, 1, 1.5, 2, 2.5, 10]\n",
    "for l in penalty:\n",
    "    #init_w3 = np.zeros((x10_16th.shape[1],1))\n",
    "    matrix_w5 = np.matrix(gradient_descent_reg(init_w2.T,x10_16th,y9,l))\n",
    "    coefs1.append(matrix_w5)"
   ]
  },
  {
   "cell_type": "code",
   "execution_count": 136,
   "metadata": {},
   "outputs": [
    {
     "name": "stdout",
     "output_type": "stream",
     "text": [
      "RMSE of training data: 144068298415626382197751679301976064.000000\n",
      "RMSE of validation set: 59882506502291504573865525248.000000\n",
      "RMSE of test data: 16790006111683910516278443376640.000000\n"
     ]
    }
   ],
   "source": [
    "print 'RMSE of training data: %f' %np.sqrt(mse(x10_16th, y9, coefs1[1].T))\n",
    "print 'RMSE of validation set: %f' %np.sqrt(mse(x10_val_16th, y9_val, coefs1[1].T))\n",
    "print 'RMSE of test data: %f' %np.sqrt(mse(x10_test_16th, y9_test, coefs1[1].T))"
   ]
  },
  {
   "cell_type": "markdown",
   "metadata": {},
   "source": [
    "### 2-6\n",
    "DataFrames: train_set2, validation_set2 and test_set2 <br />\n",
    "function mse(x, y, w) <br />\n",
    "- train set: x10_16th\n",
    "- validation set: x10_val_16th\n",
    "- test set: x10_test_16th\n",
    "- penalty=[0.001, 0.1, 1, 10]"
   ]
  },
  {
   "cell_type": "code",
   "execution_count": 148,
   "metadata": {
    "collapsed": true
   },
   "outputs": [],
   "source": [
    "df4 = pd.read_csv('ex2data2.csv')"
   ]
  },
  {
   "cell_type": "code",
   "execution_count": 149,
   "metadata": {
    "collapsed": true
   },
   "outputs": [],
   "source": [
    "def split_train_test(X, test_ratio):\n",
    "    np.random.seed(1)\n",
    "    shuffled_indices = np.random.permutation(len(X))\n",
    "    test_set_size = int(len(X) * test_ratio)\n",
    "    test_indices = shuffled_indices[:test_set_size]\n",
    "    train_indices = shuffled_indices[test_set_size:]\n",
    "    return X.iloc[train_indices], X.iloc[test_indices]"
   ]
  },
  {
   "cell_type": "code",
   "execution_count": 150,
   "metadata": {
    "collapsed": true
   },
   "outputs": [],
   "source": [
    "train_set4, test_set4 = split_train_test(df4, 0.2)\n",
    "train_set4, val_set4 = split_train_test(train_set4, 0.2)"
   ]
  },
  {
   "cell_type": "code",
   "execution_count": 153,
   "metadata": {},
   "outputs": [],
   "source": [
    "from sklearn.preprocessing import StandardScaler\n",
    "scaler = StandardScaler()\n",
    "norm_train = scaler.fit_transform(train_set4.iloc[:, 0:1])\n",
    "x14_train_norm = pd.DataFrame(norm_train, columns=['Sqft_living'])\n",
    "norm_val = scaler.fit_transform(val_set4.iloc[:, 0:1])\n",
    "x14_val_norm = pd.DataFrame(norm_val, columns=['Sqft_living'])\n",
    "norm_test = scaler.fit_transform(test_set4.iloc[:, 0:1])\n",
    "x14_test_norm = pd.DataFrame(norm_test, columns=['Sqft_living'])"
   ]
  },
  {
   "cell_type": "code",
   "execution_count": 156,
   "metadata": {},
   "outputs": [
    {
     "data": {
      "text/html": [
       "<div>\n",
       "<style>\n",
       "    .dataframe thead tr:only-child th {\n",
       "        text-align: right;\n",
       "    }\n",
       "\n",
       "    .dataframe thead th {\n",
       "        text-align: left;\n",
       "    }\n",
       "\n",
       "    .dataframe tbody tr th {\n",
       "        vertical-align: top;\n",
       "    }\n",
       "</style>\n",
       "<table border=\"1\" class=\"dataframe\">\n",
       "  <thead>\n",
       "    <tr style=\"text-align: right;\">\n",
       "      <th></th>\n",
       "      <th>Sqft_living</th>\n",
       "    </tr>\n",
       "  </thead>\n",
       "  <tbody>\n",
       "    <tr>\n",
       "      <th>0</th>\n",
       "      <td>-1.479852</td>\n",
       "    </tr>\n",
       "    <tr>\n",
       "      <th>1</th>\n",
       "      <td>2.335908</td>\n",
       "    </tr>\n",
       "    <tr>\n",
       "      <th>2</th>\n",
       "      <td>1.625049</td>\n",
       "    </tr>\n",
       "    <tr>\n",
       "      <th>3</th>\n",
       "      <td>0.542419</td>\n",
       "    </tr>\n",
       "    <tr>\n",
       "      <th>4</th>\n",
       "      <td>-0.856829</td>\n",
       "    </tr>\n",
       "    <tr>\n",
       "      <th>5</th>\n",
       "      <td>0.409644</td>\n",
       "    </tr>\n",
       "    <tr>\n",
       "      <th>6</th>\n",
       "      <td>-0.846615</td>\n",
       "    </tr>\n",
       "    <tr>\n",
       "      <th>7</th>\n",
       "      <td>0.532206</td>\n",
       "    </tr>\n",
       "    <tr>\n",
       "      <th>8</th>\n",
       "      <td>0.430071</td>\n",
       "    </tr>\n",
       "    <tr>\n",
       "      <th>9</th>\n",
       "      <td>-0.019323</td>\n",
       "    </tr>\n",
       "    <tr>\n",
       "      <th>10</th>\n",
       "      <td>0.726262</td>\n",
       "    </tr>\n",
       "    <tr>\n",
       "      <th>11</th>\n",
       "      <td>-0.756737</td>\n",
       "    </tr>\n",
       "    <tr>\n",
       "      <th>12</th>\n",
       "      <td>0.481138</td>\n",
       "    </tr>\n",
       "    <tr>\n",
       "      <th>13</th>\n",
       "      <td>0.430071</td>\n",
       "    </tr>\n",
       "    <tr>\n",
       "      <th>14</th>\n",
       "      <td>-0.877256</td>\n",
       "    </tr>\n",
       "    <tr>\n",
       "      <th>15</th>\n",
       "      <td>-0.683200</td>\n",
       "    </tr>\n",
       "    <tr>\n",
       "      <th>16</th>\n",
       "      <td>-0.672986</td>\n",
       "    </tr>\n",
       "    <tr>\n",
       "      <th>17</th>\n",
       "      <td>-0.611705</td>\n",
       "    </tr>\n",
       "    <tr>\n",
       "      <th>18</th>\n",
       "      <td>-1.387930</td>\n",
       "    </tr>\n",
       "    <tr>\n",
       "      <th>19</th>\n",
       "      <td>0.348363</td>\n",
       "    </tr>\n",
       "    <tr>\n",
       "      <th>20</th>\n",
       "      <td>1.226723</td>\n",
       "    </tr>\n",
       "    <tr>\n",
       "      <th>21</th>\n",
       "      <td>-0.335941</td>\n",
       "    </tr>\n",
       "    <tr>\n",
       "      <th>22</th>\n",
       "      <td>0.521992</td>\n",
       "    </tr>\n",
       "    <tr>\n",
       "      <th>23</th>\n",
       "      <td>-0.376795</td>\n",
       "    </tr>\n",
       "    <tr>\n",
       "      <th>24</th>\n",
       "      <td>-0.815975</td>\n",
       "    </tr>\n",
       "    <tr>\n",
       "      <th>25</th>\n",
       "      <td>-0.856829</td>\n",
       "    </tr>\n",
       "    <tr>\n",
       "      <th>26</th>\n",
       "      <td>0.205374</td>\n",
       "    </tr>\n",
       "    <tr>\n",
       "      <th>27</th>\n",
       "      <td>1.420780</td>\n",
       "    </tr>\n",
       "    <tr>\n",
       "      <th>28</th>\n",
       "      <td>0.399430</td>\n",
       "    </tr>\n",
       "    <tr>\n",
       "      <th>29</th>\n",
       "      <td>-0.417649</td>\n",
       "    </tr>\n",
       "    <tr>\n",
       "      <th>...</th>\n",
       "      <td>...</td>\n",
       "    </tr>\n",
       "    <tr>\n",
       "      <th>3430</th>\n",
       "      <td>-0.244019</td>\n",
       "    </tr>\n",
       "    <tr>\n",
       "      <th>3431</th>\n",
       "      <td>-0.897683</td>\n",
       "    </tr>\n",
       "    <tr>\n",
       "      <th>3432</th>\n",
       "      <td>-0.693413</td>\n",
       "    </tr>\n",
       "    <tr>\n",
       "      <th>3433</th>\n",
       "      <td>1.093948</td>\n",
       "    </tr>\n",
       "    <tr>\n",
       "      <th>3434</th>\n",
       "      <td>-1.122380</td>\n",
       "    </tr>\n",
       "    <tr>\n",
       "      <th>3435</th>\n",
       "      <td>0.225801</td>\n",
       "    </tr>\n",
       "    <tr>\n",
       "      <th>3436</th>\n",
       "      <td>-0.203166</td>\n",
       "    </tr>\n",
       "    <tr>\n",
       "      <th>3437</th>\n",
       "      <td>-0.856829</td>\n",
       "    </tr>\n",
       "    <tr>\n",
       "      <th>3438</th>\n",
       "      <td>-0.213379</td>\n",
       "    </tr>\n",
       "    <tr>\n",
       "      <th>3439</th>\n",
       "      <td>-0.274660</td>\n",
       "    </tr>\n",
       "    <tr>\n",
       "      <th>3440</th>\n",
       "      <td>0.736476</td>\n",
       "    </tr>\n",
       "    <tr>\n",
       "      <th>3441</th>\n",
       "      <td>-0.356368</td>\n",
       "    </tr>\n",
       "    <tr>\n",
       "      <th>3442</th>\n",
       "      <td>0.634341</td>\n",
       "    </tr>\n",
       "    <tr>\n",
       "      <th>3443</th>\n",
       "      <td>0.276869</td>\n",
       "    </tr>\n",
       "    <tr>\n",
       "      <th>3444</th>\n",
       "      <td>-0.049963</td>\n",
       "    </tr>\n",
       "    <tr>\n",
       "      <th>3445</th>\n",
       "      <td>0.052172</td>\n",
       "    </tr>\n",
       "    <tr>\n",
       "      <th>3446</th>\n",
       "      <td>0.859038</td>\n",
       "    </tr>\n",
       "    <tr>\n",
       "      <th>3447</th>\n",
       "      <td>1.533128</td>\n",
       "    </tr>\n",
       "    <tr>\n",
       "      <th>3448</th>\n",
       "      <td>-0.029536</td>\n",
       "    </tr>\n",
       "    <tr>\n",
       "      <th>3449</th>\n",
       "      <td>0.307509</td>\n",
       "    </tr>\n",
       "    <tr>\n",
       "      <th>3450</th>\n",
       "      <td>0.838611</td>\n",
       "    </tr>\n",
       "    <tr>\n",
       "      <th>3451</th>\n",
       "      <td>0.848824</td>\n",
       "    </tr>\n",
       "    <tr>\n",
       "      <th>3452</th>\n",
       "      <td>-0.039750</td>\n",
       "    </tr>\n",
       "    <tr>\n",
       "      <th>3453</th>\n",
       "      <td>0.940745</td>\n",
       "    </tr>\n",
       "    <tr>\n",
       "      <th>3454</th>\n",
       "      <td>-0.815975</td>\n",
       "    </tr>\n",
       "    <tr>\n",
       "      <th>3455</th>\n",
       "      <td>-0.121458</td>\n",
       "    </tr>\n",
       "    <tr>\n",
       "      <th>3456</th>\n",
       "      <td>-0.591278</td>\n",
       "    </tr>\n",
       "    <tr>\n",
       "      <th>3457</th>\n",
       "      <td>-0.172525</td>\n",
       "    </tr>\n",
       "    <tr>\n",
       "      <th>3458</th>\n",
       "      <td>0.256442</td>\n",
       "    </tr>\n",
       "    <tr>\n",
       "      <th>3459</th>\n",
       "      <td>-0.111244</td>\n",
       "    </tr>\n",
       "  </tbody>\n",
       "</table>\n",
       "<p>3460 rows × 1 columns</p>\n",
       "</div>"
      ],
      "text/plain": [
       "      Sqft_living\n",
       "0       -1.479852\n",
       "1        2.335908\n",
       "2        1.625049\n",
       "3        0.542419\n",
       "4       -0.856829\n",
       "5        0.409644\n",
       "6       -0.846615\n",
       "7        0.532206\n",
       "8        0.430071\n",
       "9       -0.019323\n",
       "10       0.726262\n",
       "11      -0.756737\n",
       "12       0.481138\n",
       "13       0.430071\n",
       "14      -0.877256\n",
       "15      -0.683200\n",
       "16      -0.672986\n",
       "17      -0.611705\n",
       "18      -1.387930\n",
       "19       0.348363\n",
       "20       1.226723\n",
       "21      -0.335941\n",
       "22       0.521992\n",
       "23      -0.376795\n",
       "24      -0.815975\n",
       "25      -0.856829\n",
       "26       0.205374\n",
       "27       1.420780\n",
       "28       0.399430\n",
       "29      -0.417649\n",
       "...           ...\n",
       "3430    -0.244019\n",
       "3431    -0.897683\n",
       "3432    -0.693413\n",
       "3433     1.093948\n",
       "3434    -1.122380\n",
       "3435     0.225801\n",
       "3436    -0.203166\n",
       "3437    -0.856829\n",
       "3438    -0.213379\n",
       "3439    -0.274660\n",
       "3440     0.736476\n",
       "3441    -0.356368\n",
       "3442     0.634341\n",
       "3443     0.276869\n",
       "3444    -0.049963\n",
       "3445     0.052172\n",
       "3446     0.859038\n",
       "3447     1.533128\n",
       "3448    -0.029536\n",
       "3449     0.307509\n",
       "3450     0.838611\n",
       "3451     0.848824\n",
       "3452    -0.039750\n",
       "3453     0.940745\n",
       "3454    -0.815975\n",
       "3455    -0.121458\n",
       "3456    -0.591278\n",
       "3457    -0.172525\n",
       "3458     0.256442\n",
       "3459    -0.111244\n",
       "\n",
       "[3460 rows x 1 columns]"
      ]
     },
     "execution_count": 156,
     "metadata": {},
     "output_type": "execute_result"
    }
   ],
   "source": [
    "x14_train_norm"
   ]
  },
  {
   "cell_type": "code",
   "execution_count": 155,
   "metadata": {},
   "outputs": [],
   "source": [
    "y12_train = train_set4.iloc[:, 1]\n",
    "y12_val = val_set4.iloc[:, 1]\n",
    "y12_test = test_set4.iloc[:, 1]"
   ]
  },
  {
   "cell_type": "code",
   "execution_count": 161,
   "metadata": {},
   "outputs": [],
   "source": [
    "x14_train_norm.insert(0, 'Ones', 1)\n",
    "x14_16th_train= genPolyFeatures(x14_train_norm.iloc[:,0:2].values,15)"
   ]
  },
  {
   "cell_type": "code",
   "execution_count": 162,
   "metadata": {},
   "outputs": [
    {
     "name": "stdout",
     "output_type": "stream",
     "text": [
      "Automatically created module for IPython interactive environment\n"
     ]
    },
    {
     "name": "stderr",
     "output_type": "stream",
     "text": [
      "/Users/trininh/anaconda/lib/python2.7/site-packages/scipy/linalg/basic.py:223: RuntimeWarning: scipy.linalg.solve\n",
      "Ill-conditioned matrix detected. Result is not guaranteed to be accurate.\n",
      "Reciprocal condition number: 6.02755957313e-17\n",
      "  ' condition number: {}'.format(rcond), RuntimeWarning)\n",
      "/Users/trininh/anaconda/lib/python2.7/site-packages/scipy/linalg/basic.py:223: RuntimeWarning: scipy.linalg.solve\n",
      "Ill-conditioned matrix detected. Result is not guaranteed to be accurate.\n",
      "Reciprocal condition number: 6.0294371366e-17\n",
      "  ' condition number: {}'.format(rcond), RuntimeWarning)\n",
      "/Users/trininh/anaconda/lib/python2.7/site-packages/scipy/linalg/basic.py:223: RuntimeWarning: scipy.linalg.solve\n",
      "Ill-conditioned matrix detected. Result is not guaranteed to be accurate.\n",
      "Reciprocal condition number: 7.33155844443e-17\n",
      "  ' condition number: {}'.format(rcond), RuntimeWarning)\n",
      "/Users/trininh/anaconda/lib/python2.7/site-packages/scipy/linalg/basic.py:223: RuntimeWarning: scipy.linalg.solve\n",
      "Ill-conditioned matrix detected. Result is not guaranteed to be accurate.\n",
      "Reciprocal condition number: 7.95236260434e-17\n",
      "  ' condition number: {}'.format(rcond), RuntimeWarning)\n",
      "/Users/trininh/anaconda/lib/python2.7/site-packages/scipy/linalg/basic.py:223: RuntimeWarning: scipy.linalg.solve\n",
      "Ill-conditioned matrix detected. Result is not guaranteed to be accurate.\n",
      "Reciprocal condition number: 5.51913970555e-17\n",
      "  ' condition number: {}'.format(rcond), RuntimeWarning)\n",
      "/Users/trininh/anaconda/lib/python2.7/site-packages/scipy/linalg/basic.py:223: RuntimeWarning: scipy.linalg.solve\n",
      "Ill-conditioned matrix detected. Result is not guaranteed to be accurate.\n",
      "Reciprocal condition number: 7.23975456887e-17\n",
      "  ' condition number: {}'.format(rcond), RuntimeWarning)\n",
      "/Users/trininh/anaconda/lib/python2.7/site-packages/scipy/linalg/basic.py:223: RuntimeWarning: scipy.linalg.solve\n",
      "Ill-conditioned matrix detected. Result is not guaranteed to be accurate.\n",
      "Reciprocal condition number: 6.1146372151e-17\n",
      "  ' condition number: {}'.format(rcond), RuntimeWarning)\n",
      "/Users/trininh/anaconda/lib/python2.7/site-packages/scipy/linalg/basic.py:223: RuntimeWarning: scipy.linalg.solve\n",
      "Ill-conditioned matrix detected. Result is not guaranteed to be accurate.\n",
      "Reciprocal condition number: 7.65198768912e-17\n",
      "  ' condition number: {}'.format(rcond), RuntimeWarning)\n",
      "/Users/trininh/anaconda/lib/python2.7/site-packages/scipy/linalg/basic.py:223: RuntimeWarning: scipy.linalg.solve\n",
      "Ill-conditioned matrix detected. Result is not guaranteed to be accurate.\n",
      "Reciprocal condition number: 5.90341990054e-17\n",
      "  ' condition number: {}'.format(rcond), RuntimeWarning)\n",
      "/Users/trininh/anaconda/lib/python2.7/site-packages/scipy/linalg/basic.py:223: RuntimeWarning: scipy.linalg.solve\n",
      "Ill-conditioned matrix detected. Result is not guaranteed to be accurate.\n",
      "Reciprocal condition number: 5.85116930009e-17\n",
      "  ' condition number: {}'.format(rcond), RuntimeWarning)\n",
      "/Users/trininh/anaconda/lib/python2.7/site-packages/scipy/linalg/basic.py:223: RuntimeWarning: scipy.linalg.solve\n",
      "Ill-conditioned matrix detected. Result is not guaranteed to be accurate.\n",
      "Reciprocal condition number: 5.00089063883e-17\n",
      "  ' condition number: {}'.format(rcond), RuntimeWarning)\n",
      "/Users/trininh/anaconda/lib/python2.7/site-packages/scipy/linalg/basic.py:223: RuntimeWarning: scipy.linalg.solve\n",
      "Ill-conditioned matrix detected. Result is not guaranteed to be accurate.\n",
      "Reciprocal condition number: 5.69663591909e-17\n",
      "  ' condition number: {}'.format(rcond), RuntimeWarning)\n",
      "/Users/trininh/anaconda/lib/python2.7/site-packages/scipy/linalg/basic.py:223: RuntimeWarning: scipy.linalg.solve\n",
      "Ill-conditioned matrix detected. Result is not guaranteed to be accurate.\n",
      "Reciprocal condition number: 6.80639616082e-17\n",
      "  ' condition number: {}'.format(rcond), RuntimeWarning)\n",
      "/Users/trininh/anaconda/lib/python2.7/site-packages/scipy/linalg/basic.py:223: RuntimeWarning: scipy.linalg.solve\n",
      "Ill-conditioned matrix detected. Result is not guaranteed to be accurate.\n",
      "Reciprocal condition number: 6.8075551386e-17\n",
      "  ' condition number: {}'.format(rcond), RuntimeWarning)\n",
      "/Users/trininh/anaconda/lib/python2.7/site-packages/scipy/linalg/basic.py:223: RuntimeWarning: scipy.linalg.solve\n",
      "Ill-conditioned matrix detected. Result is not guaranteed to be accurate.\n",
      "Reciprocal condition number: 8.23542557715e-17\n",
      "  ' condition number: {}'.format(rcond), RuntimeWarning)\n",
      "/Users/trininh/anaconda/lib/python2.7/site-packages/scipy/linalg/basic.py:223: RuntimeWarning: scipy.linalg.solve\n",
      "Ill-conditioned matrix detected. Result is not guaranteed to be accurate.\n",
      "Reciprocal condition number: 7.48849637533e-17\n",
      "  ' condition number: {}'.format(rcond), RuntimeWarning)\n",
      "/Users/trininh/anaconda/lib/python2.7/site-packages/scipy/linalg/basic.py:223: RuntimeWarning: scipy.linalg.solve\n",
      "Ill-conditioned matrix detected. Result is not guaranteed to be accurate.\n",
      "Reciprocal condition number: 6.68320183169e-17\n",
      "  ' condition number: {}'.format(rcond), RuntimeWarning)\n",
      "/Users/trininh/anaconda/lib/python2.7/site-packages/scipy/linalg/basic.py:223: RuntimeWarning: scipy.linalg.solve\n",
      "Ill-conditioned matrix detected. Result is not guaranteed to be accurate.\n",
      "Reciprocal condition number: 6.18595151147e-17\n",
      "  ' condition number: {}'.format(rcond), RuntimeWarning)\n",
      "/Users/trininh/anaconda/lib/python2.7/site-packages/scipy/linalg/basic.py:223: RuntimeWarning: scipy.linalg.solve\n",
      "Ill-conditioned matrix detected. Result is not guaranteed to be accurate.\n",
      "Reciprocal condition number: 5.69871070267e-17\n",
      "  ' condition number: {}'.format(rcond), RuntimeWarning)\n",
      "/Users/trininh/anaconda/lib/python2.7/site-packages/scipy/linalg/basic.py:223: RuntimeWarning: scipy.linalg.solve\n",
      "Ill-conditioned matrix detected. Result is not guaranteed to be accurate.\n",
      "Reciprocal condition number: 6.18485203457e-17\n",
      "  ' condition number: {}'.format(rcond), RuntimeWarning)\n",
      "/Users/trininh/anaconda/lib/python2.7/site-packages/scipy/linalg/basic.py:223: RuntimeWarning: scipy.linalg.solve\n",
      "Ill-conditioned matrix detected. Result is not guaranteed to be accurate.\n",
      "Reciprocal condition number: 6.01981130376e-17\n",
      "  ' condition number: {}'.format(rcond), RuntimeWarning)\n",
      "/Users/trininh/anaconda/lib/python2.7/site-packages/scipy/linalg/basic.py:223: RuntimeWarning: scipy.linalg.solve\n",
      "Ill-conditioned matrix detected. Result is not guaranteed to be accurate.\n",
      "Reciprocal condition number: 5.94063162274e-17\n",
      "  ' condition number: {}'.format(rcond), RuntimeWarning)\n",
      "/Users/trininh/anaconda/lib/python2.7/site-packages/scipy/linalg/basic.py:223: RuntimeWarning: scipy.linalg.solve\n",
      "Ill-conditioned matrix detected. Result is not guaranteed to be accurate.\n",
      "Reciprocal condition number: 5.87184178843e-17\n",
      "  ' condition number: {}'.format(rcond), RuntimeWarning)\n",
      "/Users/trininh/anaconda/lib/python2.7/site-packages/scipy/linalg/basic.py:223: RuntimeWarning: scipy.linalg.solve\n",
      "Ill-conditioned matrix detected. Result is not guaranteed to be accurate.\n",
      "Reciprocal condition number: 5.81167762319e-17\n",
      "  ' condition number: {}'.format(rcond), RuntimeWarning)\n",
      "/Users/trininh/anaconda/lib/python2.7/site-packages/scipy/linalg/basic.py:223: RuntimeWarning: scipy.linalg.solve\n",
      "Ill-conditioned matrix detected. Result is not guaranteed to be accurate.\n",
      "Reciprocal condition number: 7.90822683078e-17\n",
      "  ' condition number: {}'.format(rcond), RuntimeWarning)\n",
      "/Users/trininh/anaconda/lib/python2.7/site-packages/scipy/linalg/basic.py:223: RuntimeWarning: scipy.linalg.solve\n",
      "Ill-conditioned matrix detected. Result is not guaranteed to be accurate.\n",
      "Reciprocal condition number: 8.05906787574e-17\n",
      "  ' condition number: {}'.format(rcond), RuntimeWarning)\n",
      "/Users/trininh/anaconda/lib/python2.7/site-packages/scipy/linalg/basic.py:223: RuntimeWarning: scipy.linalg.solve\n",
      "Ill-conditioned matrix detected. Result is not guaranteed to be accurate.\n",
      "Reciprocal condition number: 6.58423738572e-17\n",
      "  ' condition number: {}'.format(rcond), RuntimeWarning)\n",
      "/Users/trininh/anaconda/lib/python2.7/site-packages/scipy/linalg/basic.py:223: RuntimeWarning: scipy.linalg.solve\n",
      "Ill-conditioned matrix detected. Result is not guaranteed to be accurate.\n",
      "Reciprocal condition number: 6.40069183264e-17\n",
      "  ' condition number: {}'.format(rcond), RuntimeWarning)\n",
      "/Users/trininh/anaconda/lib/python2.7/site-packages/scipy/linalg/basic.py:223: RuntimeWarning: scipy.linalg.solve\n",
      "Ill-conditioned matrix detected. Result is not guaranteed to be accurate.\n",
      "Reciprocal condition number: 6.83696846362e-17\n",
      "  ' condition number: {}'.format(rcond), RuntimeWarning)\n",
      "/Users/trininh/anaconda/lib/python2.7/site-packages/scipy/linalg/basic.py:223: RuntimeWarning: scipy.linalg.solve\n",
      "Ill-conditioned matrix detected. Result is not guaranteed to be accurate.\n",
      "Reciprocal condition number: 7.98395149801e-17\n",
      "  ' condition number: {}'.format(rcond), RuntimeWarning)\n",
      "/Users/trininh/anaconda/lib/python2.7/site-packages/scipy/linalg/basic.py:223: RuntimeWarning: scipy.linalg.solve\n",
      "Ill-conditioned matrix detected. Result is not guaranteed to be accurate.\n",
      "Reciprocal condition number: 6.50646115824e-17\n",
      "  ' condition number: {}'.format(rcond), RuntimeWarning)\n",
      "/Users/trininh/anaconda/lib/python2.7/site-packages/scipy/linalg/basic.py:223: RuntimeWarning: scipy.linalg.solve\n",
      "Ill-conditioned matrix detected. Result is not guaranteed to be accurate.\n",
      "Reciprocal condition number: 5.99881853979e-17\n",
      "  ' condition number: {}'.format(rcond), RuntimeWarning)\n",
      "/Users/trininh/anaconda/lib/python2.7/site-packages/scipy/linalg/basic.py:223: RuntimeWarning: scipy.linalg.solve\n",
      "Ill-conditioned matrix detected. Result is not guaranteed to be accurate.\n",
      "Reciprocal condition number: 6.93677937417e-17\n",
      "  ' condition number: {}'.format(rcond), RuntimeWarning)\n",
      "/Users/trininh/anaconda/lib/python2.7/site-packages/scipy/linalg/basic.py:223: RuntimeWarning: scipy.linalg.solve\n",
      "Ill-conditioned matrix detected. Result is not guaranteed to be accurate.\n",
      "Reciprocal condition number: 7.73569588787e-17\n",
      "  ' condition number: {}'.format(rcond), RuntimeWarning)\n",
      "/Users/trininh/anaconda/lib/python2.7/site-packages/scipy/linalg/basic.py:223: RuntimeWarning: scipy.linalg.solve\n",
      "Ill-conditioned matrix detected. Result is not guaranteed to be accurate.\n",
      "Reciprocal condition number: 5.72617937787e-17\n",
      "  ' condition number: {}'.format(rcond), RuntimeWarning)\n",
      "/Users/trininh/anaconda/lib/python2.7/site-packages/scipy/linalg/basic.py:223: RuntimeWarning: scipy.linalg.solve\n",
      "Ill-conditioned matrix detected. Result is not guaranteed to be accurate.\n",
      "Reciprocal condition number: 5.96348224763e-17\n",
      "  ' condition number: {}'.format(rcond), RuntimeWarning)\n",
      "/Users/trininh/anaconda/lib/python2.7/site-packages/scipy/linalg/basic.py:223: RuntimeWarning: scipy.linalg.solve\n",
      "Ill-conditioned matrix detected. Result is not guaranteed to be accurate.\n",
      "Reciprocal condition number: 7.81099019003e-17\n",
      "  ' condition number: {}'.format(rcond), RuntimeWarning)\n",
      "/Users/trininh/anaconda/lib/python2.7/site-packages/scipy/linalg/basic.py:223: RuntimeWarning: scipy.linalg.solve\n",
      "Ill-conditioned matrix detected. Result is not guaranteed to be accurate.\n",
      "Reciprocal condition number: 8.47000255323e-17\n",
      "  ' condition number: {}'.format(rcond), RuntimeWarning)\n",
      "/Users/trininh/anaconda/lib/python2.7/site-packages/scipy/linalg/basic.py:223: RuntimeWarning: scipy.linalg.solve\n",
      "Ill-conditioned matrix detected. Result is not guaranteed to be accurate.\n",
      "Reciprocal condition number: 8.04970975486e-17\n",
      "  ' condition number: {}'.format(rcond), RuntimeWarning)\n",
      "/Users/trininh/anaconda/lib/python2.7/site-packages/scipy/linalg/basic.py:223: RuntimeWarning: scipy.linalg.solve\n",
      "Ill-conditioned matrix detected. Result is not guaranteed to be accurate.\n",
      "Reciprocal condition number: 6.03515535156e-17\n",
      "  ' condition number: {}'.format(rcond), RuntimeWarning)\n",
      "/Users/trininh/anaconda/lib/python2.7/site-packages/scipy/linalg/basic.py:223: RuntimeWarning: scipy.linalg.solve\n",
      "Ill-conditioned matrix detected. Result is not guaranteed to be accurate.\n",
      "Reciprocal condition number: 6.16885051492e-17\n",
      "  ' condition number: {}'.format(rcond), RuntimeWarning)\n",
      "/Users/trininh/anaconda/lib/python2.7/site-packages/scipy/linalg/basic.py:223: RuntimeWarning: scipy.linalg.solve\n",
      "Ill-conditioned matrix detected. Result is not guaranteed to be accurate.\n",
      "Reciprocal condition number: 5.60179226644e-17\n",
      "  ' condition number: {}'.format(rcond), RuntimeWarning)\n",
      "/Users/trininh/anaconda/lib/python2.7/site-packages/scipy/linalg/basic.py:223: RuntimeWarning: scipy.linalg.solve\n",
      "Ill-conditioned matrix detected. Result is not guaranteed to be accurate.\n",
      "Reciprocal condition number: 5.94286005113e-17\n",
      "  ' condition number: {}'.format(rcond), RuntimeWarning)\n",
      "/Users/trininh/anaconda/lib/python2.7/site-packages/scipy/linalg/basic.py:223: RuntimeWarning: scipy.linalg.solve\n",
      "Ill-conditioned matrix detected. Result is not guaranteed to be accurate.\n",
      "Reciprocal condition number: 8.42582114862e-17\n",
      "  ' condition number: {}'.format(rcond), RuntimeWarning)\n",
      "/Users/trininh/anaconda/lib/python2.7/site-packages/scipy/linalg/basic.py:223: RuntimeWarning: scipy.linalg.solve\n",
      "Ill-conditioned matrix detected. Result is not guaranteed to be accurate.\n",
      "Reciprocal condition number: 6.1514002625e-17\n",
      "  ' condition number: {}'.format(rcond), RuntimeWarning)\n",
      "/Users/trininh/anaconda/lib/python2.7/site-packages/scipy/linalg/basic.py:223: RuntimeWarning: scipy.linalg.solve\n",
      "Ill-conditioned matrix detected. Result is not guaranteed to be accurate.\n",
      "Reciprocal condition number: 6.7832297414e-17\n",
      "  ' condition number: {}'.format(rcond), RuntimeWarning)\n",
      "/Users/trininh/anaconda/lib/python2.7/site-packages/scipy/linalg/basic.py:223: RuntimeWarning: scipy.linalg.solve\n",
      "Ill-conditioned matrix detected. Result is not guaranteed to be accurate.\n",
      "Reciprocal condition number: 5.6891766976e-17\n",
      "  ' condition number: {}'.format(rcond), RuntimeWarning)\n",
      "/Users/trininh/anaconda/lib/python2.7/site-packages/scipy/linalg/basic.py:223: RuntimeWarning: scipy.linalg.solve\n",
      "Ill-conditioned matrix detected. Result is not guaranteed to be accurate.\n",
      "Reciprocal condition number: 7.40930730952e-17\n",
      "  ' condition number: {}'.format(rcond), RuntimeWarning)\n",
      "/Users/trininh/anaconda/lib/python2.7/site-packages/scipy/linalg/basic.py:223: RuntimeWarning: scipy.linalg.solve\n",
      "Ill-conditioned matrix detected. Result is not guaranteed to be accurate.\n",
      "Reciprocal condition number: 5.93080705438e-17\n",
      "  ' condition number: {}'.format(rcond), RuntimeWarning)\n",
      "/Users/trininh/anaconda/lib/python2.7/site-packages/scipy/linalg/basic.py:223: RuntimeWarning: scipy.linalg.solve\n",
      "Ill-conditioned matrix detected. Result is not guaranteed to be accurate.\n",
      "Reciprocal condition number: 6.46787138206e-17\n",
      "  ' condition number: {}'.format(rcond), RuntimeWarning)\n",
      "/Users/trininh/anaconda/lib/python2.7/site-packages/scipy/linalg/basic.py:223: RuntimeWarning: scipy.linalg.solve\n",
      "Ill-conditioned matrix detected. Result is not guaranteed to be accurate.\n",
      "Reciprocal condition number: 6.41193397476e-17\n",
      "  ' condition number: {}'.format(rcond), RuntimeWarning)\n",
      "/Users/trininh/anaconda/lib/python2.7/site-packages/scipy/linalg/basic.py:223: RuntimeWarning: scipy.linalg.solve\n",
      "Ill-conditioned matrix detected. Result is not guaranteed to be accurate.\n",
      "Reciprocal condition number: 7.84489406357e-17\n",
      "  ' condition number: {}'.format(rcond), RuntimeWarning)\n",
      "/Users/trininh/anaconda/lib/python2.7/site-packages/scipy/linalg/basic.py:223: RuntimeWarning: scipy.linalg.solve\n",
      "Ill-conditioned matrix detected. Result is not guaranteed to be accurate.\n",
      "Reciprocal condition number: 5.62189004818e-17\n",
      "  ' condition number: {}'.format(rcond), RuntimeWarning)\n",
      "/Users/trininh/anaconda/lib/python2.7/site-packages/scipy/linalg/basic.py:223: RuntimeWarning: scipy.linalg.solve\n",
      "Ill-conditioned matrix detected. Result is not guaranteed to be accurate.\n",
      "Reciprocal condition number: 6.95578865745e-17\n",
      "  ' condition number: {}'.format(rcond), RuntimeWarning)\n",
      "/Users/trininh/anaconda/lib/python2.7/site-packages/scipy/linalg/basic.py:223: RuntimeWarning: scipy.linalg.solve\n",
      "Ill-conditioned matrix detected. Result is not guaranteed to be accurate.\n",
      "Reciprocal condition number: 7.37938110101e-17\n",
      "  ' condition number: {}'.format(rcond), RuntimeWarning)\n",
      "/Users/trininh/anaconda/lib/python2.7/site-packages/scipy/linalg/basic.py:223: RuntimeWarning: scipy.linalg.solve\n",
      "Ill-conditioned matrix detected. Result is not guaranteed to be accurate.\n",
      "Reciprocal condition number: 6.8360149098e-17\n",
      "  ' condition number: {}'.format(rcond), RuntimeWarning)\n",
      "/Users/trininh/anaconda/lib/python2.7/site-packages/scipy/linalg/basic.py:223: RuntimeWarning: scipy.linalg.solve\n",
      "Ill-conditioned matrix detected. Result is not guaranteed to be accurate.\n",
      "Reciprocal condition number: 6.23349599366e-17\n",
      "  ' condition number: {}'.format(rcond), RuntimeWarning)\n",
      "/Users/trininh/anaconda/lib/python2.7/site-packages/scipy/linalg/basic.py:223: RuntimeWarning: scipy.linalg.solve\n",
      "Ill-conditioned matrix detected. Result is not guaranteed to be accurate.\n",
      "Reciprocal condition number: 6.27952940391e-17\n",
      "  ' condition number: {}'.format(rcond), RuntimeWarning)\n",
      "/Users/trininh/anaconda/lib/python2.7/site-packages/scipy/linalg/basic.py:223: RuntimeWarning: scipy.linalg.solve\n",
      "Ill-conditioned matrix detected. Result is not guaranteed to be accurate.\n",
      "Reciprocal condition number: 7.93653025588e-17\n",
      "  ' condition number: {}'.format(rcond), RuntimeWarning)\n",
      "/Users/trininh/anaconda/lib/python2.7/site-packages/scipy/linalg/basic.py:223: RuntimeWarning: scipy.linalg.solve\n",
      "Ill-conditioned matrix detected. Result is not guaranteed to be accurate.\n",
      "Reciprocal condition number: 6.32894265108e-17\n",
      "  ' condition number: {}'.format(rcond), RuntimeWarning)\n",
      "/Users/trininh/anaconda/lib/python2.7/site-packages/scipy/linalg/basic.py:223: RuntimeWarning: scipy.linalg.solve\n",
      "Ill-conditioned matrix detected. Result is not guaranteed to be accurate.\n",
      "Reciprocal condition number: 5.74005692152e-17\n",
      "  ' condition number: {}'.format(rcond), RuntimeWarning)\n",
      "/Users/trininh/anaconda/lib/python2.7/site-packages/scipy/linalg/basic.py:223: RuntimeWarning: scipy.linalg.solve\n",
      "Ill-conditioned matrix detected. Result is not guaranteed to be accurate.\n",
      "Reciprocal condition number: 6.01519715903e-17\n",
      "  ' condition number: {}'.format(rcond), RuntimeWarning)\n",
      "/Users/trininh/anaconda/lib/python2.7/site-packages/scipy/linalg/basic.py:223: RuntimeWarning: scipy.linalg.solve\n",
      "Ill-conditioned matrix detected. Result is not guaranteed to be accurate.\n",
      "Reciprocal condition number: 5.90589386864e-17\n",
      "  ' condition number: {}'.format(rcond), RuntimeWarning)\n",
      "/Users/trininh/anaconda/lib/python2.7/site-packages/scipy/linalg/basic.py:223: RuntimeWarning: scipy.linalg.solve\n",
      "Ill-conditioned matrix detected. Result is not guaranteed to be accurate.\n",
      "Reciprocal condition number: 5.87487451265e-17\n",
      "  ' condition number: {}'.format(rcond), RuntimeWarning)\n",
      "/Users/trininh/anaconda/lib/python2.7/site-packages/scipy/linalg/basic.py:223: RuntimeWarning: scipy.linalg.solve\n",
      "Ill-conditioned matrix detected. Result is not guaranteed to be accurate.\n",
      "Reciprocal condition number: 5.78884880167e-17\n",
      "  ' condition number: {}'.format(rcond), RuntimeWarning)\n",
      "/Users/trininh/anaconda/lib/python2.7/site-packages/scipy/linalg/basic.py:223: RuntimeWarning: scipy.linalg.solve\n",
      "Ill-conditioned matrix detected. Result is not guaranteed to be accurate.\n",
      "Reciprocal condition number: 8.03531405957e-17\n",
      "  ' condition number: {}'.format(rcond), RuntimeWarning)\n",
      "/Users/trininh/anaconda/lib/python2.7/site-packages/scipy/linalg/basic.py:223: RuntimeWarning: scipy.linalg.solve\n",
      "Ill-conditioned matrix detected. Result is not guaranteed to be accurate.\n",
      "Reciprocal condition number: 7.08443936431e-17\n",
      "  ' condition number: {}'.format(rcond), RuntimeWarning)\n",
      "/Users/trininh/anaconda/lib/python2.7/site-packages/scipy/linalg/basic.py:223: RuntimeWarning: scipy.linalg.solve\n",
      "Ill-conditioned matrix detected. Result is not guaranteed to be accurate.\n",
      "Reciprocal condition number: 7.8814807741e-17\n",
      "  ' condition number: {}'.format(rcond), RuntimeWarning)\n",
      "/Users/trininh/anaconda/lib/python2.7/site-packages/scipy/linalg/basic.py:223: RuntimeWarning: scipy.linalg.solve\n",
      "Ill-conditioned matrix detected. Result is not guaranteed to be accurate.\n",
      "Reciprocal condition number: 5.79754745158e-17\n",
      "  ' condition number: {}'.format(rcond), RuntimeWarning)\n",
      "/Users/trininh/anaconda/lib/python2.7/site-packages/scipy/linalg/basic.py:223: RuntimeWarning: scipy.linalg.solve\n",
      "Ill-conditioned matrix detected. Result is not guaranteed to be accurate.\n",
      "Reciprocal condition number: 5.60150345355e-17\n",
      "  ' condition number: {}'.format(rcond), RuntimeWarning)\n",
      "/Users/trininh/anaconda/lib/python2.7/site-packages/scipy/linalg/basic.py:223: RuntimeWarning: scipy.linalg.solve\n",
      "Ill-conditioned matrix detected. Result is not guaranteed to be accurate.\n",
      "Reciprocal condition number: 6.1391867964e-17\n",
      "  ' condition number: {}'.format(rcond), RuntimeWarning)\n",
      "/Users/trininh/anaconda/lib/python2.7/site-packages/scipy/linalg/basic.py:223: RuntimeWarning: scipy.linalg.solve\n",
      "Ill-conditioned matrix detected. Result is not guaranteed to be accurate.\n",
      "Reciprocal condition number: 6.66827576203e-17\n",
      "  ' condition number: {}'.format(rcond), RuntimeWarning)\n",
      "/Users/trininh/anaconda/lib/python2.7/site-packages/scipy/linalg/basic.py:223: RuntimeWarning: scipy.linalg.solve\n",
      "Ill-conditioned matrix detected. Result is not guaranteed to be accurate.\n",
      "Reciprocal condition number: 5.94939581433e-17\n",
      "  ' condition number: {}'.format(rcond), RuntimeWarning)\n",
      "/Users/trininh/anaconda/lib/python2.7/site-packages/scipy/linalg/basic.py:223: RuntimeWarning: scipy.linalg.solve\n",
      "Ill-conditioned matrix detected. Result is not guaranteed to be accurate.\n",
      "Reciprocal condition number: 6.2018383343e-17\n",
      "  ' condition number: {}'.format(rcond), RuntimeWarning)\n",
      "/Users/trininh/anaconda/lib/python2.7/site-packages/scipy/linalg/basic.py:223: RuntimeWarning: scipy.linalg.solve\n",
      "Ill-conditioned matrix detected. Result is not guaranteed to be accurate.\n",
      "Reciprocal condition number: 5.75841818859e-17\n",
      "  ' condition number: {}'.format(rcond), RuntimeWarning)\n",
      "/Users/trininh/anaconda/lib/python2.7/site-packages/scipy/linalg/basic.py:223: RuntimeWarning: scipy.linalg.solve\n",
      "Ill-conditioned matrix detected. Result is not guaranteed to be accurate.\n",
      "Reciprocal condition number: 5.9287464673e-17\n",
      "  ' condition number: {}'.format(rcond), RuntimeWarning)\n",
      "/Users/trininh/anaconda/lib/python2.7/site-packages/scipy/linalg/basic.py:223: RuntimeWarning: scipy.linalg.solve\n",
      "Ill-conditioned matrix detected. Result is not guaranteed to be accurate.\n",
      "Reciprocal condition number: 7.86462281417e-17\n",
      "  ' condition number: {}'.format(rcond), RuntimeWarning)\n"
     ]
    },
    {
     "name": "stderr",
     "output_type": "stream",
     "text": [
      "/Users/trininh/anaconda/lib/python2.7/site-packages/scipy/linalg/basic.py:223: RuntimeWarning: scipy.linalg.solve\n",
      "Ill-conditioned matrix detected. Result is not guaranteed to be accurate.\n",
      "Reciprocal condition number: 5.8109095193e-17\n",
      "  ' condition number: {}'.format(rcond), RuntimeWarning)\n",
      "/Users/trininh/anaconda/lib/python2.7/site-packages/scipy/linalg/basic.py:223: RuntimeWarning: scipy.linalg.solve\n",
      "Ill-conditioned matrix detected. Result is not guaranteed to be accurate.\n",
      "Reciprocal condition number: 7.00240566995e-17\n",
      "  ' condition number: {}'.format(rcond), RuntimeWarning)\n",
      "/Users/trininh/anaconda/lib/python2.7/site-packages/scipy/linalg/basic.py:223: RuntimeWarning: scipy.linalg.solve\n",
      "Ill-conditioned matrix detected. Result is not guaranteed to be accurate.\n",
      "Reciprocal condition number: 8.01601538965e-17\n",
      "  ' condition number: {}'.format(rcond), RuntimeWarning)\n",
      "/Users/trininh/anaconda/lib/python2.7/site-packages/scipy/linalg/basic.py:223: RuntimeWarning: scipy.linalg.solve\n",
      "Ill-conditioned matrix detected. Result is not guaranteed to be accurate.\n",
      "Reciprocal condition number: 6.11070751479e-17\n",
      "  ' condition number: {}'.format(rcond), RuntimeWarning)\n",
      "/Users/trininh/anaconda/lib/python2.7/site-packages/scipy/linalg/basic.py:223: RuntimeWarning: scipy.linalg.solve\n",
      "Ill-conditioned matrix detected. Result is not guaranteed to be accurate.\n",
      "Reciprocal condition number: 8.05704566196e-17\n",
      "  ' condition number: {}'.format(rcond), RuntimeWarning)\n",
      "/Users/trininh/anaconda/lib/python2.7/site-packages/scipy/linalg/basic.py:223: RuntimeWarning: scipy.linalg.solve\n",
      "Ill-conditioned matrix detected. Result is not guaranteed to be accurate.\n",
      "Reciprocal condition number: 6.35134158767e-17\n",
      "  ' condition number: {}'.format(rcond), RuntimeWarning)\n",
      "/Users/trininh/anaconda/lib/python2.7/site-packages/scipy/linalg/basic.py:223: RuntimeWarning: scipy.linalg.solve\n",
      "Ill-conditioned matrix detected. Result is not guaranteed to be accurate.\n",
      "Reciprocal condition number: 6.61505937022e-17\n",
      "  ' condition number: {}'.format(rcond), RuntimeWarning)\n",
      "/Users/trininh/anaconda/lib/python2.7/site-packages/scipy/linalg/basic.py:223: RuntimeWarning: scipy.linalg.solve\n",
      "Ill-conditioned matrix detected. Result is not guaranteed to be accurate.\n",
      "Reciprocal condition number: 8.02214093384e-17\n",
      "  ' condition number: {}'.format(rcond), RuntimeWarning)\n",
      "/Users/trininh/anaconda/lib/python2.7/site-packages/scipy/linalg/basic.py:223: RuntimeWarning: scipy.linalg.solve\n",
      "Ill-conditioned matrix detected. Result is not guaranteed to be accurate.\n",
      "Reciprocal condition number: 6.08315029532e-17\n",
      "  ' condition number: {}'.format(rcond), RuntimeWarning)\n",
      "/Users/trininh/anaconda/lib/python2.7/site-packages/scipy/linalg/basic.py:223: RuntimeWarning: scipy.linalg.solve\n",
      "Ill-conditioned matrix detected. Result is not guaranteed to be accurate.\n",
      "Reciprocal condition number: 6.05301650021e-17\n",
      "  ' condition number: {}'.format(rcond), RuntimeWarning)\n",
      "/Users/trininh/anaconda/lib/python2.7/site-packages/scipy/linalg/basic.py:223: RuntimeWarning: scipy.linalg.solve\n",
      "Ill-conditioned matrix detected. Result is not guaranteed to be accurate.\n",
      "Reciprocal condition number: 7.1173333579e-17\n",
      "  ' condition number: {}'.format(rcond), RuntimeWarning)\n",
      "/Users/trininh/anaconda/lib/python2.7/site-packages/scipy/linalg/basic.py:223: RuntimeWarning: scipy.linalg.solve\n",
      "Ill-conditioned matrix detected. Result is not guaranteed to be accurate.\n",
      "Reciprocal condition number: 5.38483100369e-17\n",
      "  ' condition number: {}'.format(rcond), RuntimeWarning)\n",
      "/Users/trininh/anaconda/lib/python2.7/site-packages/scipy/linalg/basic.py:223: RuntimeWarning: scipy.linalg.solve\n",
      "Ill-conditioned matrix detected. Result is not guaranteed to be accurate.\n",
      "Reciprocal condition number: 6.51650996278e-17\n",
      "  ' condition number: {}'.format(rcond), RuntimeWarning)\n",
      "/Users/trininh/anaconda/lib/python2.7/site-packages/scipy/linalg/basic.py:223: RuntimeWarning: scipy.linalg.solve\n",
      "Ill-conditioned matrix detected. Result is not guaranteed to be accurate.\n",
      "Reciprocal condition number: 6.99433113586e-17\n",
      "  ' condition number: {}'.format(rcond), RuntimeWarning)\n",
      "/Users/trininh/anaconda/lib/python2.7/site-packages/scipy/linalg/basic.py:223: RuntimeWarning: scipy.linalg.solve\n",
      "Ill-conditioned matrix detected. Result is not guaranteed to be accurate.\n",
      "Reciprocal condition number: 6.06217284809e-17\n",
      "  ' condition number: {}'.format(rcond), RuntimeWarning)\n",
      "/Users/trininh/anaconda/lib/python2.7/site-packages/scipy/linalg/basic.py:223: RuntimeWarning: scipy.linalg.solve\n",
      "Ill-conditioned matrix detected. Result is not guaranteed to be accurate.\n",
      "Reciprocal condition number: 6.08454088745e-17\n",
      "  ' condition number: {}'.format(rcond), RuntimeWarning)\n",
      "/Users/trininh/anaconda/lib/python2.7/site-packages/scipy/linalg/basic.py:223: RuntimeWarning: scipy.linalg.solve\n",
      "Ill-conditioned matrix detected. Result is not guaranteed to be accurate.\n",
      "Reciprocal condition number: 6.42488729449e-17\n",
      "  ' condition number: {}'.format(rcond), RuntimeWarning)\n",
      "/Users/trininh/anaconda/lib/python2.7/site-packages/scipy/linalg/basic.py:223: RuntimeWarning: scipy.linalg.solve\n",
      "Ill-conditioned matrix detected. Result is not guaranteed to be accurate.\n",
      "Reciprocal condition number: 5.6740258968e-17\n",
      "  ' condition number: {}'.format(rcond), RuntimeWarning)\n",
      "/Users/trininh/anaconda/lib/python2.7/site-packages/scipy/linalg/basic.py:223: RuntimeWarning: scipy.linalg.solve\n",
      "Ill-conditioned matrix detected. Result is not guaranteed to be accurate.\n",
      "Reciprocal condition number: 8.50416994341e-17\n",
      "  ' condition number: {}'.format(rcond), RuntimeWarning)\n",
      "/Users/trininh/anaconda/lib/python2.7/site-packages/scipy/linalg/basic.py:223: RuntimeWarning: scipy.linalg.solve\n",
      "Ill-conditioned matrix detected. Result is not guaranteed to be accurate.\n",
      "Reciprocal condition number: 5.80527777435e-17\n",
      "  ' condition number: {}'.format(rcond), RuntimeWarning)\n",
      "/Users/trininh/anaconda/lib/python2.7/site-packages/scipy/linalg/basic.py:223: RuntimeWarning: scipy.linalg.solve\n",
      "Ill-conditioned matrix detected. Result is not guaranteed to be accurate.\n",
      "Reciprocal condition number: 5.7013660838e-17\n",
      "  ' condition number: {}'.format(rcond), RuntimeWarning)\n",
      "/Users/trininh/anaconda/lib/python2.7/site-packages/scipy/linalg/basic.py:223: RuntimeWarning: scipy.linalg.solve\n",
      "Ill-conditioned matrix detected. Result is not guaranteed to be accurate.\n",
      "Reciprocal condition number: 6.26488560852e-17\n",
      "  ' condition number: {}'.format(rcond), RuntimeWarning)\n",
      "/Users/trininh/anaconda/lib/python2.7/site-packages/scipy/linalg/basic.py:223: RuntimeWarning: scipy.linalg.solve\n",
      "Ill-conditioned matrix detected. Result is not guaranteed to be accurate.\n",
      "Reciprocal condition number: 6.6681993038e-17\n",
      "  ' condition number: {}'.format(rcond), RuntimeWarning)\n",
      "/Users/trininh/anaconda/lib/python2.7/site-packages/scipy/linalg/basic.py:223: RuntimeWarning: scipy.linalg.solve\n",
      "Ill-conditioned matrix detected. Result is not guaranteed to be accurate.\n",
      "Reciprocal condition number: 7.03415110656e-17\n",
      "  ' condition number: {}'.format(rcond), RuntimeWarning)\n",
      "/Users/trininh/anaconda/lib/python2.7/site-packages/scipy/linalg/basic.py:223: RuntimeWarning: scipy.linalg.solve\n",
      "Ill-conditioned matrix detected. Result is not guaranteed to be accurate.\n",
      "Reciprocal condition number: 6.27693253751e-17\n",
      "  ' condition number: {}'.format(rcond), RuntimeWarning)\n",
      "/Users/trininh/anaconda/lib/python2.7/site-packages/scipy/linalg/basic.py:223: RuntimeWarning: scipy.linalg.solve\n",
      "Ill-conditioned matrix detected. Result is not guaranteed to be accurate.\n",
      "Reciprocal condition number: 6.1600501869e-17\n",
      "  ' condition number: {}'.format(rcond), RuntimeWarning)\n",
      "/Users/trininh/anaconda/lib/python2.7/site-packages/scipy/linalg/basic.py:223: RuntimeWarning: scipy.linalg.solve\n",
      "Ill-conditioned matrix detected. Result is not guaranteed to be accurate.\n",
      "Reciprocal condition number: 5.52087391938e-17\n",
      "  ' condition number: {}'.format(rcond), RuntimeWarning)\n",
      "/Users/trininh/anaconda/lib/python2.7/site-packages/scipy/linalg/basic.py:223: RuntimeWarning: scipy.linalg.solve\n",
      "Ill-conditioned matrix detected. Result is not guaranteed to be accurate.\n",
      "Reciprocal condition number: 7.91196270342e-17\n",
      "  ' condition number: {}'.format(rcond), RuntimeWarning)\n",
      "/Users/trininh/anaconda/lib/python2.7/site-packages/scipy/linalg/basic.py:223: RuntimeWarning: scipy.linalg.solve\n",
      "Ill-conditioned matrix detected. Result is not guaranteed to be accurate.\n",
      "Reciprocal condition number: 6.16284465021e-17\n",
      "  ' condition number: {}'.format(rcond), RuntimeWarning)\n",
      "/Users/trininh/anaconda/lib/python2.7/site-packages/scipy/linalg/basic.py:223: RuntimeWarning: scipy.linalg.solve\n",
      "Ill-conditioned matrix detected. Result is not guaranteed to be accurate.\n",
      "Reciprocal condition number: 6.08868362482e-17\n",
      "  ' condition number: {}'.format(rcond), RuntimeWarning)\n",
      "/Users/trininh/anaconda/lib/python2.7/site-packages/scipy/linalg/basic.py:223: RuntimeWarning: scipy.linalg.solve\n",
      "Ill-conditioned matrix detected. Result is not guaranteed to be accurate.\n",
      "Reciprocal condition number: 8.23503321031e-17\n",
      "  ' condition number: {}'.format(rcond), RuntimeWarning)\n",
      "/Users/trininh/anaconda/lib/python2.7/site-packages/scipy/linalg/basic.py:223: RuntimeWarning: scipy.linalg.solve\n",
      "Ill-conditioned matrix detected. Result is not guaranteed to be accurate.\n",
      "Reciprocal condition number: 8.27806053668e-17\n",
      "  ' condition number: {}'.format(rcond), RuntimeWarning)\n",
      "/Users/trininh/anaconda/lib/python2.7/site-packages/scipy/linalg/basic.py:223: RuntimeWarning: scipy.linalg.solve\n",
      "Ill-conditioned matrix detected. Result is not guaranteed to be accurate.\n",
      "Reciprocal condition number: 6.72507408711e-17\n",
      "  ' condition number: {}'.format(rcond), RuntimeWarning)\n",
      "/Users/trininh/anaconda/lib/python2.7/site-packages/scipy/linalg/basic.py:223: RuntimeWarning: scipy.linalg.solve\n",
      "Ill-conditioned matrix detected. Result is not guaranteed to be accurate.\n",
      "Reciprocal condition number: 6.94197733805e-17\n",
      "  ' condition number: {}'.format(rcond), RuntimeWarning)\n",
      "/Users/trininh/anaconda/lib/python2.7/site-packages/scipy/linalg/basic.py:223: RuntimeWarning: scipy.linalg.solve\n",
      "Ill-conditioned matrix detected. Result is not guaranteed to be accurate.\n",
      "Reciprocal condition number: 6.1538823714e-17\n",
      "  ' condition number: {}'.format(rcond), RuntimeWarning)\n",
      "/Users/trininh/anaconda/lib/python2.7/site-packages/scipy/linalg/basic.py:223: RuntimeWarning: scipy.linalg.solve\n",
      "Ill-conditioned matrix detected. Result is not guaranteed to be accurate.\n",
      "Reciprocal condition number: 5.71774943797e-17\n",
      "  ' condition number: {}'.format(rcond), RuntimeWarning)\n",
      "/Users/trininh/anaconda/lib/python2.7/site-packages/scipy/linalg/basic.py:223: RuntimeWarning: scipy.linalg.solve\n",
      "Ill-conditioned matrix detected. Result is not guaranteed to be accurate.\n",
      "Reciprocal condition number: 6.1533253609e-17\n",
      "  ' condition number: {}'.format(rcond), RuntimeWarning)\n",
      "/Users/trininh/anaconda/lib/python2.7/site-packages/scipy/linalg/basic.py:223: RuntimeWarning: scipy.linalg.solve\n",
      "Ill-conditioned matrix detected. Result is not guaranteed to be accurate.\n",
      "Reciprocal condition number: 5.6638538377e-17\n",
      "  ' condition number: {}'.format(rcond), RuntimeWarning)\n",
      "/Users/trininh/anaconda/lib/python2.7/site-packages/scipy/linalg/basic.py:223: RuntimeWarning: scipy.linalg.solve\n",
      "Ill-conditioned matrix detected. Result is not guaranteed to be accurate.\n",
      "Reciprocal condition number: 5.98730034189e-17\n",
      "  ' condition number: {}'.format(rcond), RuntimeWarning)\n",
      "/Users/trininh/anaconda/lib/python2.7/site-packages/scipy/linalg/basic.py:223: RuntimeWarning: scipy.linalg.solve\n",
      "Ill-conditioned matrix detected. Result is not guaranteed to be accurate.\n",
      "Reciprocal condition number: 6.21215958931e-17\n",
      "  ' condition number: {}'.format(rcond), RuntimeWarning)\n",
      "/Users/trininh/anaconda/lib/python2.7/site-packages/scipy/linalg/basic.py:223: RuntimeWarning: scipy.linalg.solve\n",
      "Ill-conditioned matrix detected. Result is not guaranteed to be accurate.\n",
      "Reciprocal condition number: 6.03502454585e-17\n",
      "  ' condition number: {}'.format(rcond), RuntimeWarning)\n",
      "/Users/trininh/anaconda/lib/python2.7/site-packages/scipy/linalg/basic.py:223: RuntimeWarning: scipy.linalg.solve\n",
      "Ill-conditioned matrix detected. Result is not guaranteed to be accurate.\n",
      "Reciprocal condition number: 5.92920245707e-17\n",
      "  ' condition number: {}'.format(rcond), RuntimeWarning)\n",
      "/Users/trininh/anaconda/lib/python2.7/site-packages/scipy/linalg/basic.py:223: RuntimeWarning: scipy.linalg.solve\n",
      "Ill-conditioned matrix detected. Result is not guaranteed to be accurate.\n",
      "Reciprocal condition number: 5.28972864732e-17\n",
      "  ' condition number: {}'.format(rcond), RuntimeWarning)\n",
      "/Users/trininh/anaconda/lib/python2.7/site-packages/scipy/linalg/basic.py:223: RuntimeWarning: scipy.linalg.solve\n",
      "Ill-conditioned matrix detected. Result is not guaranteed to be accurate.\n",
      "Reciprocal condition number: 5.76472807578e-17\n",
      "  ' condition number: {}'.format(rcond), RuntimeWarning)\n",
      "/Users/trininh/anaconda/lib/python2.7/site-packages/scipy/linalg/basic.py:223: RuntimeWarning: scipy.linalg.solve\n",
      "Ill-conditioned matrix detected. Result is not guaranteed to be accurate.\n",
      "Reciprocal condition number: 5.11604871842e-17\n",
      "  ' condition number: {}'.format(rcond), RuntimeWarning)\n",
      "/Users/trininh/anaconda/lib/python2.7/site-packages/scipy/linalg/basic.py:223: RuntimeWarning: scipy.linalg.solve\n",
      "Ill-conditioned matrix detected. Result is not guaranteed to be accurate.\n",
      "Reciprocal condition number: 6.19750367739e-17\n",
      "  ' condition number: {}'.format(rcond), RuntimeWarning)\n",
      "/Users/trininh/anaconda/lib/python2.7/site-packages/scipy/linalg/basic.py:223: RuntimeWarning: scipy.linalg.solve\n",
      "Ill-conditioned matrix detected. Result is not guaranteed to be accurate.\n",
      "Reciprocal condition number: 6.72548720696e-17\n",
      "  ' condition number: {}'.format(rcond), RuntimeWarning)\n",
      "/Users/trininh/anaconda/lib/python2.7/site-packages/scipy/linalg/basic.py:223: RuntimeWarning: scipy.linalg.solve\n",
      "Ill-conditioned matrix detected. Result is not guaranteed to be accurate.\n",
      "Reciprocal condition number: 5.79094689526e-17\n",
      "  ' condition number: {}'.format(rcond), RuntimeWarning)\n",
      "/Users/trininh/anaconda/lib/python2.7/site-packages/scipy/linalg/basic.py:223: RuntimeWarning: scipy.linalg.solve\n",
      "Ill-conditioned matrix detected. Result is not guaranteed to be accurate.\n",
      "Reciprocal condition number: 6.69176365546e-17\n",
      "  ' condition number: {}'.format(rcond), RuntimeWarning)\n",
      "/Users/trininh/anaconda/lib/python2.7/site-packages/scipy/linalg/basic.py:223: RuntimeWarning: scipy.linalg.solve\n",
      "Ill-conditioned matrix detected. Result is not guaranteed to be accurate.\n",
      "Reciprocal condition number: 5.98261456266e-17\n",
      "  ' condition number: {}'.format(rcond), RuntimeWarning)\n",
      "/Users/trininh/anaconda/lib/python2.7/site-packages/scipy/linalg/basic.py:223: RuntimeWarning: scipy.linalg.solve\n",
      "Ill-conditioned matrix detected. Result is not guaranteed to be accurate.\n",
      "Reciprocal condition number: 5.51855586085e-17\n",
      "  ' condition number: {}'.format(rcond), RuntimeWarning)\n",
      "/Users/trininh/anaconda/lib/python2.7/site-packages/scipy/linalg/basic.py:223: RuntimeWarning: scipy.linalg.solve\n",
      "Ill-conditioned matrix detected. Result is not guaranteed to be accurate.\n",
      "Reciprocal condition number: 5.80292367416e-17\n",
      "  ' condition number: {}'.format(rcond), RuntimeWarning)\n",
      "/Users/trininh/anaconda/lib/python2.7/site-packages/scipy/linalg/basic.py:223: RuntimeWarning: scipy.linalg.solve\n",
      "Ill-conditioned matrix detected. Result is not guaranteed to be accurate.\n",
      "Reciprocal condition number: 5.32940018063e-17\n",
      "  ' condition number: {}'.format(rcond), RuntimeWarning)\n",
      "/Users/trininh/anaconda/lib/python2.7/site-packages/scipy/linalg/basic.py:223: RuntimeWarning: scipy.linalg.solve\n",
      "Ill-conditioned matrix detected. Result is not guaranteed to be accurate.\n",
      "Reciprocal condition number: 6.29982539191e-17\n",
      "  ' condition number: {}'.format(rcond), RuntimeWarning)\n",
      "/Users/trininh/anaconda/lib/python2.7/site-packages/scipy/linalg/basic.py:223: RuntimeWarning: scipy.linalg.solve\n",
      "Ill-conditioned matrix detected. Result is not guaranteed to be accurate.\n",
      "Reciprocal condition number: 5.39163454788e-17\n",
      "  ' condition number: {}'.format(rcond), RuntimeWarning)\n",
      "/Users/trininh/anaconda/lib/python2.7/site-packages/scipy/linalg/basic.py:223: RuntimeWarning: scipy.linalg.solve\n",
      "Ill-conditioned matrix detected. Result is not guaranteed to be accurate.\n",
      "Reciprocal condition number: 5.8779285917e-17\n",
      "  ' condition number: {}'.format(rcond), RuntimeWarning)\n",
      "/Users/trininh/anaconda/lib/python2.7/site-packages/scipy/linalg/basic.py:223: RuntimeWarning: scipy.linalg.solve\n",
      "Ill-conditioned matrix detected. Result is not guaranteed to be accurate.\n",
      "Reciprocal condition number: 5.61072515191e-17\n",
      "  ' condition number: {}'.format(rcond), RuntimeWarning)\n",
      "/Users/trininh/anaconda/lib/python2.7/site-packages/scipy/linalg/basic.py:223: RuntimeWarning: scipy.linalg.solve\n",
      "Ill-conditioned matrix detected. Result is not guaranteed to be accurate.\n",
      "Reciprocal condition number: 6.20140414711e-17\n",
      "  ' condition number: {}'.format(rcond), RuntimeWarning)\n",
      "/Users/trininh/anaconda/lib/python2.7/site-packages/scipy/linalg/basic.py:223: RuntimeWarning: scipy.linalg.solve\n",
      "Ill-conditioned matrix detected. Result is not guaranteed to be accurate.\n",
      "Reciprocal condition number: 5.22884756027e-17\n",
      "  ' condition number: {}'.format(rcond), RuntimeWarning)\n",
      "/Users/trininh/anaconda/lib/python2.7/site-packages/scipy/linalg/basic.py:223: RuntimeWarning: scipy.linalg.solve\n",
      "Ill-conditioned matrix detected. Result is not guaranteed to be accurate.\n",
      "Reciprocal condition number: 5.72416487439e-17\n",
      "  ' condition number: {}'.format(rcond), RuntimeWarning)\n",
      "/Users/trininh/anaconda/lib/python2.7/site-packages/scipy/linalg/basic.py:223: RuntimeWarning: scipy.linalg.solve\n",
      "Ill-conditioned matrix detected. Result is not guaranteed to be accurate.\n",
      "Reciprocal condition number: 5.91161518115e-17\n",
      "  ' condition number: {}'.format(rcond), RuntimeWarning)\n",
      "/Users/trininh/anaconda/lib/python2.7/site-packages/scipy/linalg/basic.py:223: RuntimeWarning: scipy.linalg.solve\n",
      "Ill-conditioned matrix detected. Result is not guaranteed to be accurate.\n",
      "Reciprocal condition number: 5.42454843771e-17\n",
      "  ' condition number: {}'.format(rcond), RuntimeWarning)\n",
      "/Users/trininh/anaconda/lib/python2.7/site-packages/scipy/linalg/basic.py:223: RuntimeWarning: scipy.linalg.solve\n",
      "Ill-conditioned matrix detected. Result is not guaranteed to be accurate.\n",
      "Reciprocal condition number: 5.81278507448e-17\n",
      "  ' condition number: {}'.format(rcond), RuntimeWarning)\n",
      "/Users/trininh/anaconda/lib/python2.7/site-packages/scipy/linalg/basic.py:223: RuntimeWarning: scipy.linalg.solve\n",
      "Ill-conditioned matrix detected. Result is not guaranteed to be accurate.\n",
      "Reciprocal condition number: 5.57576741217e-17\n",
      "  ' condition number: {}'.format(rcond), RuntimeWarning)\n",
      "/Users/trininh/anaconda/lib/python2.7/site-packages/scipy/linalg/basic.py:223: RuntimeWarning: scipy.linalg.solve\n",
      "Ill-conditioned matrix detected. Result is not guaranteed to be accurate.\n",
      "Reciprocal condition number: 4.78873285892e-17\n",
      "  ' condition number: {}'.format(rcond), RuntimeWarning)\n",
      "/Users/trininh/anaconda/lib/python2.7/site-packages/scipy/linalg/basic.py:223: RuntimeWarning: scipy.linalg.solve\n",
      "Ill-conditioned matrix detected. Result is not guaranteed to be accurate.\n",
      "Reciprocal condition number: 6.25720523011e-17\n",
      "  ' condition number: {}'.format(rcond), RuntimeWarning)\n",
      "/Users/trininh/anaconda/lib/python2.7/site-packages/scipy/linalg/basic.py:223: RuntimeWarning: scipy.linalg.solve\n",
      "Ill-conditioned matrix detected. Result is not guaranteed to be accurate.\n",
      "Reciprocal condition number: 6.08507438306e-17\n",
      "  ' condition number: {}'.format(rcond), RuntimeWarning)\n",
      "/Users/trininh/anaconda/lib/python2.7/site-packages/scipy/linalg/basic.py:223: RuntimeWarning: scipy.linalg.solve\n",
      "Ill-conditioned matrix detected. Result is not guaranteed to be accurate.\n",
      "Reciprocal condition number: 5.53451083883e-17\n",
      "  ' condition number: {}'.format(rcond), RuntimeWarning)\n",
      "/Users/trininh/anaconda/lib/python2.7/site-packages/scipy/linalg/basic.py:223: RuntimeWarning: scipy.linalg.solve\n",
      "Ill-conditioned matrix detected. Result is not guaranteed to be accurate.\n",
      "Reciprocal condition number: 6.06618317635e-17\n",
      "  ' condition number: {}'.format(rcond), RuntimeWarning)\n",
      "/Users/trininh/anaconda/lib/python2.7/site-packages/scipy/linalg/basic.py:223: RuntimeWarning: scipy.linalg.solve\n",
      "Ill-conditioned matrix detected. Result is not guaranteed to be accurate.\n",
      "Reciprocal condition number: 5.35817420393e-17\n",
      "  ' condition number: {}'.format(rcond), RuntimeWarning)\n",
      "/Users/trininh/anaconda/lib/python2.7/site-packages/scipy/linalg/basic.py:223: RuntimeWarning: scipy.linalg.solve\n",
      "Ill-conditioned matrix detected. Result is not guaranteed to be accurate.\n",
      "Reciprocal condition number: 4.78781415197e-17\n",
      "  ' condition number: {}'.format(rcond), RuntimeWarning)\n",
      "/Users/trininh/anaconda/lib/python2.7/site-packages/scipy/linalg/basic.py:223: RuntimeWarning: scipy.linalg.solve\n",
      "Ill-conditioned matrix detected. Result is not guaranteed to be accurate.\n",
      "Reciprocal condition number: 4.91380466338e-17\n",
      "  ' condition number: {}'.format(rcond), RuntimeWarning)\n",
      "/Users/trininh/anaconda/lib/python2.7/site-packages/scipy/linalg/basic.py:223: RuntimeWarning: scipy.linalg.solve\n",
      "Ill-conditioned matrix detected. Result is not guaranteed to be accurate.\n",
      "Reciprocal condition number: 6.00886018165e-17\n",
      "  ' condition number: {}'.format(rcond), RuntimeWarning)\n",
      "/Users/trininh/anaconda/lib/python2.7/site-packages/scipy/linalg/basic.py:223: RuntimeWarning: scipy.linalg.solve\n",
      "Ill-conditioned matrix detected. Result is not guaranteed to be accurate.\n",
      "Reciprocal condition number: 5.01808484814e-17\n",
      "  ' condition number: {}'.format(rcond), RuntimeWarning)\n",
      "/Users/trininh/anaconda/lib/python2.7/site-packages/scipy/linalg/basic.py:223: RuntimeWarning: scipy.linalg.solve\n",
      "Ill-conditioned matrix detected. Result is not guaranteed to be accurate.\n",
      "Reciprocal condition number: 5.1108525364e-17\n",
      "  ' condition number: {}'.format(rcond), RuntimeWarning)\n",
      "/Users/trininh/anaconda/lib/python2.7/site-packages/scipy/linalg/basic.py:223: RuntimeWarning: scipy.linalg.solve\n",
      "Ill-conditioned matrix detected. Result is not guaranteed to be accurate.\n",
      "Reciprocal condition number: 4.98647067372e-17\n",
      "  ' condition number: {}'.format(rcond), RuntimeWarning)\n",
      "/Users/trininh/anaconda/lib/python2.7/site-packages/scipy/linalg/basic.py:223: RuntimeWarning: scipy.linalg.solve\n",
      "Ill-conditioned matrix detected. Result is not guaranteed to be accurate.\n",
      "Reciprocal condition number: 5.50694656069e-17\n",
      "  ' condition number: {}'.format(rcond), RuntimeWarning)\n",
      "/Users/trininh/anaconda/lib/python2.7/site-packages/scipy/linalg/basic.py:223: RuntimeWarning: scipy.linalg.solve\n",
      "Ill-conditioned matrix detected. Result is not guaranteed to be accurate.\n",
      "Reciprocal condition number: 6.01069560927e-17\n",
      "  ' condition number: {}'.format(rcond), RuntimeWarning)\n",
      "/Users/trininh/anaconda/lib/python2.7/site-packages/scipy/linalg/basic.py:223: RuntimeWarning: scipy.linalg.solve\n",
      "Ill-conditioned matrix detected. Result is not guaranteed to be accurate.\n",
      "Reciprocal condition number: 4.96039654013e-17\n",
      "  ' condition number: {}'.format(rcond), RuntimeWarning)\n"
     ]
    },
    {
     "name": "stderr",
     "output_type": "stream",
     "text": [
      "/Users/trininh/anaconda/lib/python2.7/site-packages/scipy/linalg/basic.py:223: RuntimeWarning: scipy.linalg.solve\n",
      "Ill-conditioned matrix detected. Result is not guaranteed to be accurate.\n",
      "Reciprocal condition number: 5.49159845444e-17\n",
      "  ' condition number: {}'.format(rcond), RuntimeWarning)\n",
      "/Users/trininh/anaconda/lib/python2.7/site-packages/scipy/linalg/basic.py:223: RuntimeWarning: scipy.linalg.solve\n",
      "Ill-conditioned matrix detected. Result is not guaranteed to be accurate.\n",
      "Reciprocal condition number: 5.27087363322e-17\n",
      "  ' condition number: {}'.format(rcond), RuntimeWarning)\n",
      "/Users/trininh/anaconda/lib/python2.7/site-packages/scipy/linalg/basic.py:223: RuntimeWarning: scipy.linalg.solve\n",
      "Ill-conditioned matrix detected. Result is not guaranteed to be accurate.\n",
      "Reciprocal condition number: 4.78326798975e-17\n",
      "  ' condition number: {}'.format(rcond), RuntimeWarning)\n",
      "/Users/trininh/anaconda/lib/python2.7/site-packages/scipy/linalg/basic.py:223: RuntimeWarning: scipy.linalg.solve\n",
      "Ill-conditioned matrix detected. Result is not guaranteed to be accurate.\n",
      "Reciprocal condition number: 5.27793482213e-17\n",
      "  ' condition number: {}'.format(rcond), RuntimeWarning)\n",
      "/Users/trininh/anaconda/lib/python2.7/site-packages/scipy/linalg/basic.py:223: RuntimeWarning: scipy.linalg.solve\n",
      "Ill-conditioned matrix detected. Result is not guaranteed to be accurate.\n",
      "Reciprocal condition number: 4.83600155932e-17\n",
      "  ' condition number: {}'.format(rcond), RuntimeWarning)\n",
      "/Users/trininh/anaconda/lib/python2.7/site-packages/scipy/linalg/basic.py:223: RuntimeWarning: scipy.linalg.solve\n",
      "Ill-conditioned matrix detected. Result is not guaranteed to be accurate.\n",
      "Reciprocal condition number: 4.59628352834e-17\n",
      "  ' condition number: {}'.format(rcond), RuntimeWarning)\n",
      "/Users/trininh/anaconda/lib/python2.7/site-packages/scipy/linalg/basic.py:223: RuntimeWarning: scipy.linalg.solve\n",
      "Ill-conditioned matrix detected. Result is not guaranteed to be accurate.\n",
      "Reciprocal condition number: 5.47511918475e-17\n",
      "  ' condition number: {}'.format(rcond), RuntimeWarning)\n",
      "/Users/trininh/anaconda/lib/python2.7/site-packages/scipy/linalg/basic.py:223: RuntimeWarning: scipy.linalg.solve\n",
      "Ill-conditioned matrix detected. Result is not guaranteed to be accurate.\n",
      "Reciprocal condition number: 4.86292340352e-17\n",
      "  ' condition number: {}'.format(rcond), RuntimeWarning)\n",
      "/Users/trininh/anaconda/lib/python2.7/site-packages/scipy/linalg/basic.py:223: RuntimeWarning: scipy.linalg.solve\n",
      "Ill-conditioned matrix detected. Result is not guaranteed to be accurate.\n",
      "Reciprocal condition number: 5.07654754571e-17\n",
      "  ' condition number: {}'.format(rcond), RuntimeWarning)\n",
      "/Users/trininh/anaconda/lib/python2.7/site-packages/scipy/linalg/basic.py:223: RuntimeWarning: scipy.linalg.solve\n",
      "Ill-conditioned matrix detected. Result is not guaranteed to be accurate.\n",
      "Reciprocal condition number: 4.75453484072e-17\n",
      "  ' condition number: {}'.format(rcond), RuntimeWarning)\n",
      "/Users/trininh/anaconda/lib/python2.7/site-packages/scipy/linalg/basic.py:223: RuntimeWarning: scipy.linalg.solve\n",
      "Ill-conditioned matrix detected. Result is not guaranteed to be accurate.\n",
      "Reciprocal condition number: 4.23019147989e-17\n",
      "  ' condition number: {}'.format(rcond), RuntimeWarning)\n",
      "/Users/trininh/anaconda/lib/python2.7/site-packages/scipy/linalg/basic.py:223: RuntimeWarning: scipy.linalg.solve\n",
      "Ill-conditioned matrix detected. Result is not guaranteed to be accurate.\n",
      "Reciprocal condition number: 4.38883351631e-17\n",
      "  ' condition number: {}'.format(rcond), RuntimeWarning)\n",
      "/Users/trininh/anaconda/lib/python2.7/site-packages/scipy/linalg/basic.py:223: RuntimeWarning: scipy.linalg.solve\n",
      "Ill-conditioned matrix detected. Result is not guaranteed to be accurate.\n",
      "Reciprocal condition number: 4.30143049765e-17\n",
      "  ' condition number: {}'.format(rcond), RuntimeWarning)\n",
      "/Users/trininh/anaconda/lib/python2.7/site-packages/scipy/linalg/basic.py:223: RuntimeWarning: scipy.linalg.solve\n",
      "Ill-conditioned matrix detected. Result is not guaranteed to be accurate.\n",
      "Reciprocal condition number: 4.27261858006e-17\n",
      "  ' condition number: {}'.format(rcond), RuntimeWarning)\n",
      "/Users/trininh/anaconda/lib/python2.7/site-packages/scipy/linalg/basic.py:223: RuntimeWarning: scipy.linalg.solve\n",
      "Ill-conditioned matrix detected. Result is not guaranteed to be accurate.\n",
      "Reciprocal condition number: 4.255408997e-17\n",
      "  ' condition number: {}'.format(rcond), RuntimeWarning)\n",
      "/Users/trininh/anaconda/lib/python2.7/site-packages/scipy/linalg/basic.py:223: RuntimeWarning: scipy.linalg.solve\n",
      "Ill-conditioned matrix detected. Result is not guaranteed to be accurate.\n",
      "Reciprocal condition number: 4.20725422589e-17\n",
      "  ' condition number: {}'.format(rcond), RuntimeWarning)\n",
      "/Users/trininh/anaconda/lib/python2.7/site-packages/scipy/linalg/basic.py:223: RuntimeWarning: scipy.linalg.solve\n",
      "Ill-conditioned matrix detected. Result is not guaranteed to be accurate.\n",
      "Reciprocal condition number: 4.53712570209e-17\n",
      "  ' condition number: {}'.format(rcond), RuntimeWarning)\n",
      "/Users/trininh/anaconda/lib/python2.7/site-packages/scipy/linalg/basic.py:223: RuntimeWarning: scipy.linalg.solve\n",
      "Ill-conditioned matrix detected. Result is not guaranteed to be accurate.\n",
      "Reciprocal condition number: 3.80396347621e-17\n",
      "  ' condition number: {}'.format(rcond), RuntimeWarning)\n",
      "/Users/trininh/anaconda/lib/python2.7/site-packages/scipy/linalg/basic.py:223: RuntimeWarning: scipy.linalg.solve\n",
      "Ill-conditioned matrix detected. Result is not guaranteed to be accurate.\n",
      "Reciprocal condition number: 3.83990903526e-17\n",
      "  ' condition number: {}'.format(rcond), RuntimeWarning)\n",
      "/Users/trininh/anaconda/lib/python2.7/site-packages/scipy/linalg/basic.py:223: RuntimeWarning: scipy.linalg.solve\n",
      "Ill-conditioned matrix detected. Result is not guaranteed to be accurate.\n",
      "Reciprocal condition number: 3.68353609246e-17\n",
      "  ' condition number: {}'.format(rcond), RuntimeWarning)\n",
      "/Users/trininh/anaconda/lib/python2.7/site-packages/scipy/linalg/basic.py:223: RuntimeWarning: scipy.linalg.solve\n",
      "Ill-conditioned matrix detected. Result is not guaranteed to be accurate.\n",
      "Reciprocal condition number: 3.90756649658e-17\n",
      "  ' condition number: {}'.format(rcond), RuntimeWarning)\n",
      "/Users/trininh/anaconda/lib/python2.7/site-packages/scipy/linalg/basic.py:223: RuntimeWarning: scipy.linalg.solve\n",
      "Ill-conditioned matrix detected. Result is not guaranteed to be accurate.\n",
      "Reciprocal condition number: 4.18359153891e-17\n",
      "  ' condition number: {}'.format(rcond), RuntimeWarning)\n",
      "/Users/trininh/anaconda/lib/python2.7/site-packages/scipy/linalg/basic.py:223: RuntimeWarning: scipy.linalg.solve\n",
      "Ill-conditioned matrix detected. Result is not guaranteed to be accurate.\n",
      "Reciprocal condition number: 4.49362900927e-17\n",
      "  ' condition number: {}'.format(rcond), RuntimeWarning)\n",
      "/Users/trininh/anaconda/lib/python2.7/site-packages/scipy/linalg/basic.py:223: RuntimeWarning: scipy.linalg.solve\n",
      "Ill-conditioned matrix detected. Result is not guaranteed to be accurate.\n",
      "Reciprocal condition number: 3.20628297026e-17\n",
      "  ' condition number: {}'.format(rcond), RuntimeWarning)\n",
      "/Users/trininh/anaconda/lib/python2.7/site-packages/scipy/linalg/basic.py:223: RuntimeWarning: scipy.linalg.solve\n",
      "Ill-conditioned matrix detected. Result is not guaranteed to be accurate.\n",
      "Reciprocal condition number: 2.91629618908e-17\n",
      "  ' condition number: {}'.format(rcond), RuntimeWarning)\n",
      "/Users/trininh/anaconda/lib/python2.7/site-packages/scipy/linalg/basic.py:223: RuntimeWarning: scipy.linalg.solve\n",
      "Ill-conditioned matrix detected. Result is not guaranteed to be accurate.\n",
      "Reciprocal condition number: 3.58000258333e-17\n",
      "  ' condition number: {}'.format(rcond), RuntimeWarning)\n",
      "/Users/trininh/anaconda/lib/python2.7/site-packages/scipy/linalg/basic.py:223: RuntimeWarning: scipy.linalg.solve\n",
      "Ill-conditioned matrix detected. Result is not guaranteed to be accurate.\n",
      "Reciprocal condition number: 2.75621651553e-17\n",
      "  ' condition number: {}'.format(rcond), RuntimeWarning)\n",
      "/Users/trininh/anaconda/lib/python2.7/site-packages/scipy/linalg/basic.py:223: RuntimeWarning: scipy.linalg.solve\n",
      "Ill-conditioned matrix detected. Result is not guaranteed to be accurate.\n",
      "Reciprocal condition number: 2.96295175982e-17\n",
      "  ' condition number: {}'.format(rcond), RuntimeWarning)\n",
      "/Users/trininh/anaconda/lib/python2.7/site-packages/scipy/linalg/basic.py:223: RuntimeWarning: scipy.linalg.solve\n",
      "Ill-conditioned matrix detected. Result is not guaranteed to be accurate.\n",
      "Reciprocal condition number: 3.23867058862e-17\n",
      "  ' condition number: {}'.format(rcond), RuntimeWarning)\n",
      "/Users/trininh/anaconda/lib/python2.7/site-packages/scipy/linalg/basic.py:223: RuntimeWarning: scipy.linalg.solve\n",
      "Ill-conditioned matrix detected. Result is not guaranteed to be accurate.\n",
      "Reciprocal condition number: 2.5497649397e-17\n",
      "  ' condition number: {}'.format(rcond), RuntimeWarning)\n",
      "/Users/trininh/anaconda/lib/python2.7/site-packages/scipy/linalg/basic.py:223: RuntimeWarning: scipy.linalg.solve\n",
      "Ill-conditioned matrix detected. Result is not guaranteed to be accurate.\n",
      "Reciprocal condition number: 2.30836987883e-17\n",
      "  ' condition number: {}'.format(rcond), RuntimeWarning)\n",
      "/Users/trininh/anaconda/lib/python2.7/site-packages/scipy/linalg/basic.py:223: RuntimeWarning: scipy.linalg.solve\n",
      "Ill-conditioned matrix detected. Result is not guaranteed to be accurate.\n",
      "Reciprocal condition number: 2.39710600085e-17\n",
      "  ' condition number: {}'.format(rcond), RuntimeWarning)\n",
      "/Users/trininh/anaconda/lib/python2.7/site-packages/scipy/linalg/basic.py:223: RuntimeWarning: scipy.linalg.solve\n",
      "Ill-conditioned matrix detected. Result is not guaranteed to be accurate.\n",
      "Reciprocal condition number: 1.86172398634e-17\n",
      "  ' condition number: {}'.format(rcond), RuntimeWarning)\n",
      "/Users/trininh/anaconda/lib/python2.7/site-packages/scipy/linalg/basic.py:223: RuntimeWarning: scipy.linalg.solve\n",
      "Ill-conditioned matrix detected. Result is not guaranteed to be accurate.\n",
      "Reciprocal condition number: 2.15716416753e-17\n",
      "  ' condition number: {}'.format(rcond), RuntimeWarning)\n",
      "/Users/trininh/anaconda/lib/python2.7/site-packages/scipy/linalg/basic.py:223: RuntimeWarning: scipy.linalg.solve\n",
      "Ill-conditioned matrix detected. Result is not guaranteed to be accurate.\n",
      "Reciprocal condition number: 2.1153083289e-17\n",
      "  ' condition number: {}'.format(rcond), RuntimeWarning)\n",
      "/Users/trininh/anaconda/lib/python2.7/site-packages/scipy/linalg/basic.py:223: RuntimeWarning: scipy.linalg.solve\n",
      "Ill-conditioned matrix detected. Result is not guaranteed to be accurate.\n",
      "Reciprocal condition number: 1.47580701086e-17\n",
      "  ' condition number: {}'.format(rcond), RuntimeWarning)\n",
      "/Users/trininh/anaconda/lib/python2.7/site-packages/scipy/linalg/basic.py:223: RuntimeWarning: scipy.linalg.solve\n",
      "Ill-conditioned matrix detected. Result is not guaranteed to be accurate.\n",
      "Reciprocal condition number: 1.31275989101e-17\n",
      "  ' condition number: {}'.format(rcond), RuntimeWarning)\n",
      "/Users/trininh/anaconda/lib/python2.7/site-packages/scipy/linalg/basic.py:223: RuntimeWarning: scipy.linalg.solve\n",
      "Ill-conditioned matrix detected. Result is not guaranteed to be accurate.\n",
      "Reciprocal condition number: 1.06121178475e-17\n",
      "  ' condition number: {}'.format(rcond), RuntimeWarning)\n",
      "/Users/trininh/anaconda/lib/python2.7/site-packages/scipy/linalg/basic.py:223: RuntimeWarning: scipy.linalg.solve\n",
      "Ill-conditioned matrix detected. Result is not guaranteed to be accurate.\n",
      "Reciprocal condition number: 1.32181495047e-17\n",
      "  ' condition number: {}'.format(rcond), RuntimeWarning)\n",
      "/Users/trininh/anaconda/lib/python2.7/site-packages/scipy/linalg/basic.py:223: RuntimeWarning: scipy.linalg.solve\n",
      "Ill-conditioned matrix detected. Result is not guaranteed to be accurate.\n",
      "Reciprocal condition number: 2.09389349788e-18\n",
      "  ' condition number: {}'.format(rcond), RuntimeWarning)\n",
      "/Users/trininh/anaconda/lib/python2.7/site-packages/scipy/linalg/basic.py:223: RuntimeWarning: scipy.linalg.solve\n",
      "Ill-conditioned matrix detected. Result is not guaranteed to be accurate.\n",
      "Reciprocal condition number: 4.20529393677e-18\n",
      "  ' condition number: {}'.format(rcond), RuntimeWarning)\n",
      "/Users/trininh/anaconda/lib/python2.7/site-packages/scipy/linalg/basic.py:223: RuntimeWarning: scipy.linalg.solve\n",
      "Ill-conditioned matrix detected. Result is not guaranteed to be accurate.\n",
      "Reciprocal condition number: 8.73275444476e-18\n",
      "  ' condition number: {}'.format(rcond), RuntimeWarning)\n",
      "/Users/trininh/anaconda/lib/python2.7/site-packages/scipy/linalg/basic.py:223: RuntimeWarning: scipy.linalg.solve\n",
      "Ill-conditioned matrix detected. Result is not guaranteed to be accurate.\n",
      "Reciprocal condition number: 2.78159642889e-18\n",
      "  ' condition number: {}'.format(rcond), RuntimeWarning)\n",
      "/Users/trininh/anaconda/lib/python2.7/site-packages/scipy/linalg/basic.py:223: RuntimeWarning: scipy.linalg.solve\n",
      "Ill-conditioned matrix detected. Result is not guaranteed to be accurate.\n",
      "Reciprocal condition number: 1.6421652871e-17\n",
      "  ' condition number: {}'.format(rcond), RuntimeWarning)\n"
     ]
    },
    {
     "data": {
      "image/png": "[encoded data removed]",
      "text/plain": [
       "<matplotlib.figure.Figure at 0x11effefd0>"
      ]
     },
     "metadata": {},
     "output_type": "display_data"
    }
   ],
   "source": [
    "print(__doc__)\n",
    "\n",
    "import matplotlib.pyplot as plt\n",
    "import numpy as np\n",
    "\n",
    "from sklearn.datasets import make_regression\n",
    "from sklearn.linear_model import Ridge\n",
    "from sklearn.metrics import mean_squared_error\n",
    "\n",
    "r = Ridge()\n",
    "\n",
    "#X, y, w = make_regression(n_samples=10, n_features=10, coef=True,random_state=1, bias=3.5)\n",
    "\n",
    "coefs5 = []\n",
    "errors5 = []\n",
    "\n",
    "alphas = np.logspace(-6, 6, 200)\n",
    "\n",
    "# Train the model with different regularisation strengths\n",
    "for a in alphas:\n",
    "    r.set_params(alpha=a)\n",
    "    r.fit(x14_16th_train, y12_train)\n",
    "    coefs.append(r.coef_)\n",
    "    errors.append(mean_squared_error(r.predict(x14_16th_train), y12_train))\n",
    "\n",
    "# Display results\n",
    "plt.figure(figsize=(20, 6))\n",
    "\n",
    "plt.subplot(121)\n",
    "ax = plt.gca()\n",
    "ax.plot(alphas, coefs)\n",
    "ax.set_xscale('log')\n",
    "plt.xlabel('alpha')\n",
    "plt.ylabel('weights')\n",
    "plt.title('Ridge coefficients as a function of the regularization')\n",
    "plt.axis('tight')\n",
    "\n",
    "\n",
    "plt.show()"
   ]
  },
  {
   "cell_type": "code",
   "execution_count": 127,
   "metadata": {},
   "outputs": [
    {
     "name": "stdout",
     "output_type": "stream",
     "text": [
      "RMSE of training data: 247282.847174\n",
      "RMSE of validation set: 245546.388050\n",
      "RMSE of test data: 266982.447057\n"
     ]
    }
   ],
   "source": [
    "\n",
    "print 'RMSE of training data: %f' %np.sqrt(mse(x1_16th, y9, coefs2[1]))\n",
    "print 'RMSE of validation set: %f' %np.sqrt(mse(x10_val_16th, y9_val, coefs2[1]))\n",
    "print 'RMSE of test data: %f' %np.sqrt(mse(x10_test_16th, y9_test, coefs2[1]))"
   ]
  },
  {
   "cell_type": "markdown",
   "metadata": {
    "collapsed": true
   },
   "source": [
    "### 2-7\n",
    "DataFrames: train_set2, validation_set2 and test_set2 <br />\n",
    "function mse(x, y, w) <br />\n",
    "- train set: x10_16th\n",
    "- validation set: x10_val_16th\n",
    "- test set: x10_test_16th\n",
    "- penalty=[0.001, 0.1, 1, 10]"
   ]
  },
  {
   "cell_type": "code",
   "execution_count": 134,
   "metadata": {
    "collapsed": true
   },
   "outputs": [],
   "source": [
    "print(__doc__)\n",
    "\n",
    "import matplotlib.pyplot as plt\n",
    "import numpy as np\n",
    "\n",
    "from sklearn.datasets import make_regression\n",
    "from sklearn.linear_model import Ridge\n",
    "from sklearn.metrics import mean_squared_error\n",
    "\n",
    "r = Ridge()\n",
    "\n",
    "#X, y, w = make_regression(n_samples=10, n_features=10, coef=True,random_state=1, bias=3.5)\n",
    "\n",
    "coefs = []\n",
    "errors = []\n",
    "\n",
    "alphas = np.logspace(-6, 6, 200)\n",
    "\n",
    "# Train the model with different regularisation strengths\n",
    "for a in alphas:\n",
    "    r.set_params(alpha=a)\n",
    "    r.fit(x12_train_norm, y12_train)\n",
    "    coefs.append(r.coef_)\n",
    "    errors.append(mean_squared_error(r.predict(x12_train_norm), y12_train))\n",
    "\n",
    "# Display results\n",
    "plt.figure(figsize=(20, 6))\n",
    "\n",
    "plt.subplot(121)\n",
    "ax = plt.gca()\n",
    "ax.plot(alphas, coefs)\n",
    "ax.set_xscale('log')\n",
    "plt.xlabel('alpha')\n",
    "plt.ylabel('weights')\n",
    "plt.title('Ridge coefficients as a function of the regularization')\n",
    "plt.axis('tight')\n",
    "\n",
    "\n",
    "plt.show()"
   ]
  },
  {
   "cell_type": "code",
   "execution_count": 133,
   "metadata": {},
   "outputs": [
    {
     "name": "stdout",
     "output_type": "stream",
     "text": [
      "RMSE of training data: 684224.821310\n",
      "RMSE of validation set: 632689.565755\n",
      "RMSE of test data: 665786.694837\n"
     ]
    }
   ],
   "source": [
    "print 'RMSE of training data: %f' %np.sqrt(mse(x10_16th, y9, coefs3[10]))\n",
    "print 'RMSE of validation set: %f' %np.sqrt(mse(x10_val_16th, y9_val, coefs3[10]))\n",
    "print 'RMSE of test data: %f' %np.sqrt(mse(x10_test_16th, y9_test, coefs3[10]))"
   ]
  },
  {
   "cell_type": "markdown",
   "metadata": {},
   "source": [
    "### 3-1"
   ]
  },
  {
   "cell_type": "code",
   "execution_count": 163,
   "metadata": {
    "collapsed": true
   },
   "outputs": [],
   "source": [
    "df3 = pd.read_csv('ex2data3.csv', index_col=0)"
   ]
  },
  {
   "cell_type": "code",
   "execution_count": 164,
   "metadata": {
    "collapsed": true
   },
   "outputs": [],
   "source": [
    "def split_train_test(X, test_ratio):\n",
    "    np.random.seed(1)\n",
    "    shuffled_indices = np.random.permutation(len(X))\n",
    "    test_set_size = int(len(X) * test_ratio)\n",
    "    test_indices = shuffled_indices[:test_set_size]\n",
    "    train_indices = shuffled_indices[test_set_size:]\n",
    "    return X.iloc[train_indices], X.iloc[test_indices]"
   ]
  },
  {
   "cell_type": "code",
   "execution_count": 165,
   "metadata": {
    "collapsed": true
   },
   "outputs": [],
   "source": [
    "train_set3, test_set3 = split_train_test(df3, 0.2)"
   ]
  },
  {
   "cell_type": "code",
   "execution_count": 168,
   "metadata": {},
   "outputs": [],
   "source": [
    "train_set3, val_set3 = split_train_test(train_set3, 0.2)"
   ]
  },
  {
   "cell_type": "code",
   "execution_count": 169,
   "metadata": {},
   "outputs": [],
   "source": [
    "from sklearn.preprocessing import StandardScaler\n",
    "scaler = StandardScaler()\n",
    "norm_train = scaler.fit_transform(train_set3.iloc[:, 0:8])\n",
    "x12_train_norm = pd.DataFrame(norm_train, columns=['MedInc', 'HouseAge', 'AveRooms', 'AveBedrms','Population','AveOccup','Latitude', 'Longitude' ])\n",
    "norm_val = scaler.fit_transform(val_set3.iloc[:, 0:8])\n",
    "x12_val_norm = pd.DataFrame(norm_val, columns=['MedInc', 'HouseAge', 'AveRooms', 'AveBedrms','Population','AveOccup','Latitude', 'Longitude' ])\n",
    "norm_test = scaler.fit_transform(test_set3.iloc[:, 0:8])\n",
    "x12_test_norm = pd.DataFrame(norm_test, columns=['MedInc', 'HouseAge', 'AveRooms', 'AveBedrms','Population','AveOccup','Latitude', 'Longitude' ])"
   ]
  },
  {
   "cell_type": "code",
   "execution_count": 170,
   "metadata": {
    "collapsed": true
   },
   "outputs": [],
   "source": [
    "y12_train = train_set3.iloc[:, 8]\n",
    "y12_val = val_set3.iloc[:, 8]\n",
    "y12_test = test_set3.iloc[:, 8]"
   ]
  },
  {
   "cell_type": "code",
   "execution_count": 171,
   "metadata": {},
   "outputs": [
    {
     "name": "stdout",
     "output_type": "stream",
     "text": [
      "Automatically created module for IPython interactive environment\n"
     ]
    },
    {
     "data": {
      "image/png": "[encoded data removed]",
      "text/plain": [
       "<matplotlib.figure.Figure at 0x11f148610>"
      ]
     },
     "metadata": {},
     "output_type": "display_data"
    }
   ],
   "source": [
    "print(__doc__)\n",
    "\n",
    "import matplotlib.pyplot as plt\n",
    "import numpy as np\n",
    "\n",
    "from sklearn.datasets import make_regression\n",
    "from sklearn.linear_model import Ridge\n",
    "from sklearn.metrics import mean_squared_error\n",
    "\n",
    "r = Ridge()\n",
    "\n",
    "#X, y, w = make_regression(n_samples=10, n_features=10, coef=True,random_state=1, bias=3.5)\n",
    "\n",
    "coefs = []\n",
    "errors = []\n",
    "\n",
    "alphas = np.logspace(-6, 6, 200)\n",
    "\n",
    "# Train the model with different regularisation strengths\n",
    "for a in alphas:\n",
    "    r.set_params(alpha=a)\n",
    "    r.fit(x12_train_norm, y12_train)\n",
    "    coefs.append(r.coef_)\n",
    "    errors.append(mean_squared_error(r.predict(x12_train_norm), y12_train))\n",
    "\n",
    "# Display results\n",
    "plt.figure(figsize=(20, 6))\n",
    "\n",
    "plt.subplot(121)\n",
    "ax = plt.gca()\n",
    "ax.plot(alphas, coefs)\n",
    "ax.set_xscale('log')\n",
    "plt.xlabel('alpha')\n",
    "plt.ylabel('weights')\n",
    "plt.title('Ridge coefficients as a function of the regularization')\n",
    "plt.axis('tight')\n",
    "\n",
    "\n",
    "plt.show()"
   ]
  },
  {
   "cell_type": "code",
   "execution_count": 172,
   "metadata": {},
   "outputs": [
    {
     "name": "stdout",
     "output_type": "stream",
     "text": [
      "Optimized weights:\n",
      "[ 0.85382285  0.11984034 -0.29811102  0.30509361 -0.00737609 -0.043086\n",
      " -0.88733431 -0.85652349]\n",
      "RMSE train set: 0.727765\n",
      "RMSE validation set: 0.710077\n",
      "RMSE test set: 0.721643\n"
     ]
    }
   ],
   "source": [
    "r.set_params(alpha=10)\n",
    "r.fit(x12_val_norm, y12_val)\n",
    "print 'Optimized weights:'\n",
    "print r.coef_\n",
    "print 'RMSE train set: %f' %np.sqrt(mean_squared_error(r.predict(x12_train_norm), y12_train))\n",
    "print 'RMSE validation set: %f' %np.sqrt(mean_squared_error(r.predict(x12_val_norm), y12_val))\n",
    "print 'RMSE test set: %f' %np.sqrt(mean_squared_error(r.predict(x12_test_norm), y12_test))"
   ]
  },
  {
   "cell_type": "markdown",
   "metadata": {},
   "source": [
    "### 3-2"
   ]
  },
  {
   "cell_type": "code",
   "execution_count": 276,
   "metadata": {},
   "outputs": [
    {
     "name": "stdout",
     "output_type": "stream",
     "text": [
      "Automatically created module for IPython interactive environment\n"
     ]
    },
    {
     "data": {
      "image/png": "[encoded data removed]",
      "text/plain": [
       "<matplotlib.figure.Figure at 0x120cb84d0>"
      ]
     },
     "metadata": {},
     "output_type": "display_data"
    }
   ],
   "source": [
    "print(__doc__)\n",
    "\n",
    "import matplotlib.pyplot as plt\n",
    "import numpy as np\n",
    "\n",
    "from sklearn.datasets import make_regression\n",
    "from sklearn.linear_model import Lasso\n",
    "from sklearn.metrics import mean_squared_error\n",
    "\n",
    "clf = Lasso()\n",
    "\n",
    "#X, y, w = make_regression(n_samples=10, n_features=10, coef=True,random_state=1, bias=3.5)\n",
    "\n",
    "coefs = []\n",
    "errors = []\n",
    "\n",
    "alphas = np.logspace(-6, 2, 200)\n",
    "\n",
    "# Train the model with different regularisation strengths\n",
    "for a in alphas:\n",
    "    clf.set_params(alpha=a)\n",
    "    clf.fit(x12_train_norm, y12_train)\n",
    "    coefs.append(clf.coef_)\n",
    "    errors.append(mean_squared_error(clf.predict(x12_train_norm), y12_train))\n",
    "\n",
    "# Display results\n",
    "plt.figure(figsize=(20, 6))\n",
    "\n",
    "plt.subplot(121)\n",
    "ax = plt.gca()\n",
    "ax.plot(alphas, coefs)\n",
    "ax.set_xscale('log')\n",
    "plt.xlabel('alpha')\n",
    "plt.ylabel('weights')\n",
    "plt.title('Ridge coefficients as a function of the regularization')\n",
    "plt.axis('tight')\n",
    "\n",
    "plt.subplot(122)\n",
    "ax = plt.gca()\n",
    "ax.plot(alphas, errors)\n",
    "ax.set_xscale('log')\n",
    "plt.xlabel('alpha')\n",
    "plt.ylabel('error')\n",
    "plt.title('Coefficient error as a function of the regularization')\n",
    "plt.axis('tight')\n",
    "\n",
    "plt.show()"
   ]
  },
  {
   "cell_type": "code",
   "execution_count": 277,
   "metadata": {},
   "outputs": [
    {
     "name": "stdout",
     "output_type": "stream",
     "text": [
      "Optimized weights:\n",
      "[ 0.83151622  0.1531012  -0.21985478  0.21958996  0.03006201 -0.17249427\n",
      " -0.82220696 -0.79020261]\n",
      "RMSE train set: 0.750461\n",
      "RMSE validation set: 0.669909\n",
      "RMSE test set: 0.707832\n"
     ]
    }
   ],
   "source": [
    "clf.set_params(alpha=10**(-4))\n",
    "clf.fit(x12_val_norm, y12_val)\n",
    "print 'Optimized weights:'\n",
    "print clf.coef_\n",
    "print 'RMSE train set: %f' %np.sqrt(mean_squared_error(clf.predict(x12_train_norm), y12_train))\n",
    "print 'RMSE validation set: %f' %np.sqrt(mean_squared_error(clf.predict(x12_val_norm), y12_val))\n",
    "print 'RMSE test set: %f' %np.sqrt(mean_squared_error(clf.predict(x12_test_norm), y12_test))"
   ]
  },
  {
   "cell_type": "markdown",
   "metadata": {},
   "source": [
    "### 3-3"
   ]
  },
  {
   "cell_type": "code",
   "execution_count": 463,
   "metadata": {
    "collapsed": true
   },
   "outputs": [],
   "source": [
    "import tensorflow as tf\n",
    "\n",
    "x12_train_norm.insert(0, 'Ones', 1)\n",
    "x12_val_norm.insert(0, 'Ones', 1)\n",
    "x12_test_norm.insert(0, 'Ones', 1)"
   ]
  },
  {
   "cell_type": "code",
   "execution_count": 464,
   "metadata": {
    "collapsed": true
   },
   "outputs": [],
   "source": [
    "X = tf.constant(x12_train_norm.values, dtype=tf.float32, name='X')\n",
    "X_val = tf.constant(x12_val_norm.values, dtype=tf.float32, name='X_val')\n",
    "X_test = tf.constant(x12_test_norm.values, dtype=tf.float32, name='X_test')"
   ]
  },
  {
   "cell_type": "code",
   "execution_count": 467,
   "metadata": {
    "collapsed": true
   },
   "outputs": [],
   "source": [
    "y = tf.constant(y12_train.values.reshape(-1,1), dtype=tf.float32, name='y')\n",
    "y_val = tf.constant(y12_val.values.reshape(-1,1), dtype=tf.float32, name='y_val')\n",
    "y_test = tf.constant(y12_test.values.reshape(-1,1), dtype=tf.float32, name='y_test')"
   ]
  },
  {
   "cell_type": "code",
   "execution_count": 468,
   "metadata": {
    "collapsed": true
   },
   "outputs": [],
   "source": [
    "m, n = x12_train_norm.shape"
   ]
  },
  {
   "cell_type": "code",
   "execution_count": 493,
   "metadata": {
    "collapsed": true
   },
   "outputs": [],
   "source": [
    "theta = tf.Variable(tf.random_uniform([n,1],-1.0, 1.0), name=\"theta\")\n",
    "y_pred = tf.matmul(X, theta, name='Predictions')\n",
    "error = y_pred - y\n",
    "rmse = tf.sqrt(tf.reduce_mean(tf.square(error)), name='rmse')\n",
    "scale = np.array([0.001,0.01,1, 10])\n",
    "learning_rate = 0.01\n",
    "base_loss = tf.reduce_mean(tf.square(error), name='loss')\n",
    "reg_loss = tf.reduce_sum(tf.square(theta))\n",
    "loss = tf.add(base_loss,scale[3]/m * reg_loss)\n",
    "gradients = 2/m * tf.add(tf.matmul(tf.transpose(X), error), scale[3] * theta)\n",
    "training_op = tf.assign(theta, theta - learning_rate * gradients)"
   ]
  },
  {
   "cell_type": "code",
   "execution_count": 494,
   "metadata": {
    "collapsed": true
   },
   "outputs": [],
   "source": [
    "iterations = 1500\n",
    "init = tf.global_variables_initializer()\n",
    "sess = tf.Session()\n",
    "sess.run(init)"
   ]
  },
  {
   "cell_type": "code",
   "execution_count": 495,
   "metadata": {
    "collapsed": true
   },
   "outputs": [],
   "source": [
    "\n",
    "for _ in range(iterations):\n",
    "    sess.run(gradients)\n",
    "    sess.run(training_op)\n",
    "#     sess.run(y_pred)\n",
    "#     sess.run(error)\n",
    "#     sess.run(theta)"
   ]
  },
  {
   "cell_type": "code",
   "execution_count": 508,
   "metadata": {},
   "outputs": [
    {
     "name": "stdout",
     "output_type": "stream",
     "text": [
      "RMSE of training set: 2.186197\n"
     ]
    }
   ],
   "source": [
    "print 'RMSE of training set: %f' %sess.run(tf.sqrt(tf.reduce_mean(tf.square(error)), name='rmse'))"
   ]
  },
  {
   "cell_type": "code",
   "execution_count": 509,
   "metadata": {
    "collapsed": true
   },
   "outputs": [],
   "source": [
    "theta = sess.run(theta)"
   ]
  },
  {
   "cell_type": "code",
   "execution_count": 510,
   "metadata": {},
   "outputs": [
    {
     "data": {
      "text/plain": [
       "array([[ 0.51753187],\n",
       "       [ 0.18181562],\n",
       "       [-0.81341219],\n",
       "       [ 0.71148157],\n",
       "       [-0.97749758],\n",
       "       [ 0.29585624],\n",
       "       [-0.28493333],\n",
       "       [-0.314569  ],\n",
       "       [-0.77385688]], dtype=float32)"
      ]
     },
     "execution_count": 510,
     "metadata": {},
     "output_type": "execute_result"
    }
   ],
   "source": [
    "theta"
   ]
  },
  {
   "cell_type": "code",
   "execution_count": 511,
   "metadata": {},
   "outputs": [
    {
     "name": "stdout",
     "output_type": "stream",
     "text": [
      "RMSE of validation set: 2.151991\n"
     ]
    }
   ],
   "source": [
    "y_pred_val = tf.matmul(X_val, theta, name='Predictions')\n",
    "error1 = y_pred_val - y_val\n",
    "print 'RMSE of validation set: %f' %sess.run(tf.sqrt(tf.reduce_mean(tf.square(error1)), name='rmse'))"
   ]
  },
  {
   "cell_type": "code",
   "execution_count": 512,
   "metadata": {},
   "outputs": [
    {
     "name": "stdout",
     "output_type": "stream",
     "text": [
      "RMSE of test set: 2.136398\n"
     ]
    }
   ],
   "source": [
    "y_pred_test = tf.matmul(X_test, theta, name='Predictions')\n",
    "error2 = y_pred_test - y_test\n",
    "print 'RMSE of test set: %f' %sess.run(tf.sqrt(tf.reduce_mean(tf.square(error2)), name='rmse'))"
   ]
  },
  {
   "cell_type": "code",
   "execution_count": 513,
   "metadata": {
    "collapsed": true
   },
   "outputs": [],
   "source": [
    "sess.close()"
   ]
  },
  {
   "cell_type": "markdown",
   "metadata": {},
   "source": [
    "### 3-4"
   ]
  },
  {
   "cell_type": "code",
   "execution_count": 520,
   "metadata": {
    "collapsed": true
   },
   "outputs": [],
   "source": [
    "theta = tf.Variable(tf.random_uniform([n,1],-1.0, 1.0), name=\"theta\")\n",
    "y_pred = tf.matmul(X, theta, name='Predictions')\n",
    "error3 = y_pred - y\n",
    "rmse = tf.sqrt(tf.reduce_mean(tf.square(error)), name='rmse')\n",
    "scale = np.array([0.0001,0.01,1, 10])\n",
    "learning_rate = 0.01\n",
    "base_loss = tf.reduce_mean(tf.square(error), name='loss')\n",
    "reg_loss = tf.reduce_sum(tf.abs(theta))\n",
    "loss = tf.add(base_loss,scale[0]/m * reg_loss)\n",
    "gradients = 2/m * tf.add(tf.matmul(tf.transpose(X), error3), scale[0] * theta)\n",
    "training_op = tf.assign(theta, theta - learning_rate * gradients)"
   ]
  },
  {
   "cell_type": "code",
   "execution_count": 521,
   "metadata": {
    "collapsed": true
   },
   "outputs": [],
   "source": [
    "iterations = 1500\n",
    "init = tf.global_variables_initializer()\n",
    "sess = tf.Session()\n",
    "sess.run(init)"
   ]
  },
  {
   "cell_type": "code",
   "execution_count": 522,
   "metadata": {
    "collapsed": true
   },
   "outputs": [],
   "source": [
    "for _ in range(iterations):\n",
    "    sess.run(gradients)\n",
    "    sess.run(training_op)"
   ]
  },
  {
   "cell_type": "code",
   "execution_count": 523,
   "metadata": {},
   "outputs": [
    {
     "name": "stdout",
     "output_type": "stream",
     "text": [
      "RMSE of training set: 2.652562\n"
     ]
    }
   ],
   "source": [
    "print 'RMSE of training set: %f' %sess.run(tf.sqrt(tf.reduce_mean(tf.square(error3)), name='rmse'))"
   ]
  },
  {
   "cell_type": "code",
   "execution_count": 524,
   "metadata": {},
   "outputs": [
    {
     "data": {
      "text/plain": [
       "array([[ 0.34745693],\n",
       "       [-0.12198281],\n",
       "       [-0.48904586],\n",
       "       [-0.94119954],\n",
       "       [ 0.91001439],\n",
       "       [ 0.35405111],\n",
       "       [ 0.80015516],\n",
       "       [ 0.33242178],\n",
       "       [ 0.7685771 ]], dtype=float32)"
      ]
     },
     "execution_count": 524,
     "metadata": {},
     "output_type": "execute_result"
    }
   ],
   "source": [
    "theta = sess.run(theta)\n",
    "theta"
   ]
  },
  {
   "cell_type": "code",
   "execution_count": 525,
   "metadata": {},
   "outputs": [
    {
     "name": "stdout",
     "output_type": "stream",
     "text": [
      "RMSE of validation set: 2.761567\n"
     ]
    }
   ],
   "source": [
    "y_pred_val = tf.matmul(X_val, theta, name='Predictions')\n",
    "error4 = y_pred_val - y_val\n",
    "print 'RMSE of validation set: %f' %sess.run(tf.sqrt(tf.reduce_mean(tf.square(error4)), name='rmse'))"
   ]
  },
  {
   "cell_type": "code",
   "execution_count": 527,
   "metadata": {},
   "outputs": [
    {
     "name": "stdout",
     "output_type": "stream",
     "text": [
      "RMSE of test set: 2.783694\n"
     ]
    }
   ],
   "source": [
    "y_pred_test = tf.matmul(X_test, theta, name='Predictions')\n",
    "error5 = y_pred_test - y_test\n",
    "print 'RMSE of test set: %f' %sess.run(tf.sqrt(tf.reduce_mean(tf.square(error5)), name='rmse'))"
   ]
  },
  {
   "cell_type": "code",
   "execution_count": null,
   "metadata": {
    "collapsed": true
   },
   "outputs": [],
   "source": []
  }
 ],
 "metadata": {
  "kernelspec": {
   "display_name": "Python 2",
   "language": "python",
   "name": "python2"
  },
  "language_info": {
   "codemirror_mode": {
    "name": "ipython",
    "version": 2
   },
   "file_extension": ".py",
   "mimetype": "text/x-python",
   "name": "python",
   "nbconvert_exporter": "python",
   "pygments_lexer": "ipython2",
   "version": "2.7.13"
  }
 },
 "nbformat": 4,
 "nbformat_minor": 2
}
