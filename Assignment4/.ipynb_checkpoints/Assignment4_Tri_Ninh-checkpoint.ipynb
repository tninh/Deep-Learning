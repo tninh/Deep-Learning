{
 "cells": [
  {
   "cell_type": "code",
   "execution_count": 21,
   "metadata": {
    "collapsed": true
   },
   "outputs": [],
   "source": [
    "import tensorflow as tf\n",
    "import matplotlib.pyplot as plt\n",
    "import numpy as np\n",
    "import pandas as pd"
   ]
  },
  {
   "cell_type": "code",
   "execution_count": 22,
   "metadata": {
    "collapsed": true
   },
   "outputs": [],
   "source": [
    "df = pd.read_csv('ex4_train.csv', index_col=0)"
   ]
  },
  {
   "cell_type": "code",
   "execution_count": 23,
   "metadata": {
    "collapsed": true
   },
   "outputs": [],
   "source": [
    "y_train = df.iloc[:,400]\n",
    "x_train = df.iloc[:,0:400]"
   ]
  },
  {
   "cell_type": "code",
   "execution_count": 24,
   "metadata": {
    "collapsed": true
   },
   "outputs": [],
   "source": [
    "x_train = np.matrix(x_train)\n",
    "y_train = np.matrix(y_train).T"
   ]
  },
  {
   "cell_type": "code",
   "execution_count": 25,
   "metadata": {
    "collapsed": true
   },
   "outputs": [],
   "source": [
    "indices = y_train\n",
    "depth = 10\n",
    "a = tf.one_hot(indices, depth, on_value = 1.0, off_value = 0.0, axis=1)"
   ]
  },
  {
   "cell_type": "code",
   "execution_count": 26,
   "metadata": {
    "collapsed": true
   },
   "outputs": [],
   "source": [
    "sess = tf.Session()\n",
    "y_train_encoded = sess.run(a)"
   ]
  },
  {
   "cell_type": "code",
   "execution_count": 27,
   "metadata": {
    "collapsed": true
   },
   "outputs": [],
   "source": [
    "y_train_encoded = np.matrix(y_train_encoded)"
   ]
  },
  {
   "cell_type": "code",
   "execution_count": 28,
   "metadata": {
    "collapsed": true
   },
   "outputs": [],
   "source": [
    "df1 = pd.read_csv('ex4_test.csv', index_col=0)"
   ]
  },
  {
   "cell_type": "code",
   "execution_count": 29,
   "metadata": {
    "collapsed": true
   },
   "outputs": [],
   "source": [
    "y_test = df1.iloc[:,400]\n",
    "x_test = df1.iloc[:,0:400]\n",
    "x_test = np.matrix(x_test)\n",
    "y_test = np.matrix(y_test).T\n",
    "indices = y_test\n",
    "depth = 10\n",
    "b = tf.one_hot(indices, depth, on_value = 1.0, off_value = 0.0, axis=1)\n",
    "sess = tf.Session()\n",
    "y_test_encoded = sess.run(b)\n",
    "y_test_encoded = np.matrix(y_test_encoded)"
   ]
  },
  {
   "cell_type": "code",
   "execution_count": 30,
   "metadata": {
    "collapsed": true
   },
   "outputs": [],
   "source": [
    "def accuracy(predictions, labels):\n",
    "#     return (100.0 * np.sum(np.argmax(predictions, 1) == np.argmax(labels, 1)) / predictions.shape[0])\n",
    "    correct = [1 if a == b else 0 for (a, b) in zip(np.array(labels), predictions)]  \n",
    "    accuracy = (float(sum(map(int, correct))) / float(len(correct)))  \n",
    "    return accuracy * 100"
   ]
  },
  {
   "cell_type": "markdown",
   "metadata": {},
   "source": [
    "__Define Functions, neural network model and predictions__\n",
    "- Because of the structure of tensorflow, I defined all functions (built-in by TensorFlow) in one graph and use those functions to build a model in the same graph"
   ]
  },
  {
   "cell_type": "code",
   "execution_count": 31,
   "metadata": {
    "collapsed": true
   },
   "outputs": [],
   "source": [
    "hidden_nodes_1 = 150\n",
    "hidden_nodes_2 = 50\n",
    "graph = tf.Graph()\n",
    "with graph.as_default():\n",
    "    tf_train_data = tf.placeholder(dtype=tf.float32, shape=(x_train.shape[0], x_train.shape[1]))\n",
    "    tf_train_labels = tf.placeholder(dtype=tf.float32, shape=(y_train_encoded.shape[0], y_train_encoded.shape[1]))\n",
    "    tf_test_data = tf.constant(x_test, dtype=tf.float32)\n",
    "    initializers = tf.contrib.layers.xavier_initializer(seed=1, dtype=tf.float32)\n",
    "    weights_1 = tf.Variable(initializers([x_train.shape[1], hidden_nodes_1]))\n",
    "    bias_1 = tf.Variable(tf.zeros([hidden_nodes_1], dtype=tf.float32))\n",
    "    weights_2 = tf.Variable(initializers([hidden_nodes_1,hidden_nodes_2]))\n",
    "    bias_2 = tf.Variable(tf.zeros([hidden_nodes_2]))\n",
    "    weights_3 = tf.Variable(initializers([hidden_nodes_2, 10]))\n",
    "    bias_3 = tf.Variable(tf.zeros([10]))\n",
    "    \n",
    "    logits_1 = tf.matmul(tf_train_data, weights_1) + bias_1\n",
    "    activation_1 = tf.nn.relu(logits_1)\n",
    "    keep_prob = tf.placeholder(tf.float32)\n",
    "    layer_1_dropout = tf.nn.dropout(activation_1, keep_prob)\n",
    "    \n",
    "    logits_2 = tf.matmul(layer_1_dropout, weights_2) + bias_2\n",
    "    activation_2 = tf.nn.relu(logits_2)\n",
    "    layer_2_dropout = tf.nn.dropout(activation_2, keep_prob)\n",
    "    \n",
    "    logits_3 = tf.matmul(layer_2_dropout, weights_3) + bias_3\n",
    "    activation_3 = tf.sigmoid(logits_3)\n",
    "    cost = tf.reduce_mean(tf.nn.softmax_cross_entropy_with_logits(logits = activation_3, labels = tf_train_labels))\n",
    "    \n",
    "    global_step = tf.Variable(0)\n",
    "    \n",
    "    starting_learning_rate = 0.001\n",
    "    #learning_rate = tf.train.exponential_decay(starting_learning_rate, global_step, 100000, 0.96, staircase=True)\n",
    "    optimizer = tf.train.AdamOptimizer(starting_learning_rate).minimize(cost, global_step = global_step)\n",
    "    \n",
    "    train_predictions = tf.argmax(tf.nn.softmax(activation_3), axis=1)\n",
    "    \n",
    "    logits_test_1 = tf.matmul(tf_test_data, weights_1) + bias_1\n",
    "    activation_test_1 = tf.nn.relu(logits_test_1)\n",
    "    \n",
    "    logits_test_2 = tf.matmul(activation_test_1, weights_2) + bias_2\n",
    "    activation_test_2 = tf.nn.relu(logits_test_2)\n",
    "    \n",
    "    \n",
    "    logits_test_3 = tf.matmul(activation_test_2, weights_3) + bias_3\n",
    "    activation_test_3 = tf.nn.sigmoid(logits_test_3)\n",
    "    test_prediction = tf.argmax(tf.nn.softmax(logits_test_3), axis=1)"
   ]
  },
  {
   "cell_type": "markdown",
   "metadata": {},
   "source": [
    "- The data has been splitted so I took the whole train set for training to improve the accuracy and test with the test set\n",
    "- Predictions is made right after the training process for each iterations to calculate cost and accuracy"
   ]
  },
  {
   "cell_type": "code",
   "execution_count": 32,
   "metadata": {
    "collapsed": true
   },
   "outputs": [],
   "source": [
    "train_accuracies = []\n",
    "test_accuracies = []"
   ]
  },
  {
   "cell_type": "code",
   "execution_count": 33,
   "metadata": {},
   "outputs": [
    {
     "name": "stdout",
     "output_type": "stream",
     "text": [
      "Initialized\n",
      "Cost at step 0: 2.3411796093\n",
      "Accuracy training set: 9.3\n",
      "Cost at step 500: 1.68450772762\n",
      "Accuracy training set: 72.3\n",
      "Cost at step 1000: 1.62838160992\n",
      "Accuracy training set: 77.7\n",
      "Accuracy test set:91.5\n"
     ]
    }
   ],
   "source": [
    "num_steps = 1500\n",
    "with tf.Session(graph=graph) as session:\n",
    "    tf.global_variables_initializer().run()\n",
    "    print \"Initialized\"\n",
    "    #k = tf.convert_to_tensor(keep_prob[0], dtype=np.float32)\n",
    "    #k = keep_prob[0]\n",
    "#     keep_prob = [0.1, 0.2, 0.3, 0.4, 0.5, 0.6, 0.7, 0.8, 0.9]\n",
    "#     keep_prob = np.matrix(keep_prob).T\n",
    "    #keep_probs = tf.constant(keep_prob, dtype = tf.float32)\n",
    "    for step in range(num_steps):\n",
    "        feed_dict = {tf_train_data: x_train, tf_train_labels:y_train_encoded, keep_prob:0.2}\n",
    "        _,c, predictions = session.run([optimizer, cost, train_predictions], feed_dict=feed_dict)\n",
    "        if (step % 500 ==0):\n",
    "            print(\"Cost at step {}: {}\".format(step,c))\n",
    "            a = accuracy(predictions, y_train)\n",
    "            print(\"Accuracy training set: {:,.1f}\".format(a))\n",
    "#             print \"Predictions:\"\n",
    "#             print type(predictions)\n",
    "    train_accuracies.append(a)\n",
    "    t = accuracy(test_prediction.eval(), y_test)\n",
    "    print(\"Accuracy test set:{:,.1f}\".format(t))\n",
    "    test_accuracies.append(t)"
   ]
  },
  {
   "cell_type": "code",
   "execution_count": 34,
   "metadata": {},
   "outputs": [
    {
     "name": "stdout",
     "output_type": "stream",
     "text": [
      "Initialized\n",
      "Cost at step 0: 2.3242957592\n",
      "Accuracy training set: 9.9\n",
      "Cost at step 500: 1.5914927721\n",
      "Accuracy training set: 87.3\n",
      "Cost at step 1000: 1.54493260384\n",
      "Accuracy training set: 90.9\n",
      "Accuracy test set:92.3\n"
     ]
    }
   ],
   "source": [
    "with tf.Session(graph=graph) as session:\n",
    "    tf.global_variables_initializer().run()\n",
    "    print \"Initialized\"\n",
    "    #k = tf.convert_to_tensor(keep_prob[0], dtype=np.float32)\n",
    "    #k = keep_prob[0]\n",
    "#     keep_prob = [0.1, 0.2, 0.3, 0.4, 0.5, 0.6, 0.7, 0.8, 0.9]\n",
    "#     keep_prob = np.matrix(keep_prob).T\n",
    "    #keep_probs = tf.constant(keep_prob, dtype = tf.float32)\n",
    "    for step in range(num_steps):\n",
    "        feed_dict = {tf_train_data: x_train, tf_train_labels:y_train_encoded, keep_prob:0.3}\n",
    "        _,c, predictions = session.run([optimizer, cost, train_predictions], feed_dict=feed_dict)\n",
    "        if (step % 500 ==0):\n",
    "            print(\"Cost at step {}: {}\".format(step,c))\n",
    "            a = accuracy(predictions, y_train)\n",
    "            print(\"Accuracy training set: {:,.1f}\".format(a))\n",
    "#             print \"Predictions:\"\n",
    "#             print type(predictions)\n",
    "    train_accuracies.append(a)\n",
    "    t = accuracy(test_prediction.eval(), y_test)\n",
    "    print(\"Accuracy test set:{:,.1f}\".format(t))\n",
    "    test_accuracies.append(t)"
   ]
  },
  {
   "cell_type": "code",
   "execution_count": 35,
   "metadata": {},
   "outputs": [
    {
     "name": "stdout",
     "output_type": "stream",
     "text": [
      "Initialized\n",
      "Cost at step 0: 2.31321048737\n",
      "Accuracy training set: 9.6\n",
      "Cost at step 500: 1.51798522472\n",
      "Accuracy training set: 95.4\n",
      "Cost at step 1000: 1.49210882187\n",
      "Accuracy training set: 97.6\n",
      "Accuracy test set:93.7\n"
     ]
    }
   ],
   "source": [
    "with tf.Session(graph=graph) as session:\n",
    "    tf.global_variables_initializer().run()\n",
    "    print \"Initialized\"\n",
    "    #k = tf.convert_to_tensor(keep_prob[0], dtype=np.float32)\n",
    "    #k = keep_prob[0]\n",
    "#     keep_prob = [0.1, 0.2, 0.3, 0.4, 0.5, 0.6, 0.7, 0.8, 0.9]\n",
    "#     keep_prob = np.matrix(keep_prob).T\n",
    "    #keep_probs = tf.constant(keep_prob, dtype = tf.float32)\n",
    "    for step in range(num_steps):\n",
    "        feed_dict = {tf_train_data: x_train, tf_train_labels:y_train_encoded, keep_prob:0.5}\n",
    "        _,c, predictions = session.run([optimizer, cost, train_predictions], feed_dict=feed_dict)\n",
    "        if (step % 500 ==0):\n",
    "            print(\"Cost at step {}: {}\".format(step,c))\n",
    "            a = accuracy(predictions, y_train)\n",
    "            print(\"Accuracy training set: {:,.1f}\".format(a))\n",
    "#             print \"Predictions:\"\n",
    "#             print type(predictions)\n",
    "    train_accuracies.append(a)\n",
    "    t = accuracy(test_prediction.eval(), y_test)\n",
    "    print(\"Accuracy test set:{:,.1f}\".format(t))\n",
    "    test_accuracies.append(t)"
   ]
  },
  {
   "cell_type": "code",
   "execution_count": 36,
   "metadata": {},
   "outputs": [
    {
     "name": "stdout",
     "output_type": "stream",
     "text": [
      "Initialized\n",
      "Cost at step 0: 2.31097865105\n",
      "Accuracy training set: 10.5\n",
      "Cost at step 500: 1.49243724346\n",
      "Accuracy training set: 97.6\n",
      "Cost at step 1000: 1.4751598835\n",
      "Accuracy training set: 99.1\n",
      "Accuracy test set:94.3\n"
     ]
    }
   ],
   "source": [
    "with tf.Session(graph=graph) as session:\n",
    "    tf.global_variables_initializer().run()\n",
    "    print \"Initialized\"\n",
    "    #k = tf.convert_to_tensor(keep_prob[0], dtype=np.float32)\n",
    "    #k = keep_prob[0]\n",
    "#     keep_prob = [0.1, 0.2, 0.3, 0.4, 0.5, 0.6, 0.7, 0.8, 0.9]\n",
    "#     keep_prob = np.matrix(keep_prob).T\n",
    "    #keep_probs = tf.constant(keep_prob, dtype = tf.float32)\n",
    "    for step in range(num_steps):\n",
    "        feed_dict = {tf_train_data: x_train, tf_train_labels:y_train_encoded, keep_prob:0.7}\n",
    "        _,c, predictions = session.run([optimizer, cost, train_predictions], feed_dict=feed_dict)\n",
    "        if (step % 500 ==0):\n",
    "            print(\"Cost at step {}: {}\".format(step,c))\n",
    "            a = accuracy(predictions, y_train)\n",
    "            print(\"Accuracy training set: {:,.1f}\".format(a))\n",
    "#             print \"Predictions:\"\n",
    "#             print type(predictions)\n",
    "    train_accuracies.append(a)\n",
    "    t = accuracy(test_prediction.eval(), y_test)\n",
    "    print(\"Accuracy test set:{:,.1f}\".format(t))\n",
    "    test_accuracies.append(t)"
   ]
  },
  {
   "cell_type": "code",
   "execution_count": 37,
   "metadata": {},
   "outputs": [
    {
     "name": "stdout",
     "output_type": "stream",
     "text": [
      "Initialized\n",
      "Cost at step 0: 2.30977797508\n",
      "Accuracy training set: 10.0\n",
      "Cost at step 500: 1.4860714674\n",
      "Accuracy training set: 98.0\n",
      "Cost at step 1000: 1.47244811058\n",
      "Accuracy training set: 99.1\n",
      "Accuracy test set:94.3\n"
     ]
    }
   ],
   "source": [
    "with tf.Session(graph=graph) as session:\n",
    "    tf.global_variables_initializer().run()\n",
    "    print \"Initialized\"\n",
    "    #k = tf.convert_to_tensor(keep_prob[0], dtype=np.float32)\n",
    "    #k = keep_prob[0]\n",
    "#     keep_prob = [0.1, 0.2, 0.3, 0.4, 0.5, 0.6, 0.7, 0.8, 0.9]\n",
    "#     keep_prob = np.matrix(keep_prob).T\n",
    "    #keep_probs = tf.constant(keep_prob, dtype = tf.float32)\n",
    "    for step in range(num_steps):\n",
    "        feed_dict = {tf_train_data: x_train, tf_train_labels:y_train_encoded, keep_prob:0.8}\n",
    "        _,c, predictions = session.run([optimizer, cost, train_predictions], feed_dict=feed_dict)\n",
    "        if (step % 500 ==0):\n",
    "            print(\"Cost at step {}: {}\".format(step,c))\n",
    "            a = accuracy(predictions, y_train)\n",
    "            print(\"Accuracy training set: {:,.1f}\".format(a))\n",
    "#             print \"Predictions:\"\n",
    "#             print type(predictions)\n",
    "    train_accuracies.append(a)\n",
    "    t = accuracy(test_prediction.eval(), y_test)\n",
    "    print(\"Accuracy test set:{:,.1f}\".format(t))\n",
    "    test_accuracies.append(t)"
   ]
  },
  {
   "cell_type": "code",
   "execution_count": 38,
   "metadata": {},
   "outputs": [
    {
     "name": "stdout",
     "output_type": "stream",
     "text": [
      "Initialized\n",
      "Cost at step 0: 2.31002449989\n",
      "Accuracy training set: 11.1\n",
      "Cost at step 500: 1.47906553745\n",
      "Accuracy training set: 98.7\n",
      "Cost at step 1000: 1.47021794319\n",
      "Accuracy training set: 99.3\n",
      "Accuracy test set:94.4\n"
     ]
    }
   ],
   "source": [
    "with tf.Session(graph=graph) as session:\n",
    "    tf.global_variables_initializer().run()\n",
    "    print \"Initialized\"\n",
    "    #k = tf.convert_to_tensor(keep_prob[0], dtype=np.float32)\n",
    "    #k = keep_prob[0]\n",
    "#     keep_prob = [0.1, 0.2, 0.3, 0.4, 0.5, 0.6, 0.7, 0.8, 0.9]\n",
    "#     keep_prob = np.matrix(keep_prob).T\n",
    "    #keep_probs = tf.constant(keep_prob, dtype = tf.float32)\n",
    "    for step in range(num_steps):\n",
    "        feed_dict = {tf_train_data: x_train, tf_train_labels:y_train_encoded, keep_prob:0.9}\n",
    "        _,c, predictions = session.run([optimizer, cost, train_predictions], feed_dict=feed_dict)\n",
    "        if (step % 500 ==0):\n",
    "            print(\"Cost at step {}: {}\".format(step,c))\n",
    "            a = accuracy(predictions, y_train)\n",
    "            print(\"Accuracy training set: {:,.1f}\".format(a))\n",
    "#             print \"Predictions:\"\n",
    "#             print type(predictions)\n",
    "    train_accuracies.append(a)\n",
    "    t = accuracy(test_prediction.eval(), y_test)\n",
    "    print(\"Accuracy test set:{:,.1f}\".format(t))\n",
    "    test_accuracies.append(t)"
   ]
  },
  {
   "cell_type": "code",
   "execution_count": 39,
   "metadata": {},
   "outputs": [
    {
     "data": {
      "image/png": "[encoded data removed]",
      "text/plain": [
       "<matplotlib.figure.Figure at 0x127e9ced0>"
      ]
     },
     "metadata": {},
     "output_type": "display_data"
    }
   ],
   "source": [
    "keep_prob = [0.2,0.3, 0.5, 0.7, 0.8, 0.9]\n",
    "plt.plot(keep_prob,test_accuracies, color='green')\n",
    "plt.plot(keep_prob,train_accuracies, color='red')\n",
    "plt.legend(['test_accuracies', 'train_accuracies'], loc='upper left')\n",
    "plt.xlabel('keep_prob')\n",
    "plt.ylabel('Accuracies')\n",
    "plt.show()"
   ]
  },
  {
   "cell_type": "code",
   "execution_count": 57,
   "metadata": {},
   "outputs": [],
   "source": [
    "def topKFrequent(nums, k):\n",
    "        \"\"\"\n",
    "        :type nums: List[int]\n",
    "        :type k: int\n",
    "        :rtype: List[int]\n",
    "        \"\"\"\n",
    "        results = []\n",
    "        counts = []\n",
    "        count = 1\n",
    "        nums_sorted = sorted(nums)\n",
    "        for i in range(0, len(nums_sorted)):\n",
    "            for j in range(1, len(nums)):\n",
    "                if (nums_sorted[i] == nums_sorted[j] and nums_sorted[i] != nums_sorted[i - 1]):\n",
    "                    count = count + 1\n",
    "            counts.append(count)\n",
    "            count = 1\n",
    "                    \n",
    "        #counts.sort()\n",
    "        print counts\n",
    "        print nums[5]\n",
    "        print [i for i, j in enumerate(counts) if j == max(counts)]\n",
    "        for j in range(0, k):\n",
    "            if counts\n",
    "            results.append(nums[len(counts) - j -1])\n",
    "        return results"
   ]
  },
  {
   "cell_type": "code",
   "execution_count": 58,
   "metadata": {},
   "outputs": [
    {
     "name": "stdout",
     "output_type": "stream",
     "text": [
      "[3, 1, 1, 3, 1, 2]\n",
      "3\n",
      "[0, 3]\n"
     ]
    }
   ],
   "source": [
    "results = topKFrequent([1,1,1,2,2,3], 2)"
   ]
  },
  {
   "cell_type": "code",
   "execution_count": 48,
   "metadata": {},
   "outputs": [
    {
     "data": {
      "text/plain": [
       "[3, 2]"
      ]
     },
     "execution_count": 48,
     "metadata": {},
     "output_type": "execute_result"
    }
   ],
   "source": [
    "results"
   ]
  },
  {
   "cell_type": "code",
   "execution_count": null,
   "metadata": {
    "collapsed": true
   },
   "outputs": [],
   "source": []
  }
 ],
 "metadata": {
  "kernelspec": {
   "display_name": "Python 2",
   "language": "python",
   "name": "python2"
  },
  "language_info": {
   "codemirror_mode": {
    "name": "ipython",
    "version": 2
   },
   "file_extension": ".py",
   "mimetype": "text/x-python",
   "name": "python",
   "nbconvert_exporter": "python",
   "pygments_lexer": "ipython2",
   "version": "2.7.13"
  }
 },
 "nbformat": 4,
 "nbformat_minor": 2
}
